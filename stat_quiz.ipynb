{
 "cells": [
  {
   "cell_type": "markdown",
   "metadata": {
    "colab_type": "text",
    "id": "view-in-github"
   },
   "source": [
    "<a href=\"https://colab.research.google.com/github/WoradeeKongthong/DataCamp2020_homework/blob/master/stat_quiz.ipynb\" target=\"_parent\"><img src=\"https://colab.research.google.com/assets/colab-badge.svg\" alt=\"Open In Colab\"/></a>"
   ]
  },
  {
   "cell_type": "code",
   "execution_count": 2,
   "metadata": {
    "colab": {},
    "colab_type": "code",
    "id": "2SsKp4OtKCqa"
   },
   "outputs": [],
   "source": [
    "import numpy as np\n",
    "from scipy.stats import mode\n",
    "import matplotlib.pyplot as plt\n",
    "import math"
   ]
  },
  {
   "cell_type": "markdown",
   "metadata": {
    "colab_type": "text",
    "id": "UuPxWY0hXRFm"
   },
   "source": [
    "# ชุดข้อมูลที่ 1 และ 2"
   ]
  },
  {
   "cell_type": "code",
   "execution_count": 2,
   "metadata": {
    "colab": {
     "base_uri": "https://localhost:8080/",
     "height": 119
    },
    "colab_type": "code",
    "id": "p3kMrLnvIvmz",
    "outputId": "d7a74692-19d2-417d-b6bd-d0ab8828b2be"
   },
   "outputs": [
    {
     "name": "stdout",
     "output_type": "stream",
     "text": [
      "population 1 : [ 10  20  50  70  90 110  15  66  20  33]\n",
      "mean = 48.4\n",
      "mode = [20]\n",
      "median = 41.5\n",
      "variance = 1074.44\n",
      "std = 32.77865158910598\n"
     ]
    }
   ],
   "source": [
    "pop1=np.array([10,20,50,70,90,110,15,66,20,33])\n",
    "mean_pop1 = np.mean(pop1)\n",
    "mode_pop1 = mode(pop1)[0]\n",
    "median_pop1 = np.median(pop1)\n",
    "var_pop1 = np.var(pop1)\n",
    "sd_pop1 = np.std(pop1)\n",
    "print(f\"population 1 : {pop1}\")\n",
    "print(f\"mean = {mean_pop1}\\nmode = {mode_pop1}\\nmedian = {median_pop1}\\n\\\n",
    "variance = {var_pop1}\\nstd = {sd_pop1}\")"
   ]
  },
  {
   "cell_type": "code",
   "execution_count": 3,
   "metadata": {
    "colab": {
     "base_uri": "https://localhost:8080/",
     "height": 119
    },
    "colab_type": "code",
    "id": "HgPU6XRXKM0e",
    "outputId": "6b14ad08-a428-4999-a111-fa5c1cd990f9"
   },
   "outputs": [
    {
     "name": "stdout",
     "output_type": "stream",
     "text": [
      "population 2 : [ 33  16  73  44  67 134  99  11  13  16]\n",
      "mean = 50.6\n",
      "mode = [16]\n",
      "median = 38.5\n",
      "variance = 1579.8400000000001\n",
      "std = 39.747201159326934\n"
     ]
    }
   ],
   "source": [
    "pop2=np.array([33,16,73,44,67,134,99,11,13,16])\n",
    "mean_pop2 = np.mean(pop2)\n",
    "mode_pop2 = mode(pop2)[0]\n",
    "median_pop2 = np.median(pop2)\n",
    "var_pop2 = np.var(pop2)\n",
    "sd_pop2 = np.std(pop2)\n",
    "print(f\"population 2 : {pop2}\")\n",
    "print(f\"mean = {mean_pop2}\\nmode = {mode_pop2}\\nmedian = {median_pop2}\\n\\\n",
    "variance = {var_pop2}\\nstd = {sd_pop2}\")"
   ]
  },
  {
   "cell_type": "code",
   "execution_count": 4,
   "metadata": {
    "colab": {
     "base_uri": "https://localhost:8080/",
     "height": 204
    },
    "colab_type": "code",
    "id": "7c-Ce7FtNyAA",
    "outputId": "5aedff62-8f55-4e40-8bf7-1b8c8c48e58e"
   },
   "outputs": [
    {
     "name": "stdout",
     "output_type": "stream",
     "text": [
      "COV of population 1 = 0.6772448675435121\n",
      "COV of population 2 = 0.7855178094728643\n",
      "Coefficient Of Variation of population1 LESS than of population 2\n",
      "\n",
      "covariance matrix of population 1 and 2 = \n",
      "[[1193.82222222  739.84444444]\n",
      " [ 739.84444444 1755.37777778]]\n",
      "\n",
      "correlation coefficient of population 1 and 2 = \n",
      "[[1.         0.51107577]\n",
      " [0.51107577 1.        ]]\n"
     ]
    }
   ],
   "source": [
    "COV_pop1 = sd_pop1/mean_pop1\n",
    "COV_pop2 = sd_pop2/mean_pop2\n",
    "covariance_matrix = np.cov(pop1,pop2)\n",
    "correlation_coef = np.corrcoef(pop1,pop2)\n",
    "print(f\"COV of population 1 = {COV_pop1}\\nCOV of population 2 = {COV_pop2}\")\n",
    "print(\"Coefficient Of Variation of population1 LESS than of population 2\")\n",
    "print(f\"\\ncovariance matrix of population 1 and 2 = \\n{covariance_matrix}\")\n",
    "print(f\"\\ncorrelation coefficient of population 1 and 2 = \\n{correlation_coef}\")"
   ]
  },
  {
   "cell_type": "markdown",
   "metadata": {
    "colab_type": "text",
    "id": "zARmzrOfXfxo"
   },
   "source": [
    "# ชุดข้อมูลที่ 3"
   ]
  },
  {
   "cell_type": "code",
   "execution_count": 3,
   "metadata": {
    "colab": {
     "base_uri": "https://localhost:8080/",
     "height": 221
    },
    "colab_type": "code",
    "id": "52wd34T3RsC0",
    "outputId": "d748390d-510a-4c0f-9364-4578495cb6b7"
   },
   "outputs": [
    {
     "name": "stdout",
     "output_type": "stream",
     "text": [
      "X : [35.54 49.93 58.09 21.47 30.64 44.78 40.64 51.1  34.77 40.77 43.62 46.72\n",
      " 43.69 34.47 41.49 47.67 24.97 38.58 48.97 39.67 44.29 42.56 48.26 37.1\n",
      " 22.28 39.2  45.73 39.13 32.91 46.75]\n",
      "mean = 40.52633333333334\n",
      "std = 8.287476690096263\n",
      "\n",
      "Standardized value (Z) = \n",
      "[-0.60167087  1.13468394  2.11930209 -2.2994132  -1.19292442  0.51326439\n",
      "  0.01371547  1.2758608  -0.69458214  0.02940179  0.37329416  0.74735253\n",
      "  0.38174064 -0.73078134  0.11627986  0.86198332 -1.87708924 -0.23485234\n",
      "  1.01884651 -0.1033286   0.45413904  0.24539033  0.93317507 -0.41343505\n",
      " -2.20167537 -0.16004067  0.62789518 -0.16848715 -0.91901717  0.75097245]\n"
     ]
    }
   ],
   "source": [
    "X = np.array([35.54,49.93,58.09,21.47,30.64,44.78,40.64,51.1,34.77,40.77,\\\n",
    "              43.62,46.72,43.69,34.47,41.49,47.67,24.97,38.58,48.97,39.67,\\\n",
    "              44.29,42.56,48.26,37.1,22.28,39.2,45.73,39.13,32.91,46.75])\n",
    "X_mean = np.mean(X)\n",
    "X_std = np.std(X)\n",
    "Z = (X-X_mean)/X_std\n",
    "print(f\"X : {X}\\nmean = {X_mean}\\nstd = {X_std}\\n\")\n",
    "print(f\"Standardized value (Z) = \\n{Z}\")"
   ]
  },
  {
   "cell_type": "code",
   "execution_count": 8,
   "metadata": {
    "colab": {
     "base_uri": "https://localhost:8080/",
     "height": 295
    },
    "colab_type": "code",
    "id": "49YlHmImZ1kr",
    "outputId": "23b023a5-7803-4e1a-ce11-894ba556a71e"
   },
   "outputs": [
    {
     "data": {
      "image/png": "[encoded data removed]",
      "text/plain": [
       "<Figure size 432x288 with 1 Axes>"
      ]
     },
     "metadata": {
      "needs_background": "light"
     },
     "output_type": "display_data"
    }
   ],
   "source": [
    "import seaborn as sns\n",
    "sns.distplot(Z)\n",
    "plt.title(\"Histogram of standardized value (Z)\")\n",
    "plt.xlabel(\"Z\")\n",
    "plt.show()"
   ]
  },
  {
   "cell_type": "markdown",
   "metadata": {
    "colab_type": "text",
    "id": "-3gpRmuIa4q0"
   },
   "source": [
    "# ชุดข้อมูลที่ 4 เงินเดือนของ Programmers ในประเทศไทย"
   ]
  },
  {
   "cell_type": "code",
   "execution_count": 11,
   "metadata": {},
   "outputs": [],
   "source": [
    "from scipy import stats"
   ]
  },
  {
   "cell_type": "code",
   "execution_count": 7,
   "metadata": {
    "colab": {},
    "colab_type": "code",
    "id": "wEva9wXwa1gZ"
   },
   "outputs": [],
   "source": [
    "salary = np.array([42690.64,42325.34,64971.4,35967.86,53694.28,43309.04,36018.4,29007.55,47506.85,77279.74])"
   ]
  },
  {
   "cell_type": "code",
   "execution_count": 26,
   "metadata": {
    "colab": {
     "base_uri": "https://localhost:8080/",
     "height": 153
    },
    "colab_type": "code",
    "id": "QwHfCBDHbUGl",
    "outputId": "56cd5c60-677d-475e-8c6d-fb216bdfd374"
   },
   "outputs": [
    {
     "name": "stdout",
     "output_type": "stream",
     "text": [
      "salary : [42690.64 42325.34 64971.4  35967.86 53694.28 43309.04 36018.4  29007.55\n",
      " 47506.85 77279.74]\n",
      "\n",
      "sample mean = 47277.11\n",
      "sample std = 14545.76829847545\n",
      "\n",
      "ที่ df=9, confidence interval = 90%, 2-tail\n",
      "t-score = 1.8331\n",
      "90% confidence interval of salary = (38845.2,55709.02)\n",
      "\n",
      "ที่ df=9, confidence interval = 95%, 2-tail\n",
      "t-score = 2.2622\n",
      "95% confidence interval of salary = (36871.69,57682.53)\n"
     ]
    }
   ],
   "source": [
    "salary_mean = np.mean(salary)\n",
    "salary_std = np.std(salary,ddof=1,) #ddof=1 เนื่องจากข้อมูลเป็น sample\n",
    "print(f\"salary : {salary}\\n\\nsample mean = {salary_mean}\\n\\\n",
    "sample std = {salary_std}\\n\")\n",
    "\n",
    "# ค่า t-score ที่ df=9, confidence interval = 90%, 2-tail\n",
    "t_score_90 = stats.t.ppf(1-(0.1/2), 9)\n",
    "ci_lower_90 = salary_mean-(t_score_90*salary_std/math.sqrt(len(salary)))\n",
    "ci_upper_90 = salary_mean+(t_score_90*salary_std/math.sqrt(len(salary)))\n",
    "\n",
    "print('ที่ df=9, confidence interval = 90%, 2-tail')\n",
    "print('t-score = {}'.format(round(t_score_90,4)))\n",
    "print(f\"90% confidence interval of salary = ({round(ci_lower_90,2)},{round(ci_upper_90,2)})\")\n",
    "\n",
    "# ค่า t-score ที่ df=9, confidence interval = 95%, 2-tail\n",
    "t_score_95 = stats.t.ppf(1-(0.05/2), 9)\n",
    "ci_lower_95 = salary_mean-(t_score_95*salary_std/math.sqrt(len(salary)))\n",
    "ci_upper_95 = salary_mean+(t_score_95*salary_std/math.sqrt(len(salary)))\n",
    "\n",
    "print('\\nที่ df=9, confidence interval = 95%, 2-tail')\n",
    "print('t-score = {}'.format(round(t_score_95, 4)))\n",
    "print(f\"95% confidence interval of salary = ({round(ci_lower_95,2)},{round(ci_upper_95,2)})\")\n"
   ]
  },
  {
   "cell_type": "markdown",
   "metadata": {
    "colab_type": "text",
    "id": "Ed8-pGXKfkuz"
   },
   "source": [
    "# ชุดข้อมูลที่ 5 เงินเดือนของทันตแพทย์ ในประเทศไทย"
   ]
  },
  {
   "cell_type": "code",
   "execution_count": 28,
   "metadata": {
    "colab": {},
    "colab_type": "code",
    "id": "15g4JIM-fhQe"
   },
   "outputs": [],
   "source": [
    "dent = np.array([81469,87531.77,75745.76,84907.66,91575.27,91222.62\\\n",
    "                 ,80216.58,93699.6,95481.35,95482.59])\n",
    "dent_pop_var = 7900"
   ]
  },
  {
   "cell_type": "code",
   "execution_count": 33,
   "metadata": {
    "colab": {
     "base_uri": "https://localhost:8080/",
     "height": 153
    },
    "colab_type": "code",
    "id": "-AuBAK-Af-KH",
    "outputId": "de3115cc-aec4-4503-81fe-2d4830a7a80d"
   },
   "outputs": [
    {
     "name": "stdout",
     "output_type": "stream",
     "text": [
      "dentist salary : [81469.   87531.77 75745.76 84907.66 91575.27 91222.62 80216.58 93699.6\n",
      " 95481.35 95482.59]\n",
      "\n",
      "population variance = 7900\n",
      "sample mean = 87733.22\n",
      "\n",
      "ที่ confidence interval = 90%, 2-tail\n",
      "z-score = 1.6449\n",
      "90% confidence interval of dentist salary = (83624.05,91842.39)\n",
      "\n",
      "ที่ confidence interval = 95%, 2-tail\n",
      "z-score = 1.96\n",
      "95% confidence interval of dentist salary = (82836.84,92629.6)\n"
     ]
    }
   ],
   "source": [
    "dent_mean = np.mean(dent)\n",
    "print(f\"dentist salary : {dent}\\n\\npopulation variance = {dent_pop_var}\\\n",
    "\\nsample mean = {dent_mean}\\n\")\n",
    "\n",
    "# ค่า z ที่ confidence interval = 90%, 2-tail\n",
    "z_score_90 = stats.norm.ppf([1 - 0.10/2])[0]\n",
    "ci_lower_90 = dent_mean-(z_score_90*dent_pop_var/math.sqrt(len(dent)))\n",
    "ci_upper_90 = dent_mean+(z_score_90*dent_pop_var/math.sqrt(len(dent)))\n",
    "\n",
    "print('ที่ confidence interval = 90%, 2-tail')\n",
    "print('z-score = {}'.format(round(z_score_90, 4)))\n",
    "print(f\"90% confidence interval of dentist salary = ({round(ci_lower_90,2)},{round(ci_upper_90,2)})\")\n",
    "\n",
    "# ค่า z ที่ confidence interval = 95%, 2-tail\n",
    "z_score_95 = stats.norm.ppf([1 - 0.05/2])[0]\n",
    "ci_lower_95 = dent_mean-(z_score_95*dent_pop_var/math.sqrt(len(dent)))\n",
    "ci_upper_95 = dent_mean+(z_score_95*dent_pop_var/math.sqrt(len(dent)))\n",
    "\n",
    "print('\\nที่ confidence interval = 95%, 2-tail')\n",
    "print('z-score = {}'.format(round(z_score_95, 4)))\n",
    "print(f\"95% confidence interval of dentist salary = ({round(ci_lower_95,2)},{round(ci_upper_95,2)})\")\n"
   ]
  }
 ],
 "metadata": {
  "colab": {
   "authorship_tag": "ABX9TyOcDffSKShhNgawItYGQ0vu",
   "include_colab_link": true,
   "name": "stat_quiz.ipynb",
   "provenance": []
  },
  "kernelspec": {
   "display_name": "Python 3",
   "language": "python",
   "name": "python3"
  },
  "language_info": {
   "codemirror_mode": {
    "name": "ipython",
    "version": 3
   },
   "file_extension": ".py",
   "mimetype": "text/x-python",
   "name": "python",
   "nbconvert_exporter": "python",
   "pygments_lexer": "ipython3",
   "version": "3.7.6"
  }
 },
 "nbformat": 4,
 "nbformat_minor": 1
}
