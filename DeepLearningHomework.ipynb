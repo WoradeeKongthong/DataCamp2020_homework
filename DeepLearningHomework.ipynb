{
  "nbformat": 4,
  "nbformat_minor": 0,
  "metadata": {
    "colab": {
      "name": "DeepLearningHomework.ipynb",
      "provenance": [],
      "collapsed_sections": [],
      "authorship_tag": "ABX9TyPTxxTaNSXkAkKJWOd4As/c",
      "include_colab_link": true
    },
    "kernelspec": {
      "name": "python3",
      "display_name": "Python 3"
    }
  },
  "cells": [
    {
      "cell_type": "markdown",
      "metadata": {
        "id": "view-in-github",
        "colab_type": "text"
      },
      "source": [
        "<a href=\"https://colab.research.google.com/github/WoradeeKongthong/DataCamp2020_homework/blob/master/DeepLearningHomework.ipynb\" target=\"_parent\"><img src=\"https://colab.research.google.com/assets/colab-badge.svg\" alt=\"Open In Colab\"/></a>"
      ]
    },
    {
      "cell_type": "markdown",
      "metadata": {
        "id": "AsW2FWgeMIkw"
      },
      "source": [
        "# Homework 1 : predict คนไข้ว่าเป็นเบาหวานหรือไม่  \n",
        "data type : structured data  \n",
        "model : ANN\n",
        " "
      ]
    },
    {
      "cell_type": "code",
      "metadata": {
        "id": "LjJjf46iMmTp"
      },
      "source": [
        "import numpy as np\n",
        "import pandas as pd\n",
        "import keras\n",
        "import matplotlib.pyplot as plt"
      ],
      "execution_count": 1,
      "outputs": []
    },
    {
      "cell_type": "markdown",
      "metadata": {
        "id": "hPAnXWGiMdkH"
      },
      "source": [
        "## Load dataset ของ Pima Indians"
      ]
    },
    {
      "cell_type": "code",
      "metadata": {
        "id": "oh_p6SOyL5Ro",
        "outputId": "13c7534b-6072-401c-e3dd-be6a5ce9f5d7",
        "colab": {
          "base_uri": "https://localhost:8080/",
          "height": 419
        }
      },
      "source": [
        "df = pd.read_csv('https://raw.githubusercontent.com/jbrownlee/Datasets/master/pima-indians-diabetes.data.csv', \n",
        "                 header=None, \n",
        "                 names=['num_of_pregnant','plasma_glucose_conc','blood_pressure','triceps_skin_food_thickness','2hrs_insulin','bmi','diab_pedigree_fn','age','diabetes'])\n",
        "df"
      ],
      "execution_count": 2,
      "outputs": [
        {
          "output_type": "execute_result",
          "data": {
            "text/html": [
              "<div>\n",
              "<style scoped>\n",
              "    .dataframe tbody tr th:only-of-type {\n",
              "        vertical-align: middle;\n",
              "    }\n",
              "\n",
              "    .dataframe tbody tr th {\n",
              "        vertical-align: top;\n",
              "    }\n",
              "\n",
              "    .dataframe thead th {\n",
              "        text-align: right;\n",
              "    }\n",
              "</style>\n",
              "<table border=\"1\" class=\"dataframe\">\n",
              "  <thead>\n",
              "    <tr style=\"text-align: right;\">\n",
              "      <th></th>\n",
              "      <th>num_of_pregnant</th>\n",
              "      <th>plasma_glucose_conc</th>\n",
              "      <th>blood_pressure</th>\n",
              "      <th>triceps_skin_food_thickness</th>\n",
              "      <th>2hrs_insulin</th>\n",
              "      <th>bmi</th>\n",
              "      <th>diab_pedigree_fn</th>\n",
              "      <th>age</th>\n",
              "      <th>diabetes</th>\n",
              "    </tr>\n",
              "  </thead>\n",
              "  <tbody>\n",
              "    <tr>\n",
              "      <th>0</th>\n",
              "      <td>6</td>\n",
              "      <td>148</td>\n",
              "      <td>72</td>\n",
              "      <td>35</td>\n",
              "      <td>0</td>\n",
              "      <td>33.6</td>\n",
              "      <td>0.627</td>\n",
              "      <td>50</td>\n",
              "      <td>1</td>\n",
              "    </tr>\n",
              "    <tr>\n",
              "      <th>1</th>\n",
              "      <td>1</td>\n",
              "      <td>85</td>\n",
              "      <td>66</td>\n",
              "      <td>29</td>\n",
              "      <td>0</td>\n",
              "      <td>26.6</td>\n",
              "      <td>0.351</td>\n",
              "      <td>31</td>\n",
              "      <td>0</td>\n",
              "    </tr>\n",
              "    <tr>\n",
              "      <th>2</th>\n",
              "      <td>8</td>\n",
              "      <td>183</td>\n",
              "      <td>64</td>\n",
              "      <td>0</td>\n",
              "      <td>0</td>\n",
              "      <td>23.3</td>\n",
              "      <td>0.672</td>\n",
              "      <td>32</td>\n",
              "      <td>1</td>\n",
              "    </tr>\n",
              "    <tr>\n",
              "      <th>3</th>\n",
              "      <td>1</td>\n",
              "      <td>89</td>\n",
              "      <td>66</td>\n",
              "      <td>23</td>\n",
              "      <td>94</td>\n",
              "      <td>28.1</td>\n",
              "      <td>0.167</td>\n",
              "      <td>21</td>\n",
              "      <td>0</td>\n",
              "    </tr>\n",
              "    <tr>\n",
              "      <th>4</th>\n",
              "      <td>0</td>\n",
              "      <td>137</td>\n",
              "      <td>40</td>\n",
              "      <td>35</td>\n",
              "      <td>168</td>\n",
              "      <td>43.1</td>\n",
              "      <td>2.288</td>\n",
              "      <td>33</td>\n",
              "      <td>1</td>\n",
              "    </tr>\n",
              "    <tr>\n",
              "      <th>...</th>\n",
              "      <td>...</td>\n",
              "      <td>...</td>\n",
              "      <td>...</td>\n",
              "      <td>...</td>\n",
              "      <td>...</td>\n",
              "      <td>...</td>\n",
              "      <td>...</td>\n",
              "      <td>...</td>\n",
              "      <td>...</td>\n",
              "    </tr>\n",
              "    <tr>\n",
              "      <th>763</th>\n",
              "      <td>10</td>\n",
              "      <td>101</td>\n",
              "      <td>76</td>\n",
              "      <td>48</td>\n",
              "      <td>180</td>\n",
              "      <td>32.9</td>\n",
              "      <td>0.171</td>\n",
              "      <td>63</td>\n",
              "      <td>0</td>\n",
              "    </tr>\n",
              "    <tr>\n",
              "      <th>764</th>\n",
              "      <td>2</td>\n",
              "      <td>122</td>\n",
              "      <td>70</td>\n",
              "      <td>27</td>\n",
              "      <td>0</td>\n",
              "      <td>36.8</td>\n",
              "      <td>0.340</td>\n",
              "      <td>27</td>\n",
              "      <td>0</td>\n",
              "    </tr>\n",
              "    <tr>\n",
              "      <th>765</th>\n",
              "      <td>5</td>\n",
              "      <td>121</td>\n",
              "      <td>72</td>\n",
              "      <td>23</td>\n",
              "      <td>112</td>\n",
              "      <td>26.2</td>\n",
              "      <td>0.245</td>\n",
              "      <td>30</td>\n",
              "      <td>0</td>\n",
              "    </tr>\n",
              "    <tr>\n",
              "      <th>766</th>\n",
              "      <td>1</td>\n",
              "      <td>126</td>\n",
              "      <td>60</td>\n",
              "      <td>0</td>\n",
              "      <td>0</td>\n",
              "      <td>30.1</td>\n",
              "      <td>0.349</td>\n",
              "      <td>47</td>\n",
              "      <td>1</td>\n",
              "    </tr>\n",
              "    <tr>\n",
              "      <th>767</th>\n",
              "      <td>1</td>\n",
              "      <td>93</td>\n",
              "      <td>70</td>\n",
              "      <td>31</td>\n",
              "      <td>0</td>\n",
              "      <td>30.4</td>\n",
              "      <td>0.315</td>\n",
              "      <td>23</td>\n",
              "      <td>0</td>\n",
              "    </tr>\n",
              "  </tbody>\n",
              "</table>\n",
              "<p>768 rows × 9 columns</p>\n",
              "</div>"
            ],
            "text/plain": [
              "     num_of_pregnant  plasma_glucose_conc  ...  age  diabetes\n",
              "0                  6                  148  ...   50         1\n",
              "1                  1                   85  ...   31         0\n",
              "2                  8                  183  ...   32         1\n",
              "3                  1                   89  ...   21         0\n",
              "4                  0                  137  ...   33         1\n",
              "..               ...                  ...  ...  ...       ...\n",
              "763               10                  101  ...   63         0\n",
              "764                2                  122  ...   27         0\n",
              "765                5                  121  ...   30         0\n",
              "766                1                  126  ...   47         1\n",
              "767                1                   93  ...   23         0\n",
              "\n",
              "[768 rows x 9 columns]"
            ]
          },
          "metadata": {
            "tags": []
          },
          "execution_count": 2
        }
      ]
    },
    {
      "cell_type": "markdown",
      "metadata": {
        "id": "UuBOAZZlSrtN"
      },
      "source": [
        "## Explore the dataset"
      ]
    },
    {
      "cell_type": "code",
      "metadata": {
        "id": "3RLE8D5k5HOS",
        "outputId": "aece3de3-b9e0-4668-d852-04647a5b1456",
        "colab": {
          "base_uri": "https://localhost:8080/",
          "height": 289
        }
      },
      "source": [
        "df.info()"
      ],
      "execution_count": 3,
      "outputs": [
        {
          "output_type": "stream",
          "text": [
            "<class 'pandas.core.frame.DataFrame'>\n",
            "RangeIndex: 768 entries, 0 to 767\n",
            "Data columns (total 9 columns):\n",
            " #   Column                       Non-Null Count  Dtype  \n",
            "---  ------                       --------------  -----  \n",
            " 0   num_of_pregnant              768 non-null    int64  \n",
            " 1   plasma_glucose_conc          768 non-null    int64  \n",
            " 2   blood_pressure               768 non-null    int64  \n",
            " 3   triceps_skin_food_thickness  768 non-null    int64  \n",
            " 4   2hrs_insulin                 768 non-null    int64  \n",
            " 5   bmi                          768 non-null    float64\n",
            " 6   diab_pedigree_fn             768 non-null    float64\n",
            " 7   age                          768 non-null    int64  \n",
            " 8   diabetes                     768 non-null    int64  \n",
            "dtypes: float64(2), int64(7)\n",
            "memory usage: 54.1 KB\n"
          ],
          "name": "stdout"
        }
      ]
    },
    {
      "cell_type": "markdown",
      "metadata": {
        "id": "Xr1a4mlu6wYq"
      },
      "source": [
        "Note : There is no missing value"
      ]
    },
    {
      "cell_type": "code",
      "metadata": {
        "id": "09ZwsAQr49k0",
        "outputId": "8f8bea37-eb3f-41d3-c885-8d4f534aae3b",
        "colab": {
          "base_uri": "https://localhost:8080/",
          "height": 317
        }
      },
      "source": [
        "df.describe()"
      ],
      "execution_count": 4,
      "outputs": [
        {
          "output_type": "execute_result",
          "data": {
            "text/html": [
              "<div>\n",
              "<style scoped>\n",
              "    .dataframe tbody tr th:only-of-type {\n",
              "        vertical-align: middle;\n",
              "    }\n",
              "\n",
              "    .dataframe tbody tr th {\n",
              "        vertical-align: top;\n",
              "    }\n",
              "\n",
              "    .dataframe thead th {\n",
              "        text-align: right;\n",
              "    }\n",
              "</style>\n",
              "<table border=\"1\" class=\"dataframe\">\n",
              "  <thead>\n",
              "    <tr style=\"text-align: right;\">\n",
              "      <th></th>\n",
              "      <th>num_of_pregnant</th>\n",
              "      <th>plasma_glucose_conc</th>\n",
              "      <th>blood_pressure</th>\n",
              "      <th>triceps_skin_food_thickness</th>\n",
              "      <th>2hrs_insulin</th>\n",
              "      <th>bmi</th>\n",
              "      <th>diab_pedigree_fn</th>\n",
              "      <th>age</th>\n",
              "      <th>diabetes</th>\n",
              "    </tr>\n",
              "  </thead>\n",
              "  <tbody>\n",
              "    <tr>\n",
              "      <th>count</th>\n",
              "      <td>768.000000</td>\n",
              "      <td>768.000000</td>\n",
              "      <td>768.000000</td>\n",
              "      <td>768.000000</td>\n",
              "      <td>768.000000</td>\n",
              "      <td>768.000000</td>\n",
              "      <td>768.000000</td>\n",
              "      <td>768.000000</td>\n",
              "      <td>768.000000</td>\n",
              "    </tr>\n",
              "    <tr>\n",
              "      <th>mean</th>\n",
              "      <td>3.845052</td>\n",
              "      <td>120.894531</td>\n",
              "      <td>69.105469</td>\n",
              "      <td>20.536458</td>\n",
              "      <td>79.799479</td>\n",
              "      <td>31.992578</td>\n",
              "      <td>0.471876</td>\n",
              "      <td>33.240885</td>\n",
              "      <td>0.348958</td>\n",
              "    </tr>\n",
              "    <tr>\n",
              "      <th>std</th>\n",
              "      <td>3.369578</td>\n",
              "      <td>31.972618</td>\n",
              "      <td>19.355807</td>\n",
              "      <td>15.952218</td>\n",
              "      <td>115.244002</td>\n",
              "      <td>7.884160</td>\n",
              "      <td>0.331329</td>\n",
              "      <td>11.760232</td>\n",
              "      <td>0.476951</td>\n",
              "    </tr>\n",
              "    <tr>\n",
              "      <th>min</th>\n",
              "      <td>0.000000</td>\n",
              "      <td>0.000000</td>\n",
              "      <td>0.000000</td>\n",
              "      <td>0.000000</td>\n",
              "      <td>0.000000</td>\n",
              "      <td>0.000000</td>\n",
              "      <td>0.078000</td>\n",
              "      <td>21.000000</td>\n",
              "      <td>0.000000</td>\n",
              "    </tr>\n",
              "    <tr>\n",
              "      <th>25%</th>\n",
              "      <td>1.000000</td>\n",
              "      <td>99.000000</td>\n",
              "      <td>62.000000</td>\n",
              "      <td>0.000000</td>\n",
              "      <td>0.000000</td>\n",
              "      <td>27.300000</td>\n",
              "      <td>0.243750</td>\n",
              "      <td>24.000000</td>\n",
              "      <td>0.000000</td>\n",
              "    </tr>\n",
              "    <tr>\n",
              "      <th>50%</th>\n",
              "      <td>3.000000</td>\n",
              "      <td>117.000000</td>\n",
              "      <td>72.000000</td>\n",
              "      <td>23.000000</td>\n",
              "      <td>30.500000</td>\n",
              "      <td>32.000000</td>\n",
              "      <td>0.372500</td>\n",
              "      <td>29.000000</td>\n",
              "      <td>0.000000</td>\n",
              "    </tr>\n",
              "    <tr>\n",
              "      <th>75%</th>\n",
              "      <td>6.000000</td>\n",
              "      <td>140.250000</td>\n",
              "      <td>80.000000</td>\n",
              "      <td>32.000000</td>\n",
              "      <td>127.250000</td>\n",
              "      <td>36.600000</td>\n",
              "      <td>0.626250</td>\n",
              "      <td>41.000000</td>\n",
              "      <td>1.000000</td>\n",
              "    </tr>\n",
              "    <tr>\n",
              "      <th>max</th>\n",
              "      <td>17.000000</td>\n",
              "      <td>199.000000</td>\n",
              "      <td>122.000000</td>\n",
              "      <td>99.000000</td>\n",
              "      <td>846.000000</td>\n",
              "      <td>67.100000</td>\n",
              "      <td>2.420000</td>\n",
              "      <td>81.000000</td>\n",
              "      <td>1.000000</td>\n",
              "    </tr>\n",
              "  </tbody>\n",
              "</table>\n",
              "</div>"
            ],
            "text/plain": [
              "       num_of_pregnant  plasma_glucose_conc  ...         age    diabetes\n",
              "count       768.000000           768.000000  ...  768.000000  768.000000\n",
              "mean          3.845052           120.894531  ...   33.240885    0.348958\n",
              "std           3.369578            31.972618  ...   11.760232    0.476951\n",
              "min           0.000000             0.000000  ...   21.000000    0.000000\n",
              "25%           1.000000            99.000000  ...   24.000000    0.000000\n",
              "50%           3.000000           117.000000  ...   29.000000    0.000000\n",
              "75%           6.000000           140.250000  ...   41.000000    1.000000\n",
              "max          17.000000           199.000000  ...   81.000000    1.000000\n",
              "\n",
              "[8 rows x 9 columns]"
            ]
          },
          "metadata": {
            "tags": []
          },
          "execution_count": 4
        }
      ]
    },
    {
      "cell_type": "code",
      "metadata": {
        "id": "7938GAMZSt7X",
        "outputId": "e1a89e88-7ca0-4e31-90e1-0cf237ef03d7",
        "colab": {
          "base_uri": "https://localhost:8080/",
          "height": 68
        }
      },
      "source": [
        "# explore the label \n",
        "df['diabetes'].value_counts()"
      ],
      "execution_count": 5,
      "outputs": [
        {
          "output_type": "execute_result",
          "data": {
            "text/plain": [
              "0    500\n",
              "1    268\n",
              "Name: diabetes, dtype: int64"
            ]
          },
          "metadata": {
            "tags": []
          },
          "execution_count": 5
        }
      ]
    },
    {
      "cell_type": "markdown",
      "metadata": {
        "id": "EUK9tVmCObY4"
      },
      "source": [
        "## Create train, test dataset"
      ]
    },
    {
      "cell_type": "code",
      "metadata": {
        "id": "wJ8A_rnEOkt_"
      },
      "source": [
        "from sklearn.model_selection import train_test_split"
      ],
      "execution_count": 6,
      "outputs": []
    },
    {
      "cell_type": "code",
      "metadata": {
        "id": "c7IKNxKROx-5"
      },
      "source": [
        "# choose X and y\n",
        "X = df.drop(['diabetes'], axis=1).copy()\n",
        "y = df['diabetes'].copy()"
      ],
      "execution_count": 7,
      "outputs": []
    },
    {
      "cell_type": "code",
      "metadata": {
        "id": "baZ7f5qlPgOo",
        "outputId": "59444d24-f4eb-462f-f535-b30cde77cafa",
        "colab": {
          "base_uri": "https://localhost:8080/",
          "height": 85
        }
      },
      "source": [
        "# create train-test split\n",
        "X_train, X_test, y_train, y_test = train_test_split(X, y, test_size=0.2)\n",
        "\n",
        "print('X_train shape = ', X_train.shape)\n",
        "print('y_train shape = ', y_train.shape)\n",
        "print('X_test shape = ', X_test.shape)\n",
        "print('y_test shape = ', y_test.shape)"
      ],
      "execution_count": 8,
      "outputs": [
        {
          "output_type": "stream",
          "text": [
            "X_train shape =  (614, 8)\n",
            "y_train shape =  (614,)\n",
            "X_test shape =  (154, 8)\n",
            "y_test shape =  (154,)\n"
          ],
          "name": "stdout"
        }
      ]
    },
    {
      "cell_type": "markdown",
      "metadata": {
        "id": "hoDxnm9uQGxJ"
      },
      "source": [
        "## The model"
      ]
    },
    {
      "cell_type": "code",
      "metadata": {
        "id": "0e-DyuQ8PhZS"
      },
      "source": [
        "from keras.models import Sequential\n",
        "from keras.layers import Dense"
      ],
      "execution_count": 9,
      "outputs": []
    },
    {
      "cell_type": "code",
      "metadata": {
        "id": "rYiBd6PjQU2b"
      },
      "source": [
        "# create the model\n",
        "model = Sequential()\n",
        "model.add(Dense(units=16, activation='relu', input_shape=(X_train.shape[1],)))\n",
        "model.add(Dense(units=32, activation='relu'))\n",
        "model.add(Dense(units=16, activation='relu'))\n",
        "model.add(Dense(units=1, activation='sigmoid'))"
      ],
      "execution_count": 10,
      "outputs": []
    },
    {
      "cell_type": "code",
      "metadata": {
        "id": "nqITkDJMRMUG"
      },
      "source": [
        "# compile the model\n",
        "model.compile(optimizer='sgd', loss='binary_crossentropy', metrics=['accuracy'])"
      ],
      "execution_count": 11,
      "outputs": []
    },
    {
      "cell_type": "code",
      "metadata": {
        "id": "mZFwr1OO8NP6",
        "outputId": "570faa17-2a56-41de-d04e-182a9a84d162",
        "colab": {
          "base_uri": "https://localhost:8080/",
          "height": 289
        }
      },
      "source": [
        "# print model summary\n",
        "model.summary()"
      ],
      "execution_count": 12,
      "outputs": [
        {
          "output_type": "stream",
          "text": [
            "Model: \"sequential\"\n",
            "_________________________________________________________________\n",
            "Layer (type)                 Output Shape              Param #   \n",
            "=================================================================\n",
            "dense (Dense)                (None, 16)                144       \n",
            "_________________________________________________________________\n",
            "dense_1 (Dense)              (None, 32)                544       \n",
            "_________________________________________________________________\n",
            "dense_2 (Dense)              (None, 16)                528       \n",
            "_________________________________________________________________\n",
            "dense_3 (Dense)              (None, 1)                 17        \n",
            "=================================================================\n",
            "Total params: 1,233\n",
            "Trainable params: 1,233\n",
            "Non-trainable params: 0\n",
            "_________________________________________________________________\n"
          ],
          "name": "stdout"
        }
      ]
    },
    {
      "cell_type": "code",
      "metadata": {
        "id": "KiDbCV7rRcPp"
      },
      "source": [
        "# fit the model\n",
        "history = model.fit(X_train, y_train, batch_size=32, epochs=200, validation_split=0.2, verbose=0)"
      ],
      "execution_count": 13,
      "outputs": []
    },
    {
      "cell_type": "markdown",
      "metadata": {
        "id": "HIF0Ijs5W7q9"
      },
      "source": [
        "## Plot the learning curve"
      ]
    },
    {
      "cell_type": "code",
      "metadata": {
        "id": "JXELnAd8W_D7",
        "outputId": "d45ba33d-8593-4595-9626-61fa38d10695",
        "colab": {
          "base_uri": "https://localhost:8080/",
          "height": 404
        }
      },
      "source": [
        "plt.figure(figsize=(20,6))\n",
        "\n",
        "plt.subplot(121)\n",
        "plt.plot(history.history['loss'])\n",
        "plt.plot(history.history['val_loss'])\n",
        "plt.title('Model loss')\n",
        "plt.ylabel('Loss')\n",
        "plt.xlabel('Epoch')\n",
        "plt.legend(['Train', 'Val'], loc='upper right')\n",
        "plt.ylim((0,2))\n",
        "\n",
        "plt.subplot(122)\n",
        "plt.plot(history.history['accuracy'])\n",
        "plt.plot(history.history['val_accuracy'])\n",
        "plt.title('Model accuracy')\n",
        "plt.ylabel('Accuracy')\n",
        "plt.xlabel('Epoch')\n",
        "plt.legend(['Train','Val'], loc='lower right')\n",
        "plt.show()"
      ],
      "execution_count": 14,
      "outputs": [
        {
          "output_type": "display_data",
          "data": {
            "image/png": "[encoded data removed]",
            "text/plain": [
              "<Figure size 1440x432 with 2 Axes>"
            ]
          },
          "metadata": {
            "tags": [],
            "needs_background": "light"
          }
        }
      ]
    },
    {
      "cell_type": "markdown",
      "metadata": {
        "id": "xwob6TEbIFlR"
      },
      "source": [
        "## Save the model"
      ]
    },
    {
      "cell_type": "code",
      "metadata": {
        "id": "DUl1US-oIIPK"
      },
      "source": [
        "model.save('diabetes_classifier.h5')"
      ],
      "execution_count": 15,
      "outputs": []
    },
    {
      "cell_type": "markdown",
      "metadata": {
        "id": "4xorcoK3cUBy"
      },
      "source": [
        "## Model Evaluation"
      ]
    },
    {
      "cell_type": "code",
      "metadata": {
        "id": "K_HFWMYF-z3s"
      },
      "source": [
        "from keras.models import load_model"
      ],
      "execution_count": 16,
      "outputs": []
    },
    {
      "cell_type": "code",
      "metadata": {
        "id": "SLbRTcoEIhWx"
      },
      "source": [
        "model = load_model('diabetes_classifier.h5')"
      ],
      "execution_count": 17,
      "outputs": []
    },
    {
      "cell_type": "code",
      "metadata": {
        "id": "tHOx1IzxcLMK",
        "outputId": "3cfbd5ca-96b5-4ebb-81f7-0c00d1446a66",
        "colab": {
          "base_uri": "https://localhost:8080/",
          "height": 51
        }
      },
      "source": [
        "model.evaluate(X_test, y_test)"
      ],
      "execution_count": 18,
      "outputs": [
        {
          "output_type": "stream",
          "text": [
            "5/5 [==============================] - 0s 2ms/step - loss: 0.7010 - accuracy: 0.6753\n"
          ],
          "name": "stdout"
        },
        {
          "output_type": "execute_result",
          "data": {
            "text/plain": [
              "[0.7009730935096741, 0.6753246784210205]"
            ]
          },
          "metadata": {
            "tags": []
          },
          "execution_count": 18
        }
      ]
    },
    {
      "cell_type": "markdown",
      "metadata": {
        "id": "n8LT6cuPZy5K"
      },
      "source": [
        "## Make prediction on test set"
      ]
    },
    {
      "cell_type": "code",
      "metadata": {
        "id": "pMk-pZ8hY0Mz"
      },
      "source": [
        "y_pred = model.predict(X_test)"
      ],
      "execution_count": 19,
      "outputs": []
    },
    {
      "cell_type": "code",
      "metadata": {
        "id": "uqjwnhbfbJuW",
        "outputId": "d308f1bb-4a49-4e1b-cea3-f18c1a04d96e",
        "colab": {
          "base_uri": "https://localhost:8080/",
          "height": 419
        }
      },
      "source": [
        "result_df = pd.DataFrame()\n",
        "result_df['y_test'] = y_test\n",
        "result_df['y_pred'] = y_pred.round()\n",
        "result_df"
      ],
      "execution_count": 20,
      "outputs": [
        {
          "output_type": "execute_result",
          "data": {
            "text/html": [
              "<div>\n",
              "<style scoped>\n",
              "    .dataframe tbody tr th:only-of-type {\n",
              "        vertical-align: middle;\n",
              "    }\n",
              "\n",
              "    .dataframe tbody tr th {\n",
              "        vertical-align: top;\n",
              "    }\n",
              "\n",
              "    .dataframe thead th {\n",
              "        text-align: right;\n",
              "    }\n",
              "</style>\n",
              "<table border=\"1\" class=\"dataframe\">\n",
              "  <thead>\n",
              "    <tr style=\"text-align: right;\">\n",
              "      <th></th>\n",
              "      <th>y_test</th>\n",
              "      <th>y_pred</th>\n",
              "    </tr>\n",
              "  </thead>\n",
              "  <tbody>\n",
              "    <tr>\n",
              "      <th>699</th>\n",
              "      <td>0</td>\n",
              "      <td>0.0</td>\n",
              "    </tr>\n",
              "    <tr>\n",
              "      <th>226</th>\n",
              "      <td>0</td>\n",
              "      <td>0.0</td>\n",
              "    </tr>\n",
              "    <tr>\n",
              "      <th>169</th>\n",
              "      <td>0</td>\n",
              "      <td>0.0</td>\n",
              "    </tr>\n",
              "    <tr>\n",
              "      <th>320</th>\n",
              "      <td>0</td>\n",
              "      <td>0.0</td>\n",
              "    </tr>\n",
              "    <tr>\n",
              "      <th>402</th>\n",
              "      <td>1</td>\n",
              "      <td>0.0</td>\n",
              "    </tr>\n",
              "    <tr>\n",
              "      <th>...</th>\n",
              "      <td>...</td>\n",
              "      <td>...</td>\n",
              "    </tr>\n",
              "    <tr>\n",
              "      <th>381</th>\n",
              "      <td>0</td>\n",
              "      <td>0.0</td>\n",
              "    </tr>\n",
              "    <tr>\n",
              "      <th>538</th>\n",
              "      <td>0</td>\n",
              "      <td>0.0</td>\n",
              "    </tr>\n",
              "    <tr>\n",
              "      <th>286</th>\n",
              "      <td>0</td>\n",
              "      <td>1.0</td>\n",
              "    </tr>\n",
              "    <tr>\n",
              "      <th>238</th>\n",
              "      <td>1</td>\n",
              "      <td>0.0</td>\n",
              "    </tr>\n",
              "    <tr>\n",
              "      <th>546</th>\n",
              "      <td>1</td>\n",
              "      <td>1.0</td>\n",
              "    </tr>\n",
              "  </tbody>\n",
              "</table>\n",
              "<p>154 rows × 2 columns</p>\n",
              "</div>"
            ],
            "text/plain": [
              "     y_test  y_pred\n",
              "699       0     0.0\n",
              "226       0     0.0\n",
              "169       0     0.0\n",
              "320       0     0.0\n",
              "402       1     0.0\n",
              "..      ...     ...\n",
              "381       0     0.0\n",
              "538       0     0.0\n",
              "286       0     1.0\n",
              "238       1     0.0\n",
              "546       1     1.0\n",
              "\n",
              "[154 rows x 2 columns]"
            ]
          },
          "metadata": {
            "tags": []
          },
          "execution_count": 20
        }
      ]
    },
    {
      "cell_type": "code",
      "metadata": {
        "id": "9h59k5zTcZj4"
      },
      "source": [
        "from sklearn import metrics"
      ],
      "execution_count": 21,
      "outputs": []
    },
    {
      "cell_type": "code",
      "metadata": {
        "id": "XP4juaAqce2p",
        "outputId": "3c007ddb-4133-40d4-e62d-f3b2b4309d74",
        "colab": {
          "base_uri": "https://localhost:8080/",
          "height": 51
        }
      },
      "source": [
        "# confusion metrix\n",
        "cm = metrics.confusion_matrix(y_test, y_pred.round())\n",
        "cm"
      ],
      "execution_count": 22,
      "outputs": [
        {
          "output_type": "execute_result",
          "data": {
            "text/plain": [
              "array([[86, 18],\n",
              "       [32, 18]])"
            ]
          },
          "metadata": {
            "tags": []
          },
          "execution_count": 22
        }
      ]
    },
    {
      "cell_type": "markdown",
      "metadata": {
        "id": "CusSeeMWdmbb"
      },
      "source": [
        "# Homework 2.1 : MNIST dataset with ANN  \n",
        "input type : 1d array    \n",
        "model : ANN"
      ]
    },
    {
      "cell_type": "markdown",
      "metadata": {
        "id": "0pSHUdlCdyJM"
      },
      "source": [
        "## Load the dataset (Train-test datasets)"
      ]
    },
    {
      "cell_type": "code",
      "metadata": {
        "id": "AGTQKIsWdyJO",
        "outputId": "f6be2d19-43a5-42c3-9311-14aa4835c0c6",
        "colab": {
          "base_uri": "https://localhost:8080/",
          "height": 85
        }
      },
      "source": [
        "from keras.datasets import mnist\n",
        "(X_train, y_train), (X_test, y_test) = mnist.load_data()\n",
        "print('X_train shape = ', X_train.shape)\n",
        "print('y_train shape = ', y_train.shape)\n",
        "print('X_test shape = ', X_test.shape)\n",
        "print('y_test shape = ', y_test.shape)"
      ],
      "execution_count": 23,
      "outputs": [
        {
          "output_type": "stream",
          "text": [
            "X_train shape =  (60000, 28, 28)\n",
            "y_train shape =  (60000,)\n",
            "X_test shape =  (10000, 28, 28)\n",
            "y_test shape =  (10000,)\n"
          ],
          "name": "stdout"
        }
      ]
    },
    {
      "cell_type": "code",
      "metadata": {
        "id": "n8fO_-62dyJR",
        "outputId": "609422d3-1179-4401-a87f-68da8c605385",
        "colab": {
          "base_uri": "https://localhost:8080/",
          "height": 282
        }
      },
      "source": [
        "# data example\n",
        "randnum = np.random.randint(0, X_train.shape[0])\n",
        "plt.imshow(X_train[randnum])\n",
        "print('label = ', y_train[randnum])"
      ],
      "execution_count": 24,
      "outputs": [
        {
          "output_type": "stream",
          "text": [
            "label =  2\n"
          ],
          "name": "stdout"
        },
        {
          "output_type": "display_data",
          "data": {
            "image/png": "[encoded data removed]",
            "text/plain": [
              "<Figure size 432x288 with 1 Axes>"
            ]
          },
          "metadata": {
            "tags": [],
            "needs_background": "light"
          }
        }
      ]
    },
    {
      "cell_type": "markdown",
      "metadata": {
        "id": "nk4FR3GKdyJU"
      },
      "source": [
        "## Data Preparation"
      ]
    },
    {
      "cell_type": "code",
      "metadata": {
        "id": "j2m5yoWOd3cC"
      },
      "source": [
        "# ANN accept 1d input\n",
        "# convert 28x28 pixels to 1d-vector with 28x28 elements\n",
        "X_train_1d = np.reshape(X_train, (X_train.shape[0], X_train.shape[1]*X_train.shape[2]))\n",
        "X_test_1d = np.reshape(X_test, (X_test.shape[0], X_test.shape[1]*X_test.shape[2]))"
      ],
      "execution_count": 25,
      "outputs": []
    },
    {
      "cell_type": "code",
      "metadata": {
        "id": "DDVvehjShotV"
      },
      "source": [
        "# convert the label (y_train and y_test) to be categorical \n",
        "y_train_onehot = keras.utils.to_categorical(y_train, num_classes=10)\n",
        "y_test_onehot = keras.utils.to_categorical(y_test, num_classes=10)"
      ],
      "execution_count": 26,
      "outputs": []
    },
    {
      "cell_type": "code",
      "metadata": {
        "id": "_8Kp43wEe-DS",
        "outputId": "45a3973a-922d-44d8-8e08-c9bb1eac0540",
        "colab": {
          "base_uri": "https://localhost:8080/",
          "height": 85
        }
      },
      "source": [
        "print('X_train_1d shape = ', X_train_1d.shape)\n",
        "print('y_train_onehot shape = ', y_train_onehot.shape)\n",
        "print('X_test_1d shape = ', X_test_1d.shape)\n",
        "print('y_test_onehot shape = ', y_test_onehot.shape)"
      ],
      "execution_count": 27,
      "outputs": [
        {
          "output_type": "stream",
          "text": [
            "X_train_1d shape =  (60000, 784)\n",
            "y_train_onehot shape =  (60000, 10)\n",
            "X_test_1d shape =  (10000, 784)\n",
            "y_test_onehot shape =  (10000, 10)\n"
          ],
          "name": "stdout"
        }
      ]
    },
    {
      "cell_type": "code",
      "metadata": {
        "id": "Io0EU2tDfg7w",
        "outputId": "acf85536-55e4-4b74-acbd-20c47e96c7b3",
        "colab": {
          "base_uri": "https://localhost:8080/",
          "height": 68
        }
      },
      "source": [
        "# check X_train data type\n",
        "print(X_train_1d.dtype)\n",
        "print(X_train_1d.min())\n",
        "print(X_train_1d.max())"
      ],
      "execution_count": 28,
      "outputs": [
        {
          "output_type": "stream",
          "text": [
            "uint8\n",
            "0\n",
            "255\n"
          ],
          "name": "stdout"
        }
      ]
    },
    {
      "cell_type": "code",
      "metadata": {
        "id": "Q3C34teufg71"
      },
      "source": [
        "# Normalization\n",
        "X_train_1d = X_train_1d.astype('float32')/255\n",
        "X_test_1d = X_test_1d.astype('float32')/255"
      ],
      "execution_count": 29,
      "outputs": []
    },
    {
      "cell_type": "code",
      "metadata": {
        "id": "q7sXjm8Yfg74",
        "outputId": "3bcc9c58-3aff-4bce-db60-a1d11a040f72",
        "colab": {
          "base_uri": "https://localhost:8080/",
          "height": 68
        }
      },
      "source": [
        "# check X_train data type\n",
        "print(X_train_1d.dtype)\n",
        "print(X_train_1d.min())\n",
        "print(X_train_1d.max())"
      ],
      "execution_count": 30,
      "outputs": [
        {
          "output_type": "stream",
          "text": [
            "float32\n",
            "0.0\n",
            "1.0\n"
          ],
          "name": "stdout"
        }
      ]
    },
    {
      "cell_type": "markdown",
      "metadata": {
        "id": "hLJC4ncYfTI5"
      },
      "source": [
        "## The model"
      ]
    },
    {
      "cell_type": "code",
      "metadata": {
        "id": "nklrMZV8fVQi"
      },
      "source": [
        "# create the ANN model\n",
        "model = Sequential()\n",
        "model.add(Dense(1024, activation='relu', input_shape=(X_train_1d.shape[1],)))\n",
        "model.add(Dense(1024, activation='relu'))\n",
        "model.add(Dense(512, activation='relu'))\n",
        "model.add(Dense(256, activation='relu'))\n",
        "model.add(Dense(128, activation='relu'))\n",
        "model.add(Dense(64, activation='relu'))\n",
        "model.add(Dense(32, activation='relu'))\n",
        "model.add(Dense(10, activation='softmax'))"
      ],
      "execution_count": 31,
      "outputs": []
    },
    {
      "cell_type": "code",
      "metadata": {
        "id": "cCf9Pfjag6Y6",
        "outputId": "f0248429-c513-4e75-f6c1-e1721adc9ae2",
        "colab": {
          "base_uri": "https://localhost:8080/",
          "height": 425
        }
      },
      "source": [
        "# model summary\n",
        "model.summary()"
      ],
      "execution_count": 32,
      "outputs": [
        {
          "output_type": "stream",
          "text": [
            "Model: \"sequential_1\"\n",
            "_________________________________________________________________\n",
            "Layer (type)                 Output Shape              Param #   \n",
            "=================================================================\n",
            "dense_4 (Dense)              (None, 1024)              803840    \n",
            "_________________________________________________________________\n",
            "dense_5 (Dense)              (None, 1024)              1049600   \n",
            "_________________________________________________________________\n",
            "dense_6 (Dense)              (None, 512)               524800    \n",
            "_________________________________________________________________\n",
            "dense_7 (Dense)              (None, 256)               131328    \n",
            "_________________________________________________________________\n",
            "dense_8 (Dense)              (None, 128)               32896     \n",
            "_________________________________________________________________\n",
            "dense_9 (Dense)              (None, 64)                8256      \n",
            "_________________________________________________________________\n",
            "dense_10 (Dense)             (None, 32)                2080      \n",
            "_________________________________________________________________\n",
            "dense_11 (Dense)             (None, 10)                330       \n",
            "=================================================================\n",
            "Total params: 2,553,130\n",
            "Trainable params: 2,553,130\n",
            "Non-trainable params: 0\n",
            "_________________________________________________________________\n"
          ],
          "name": "stdout"
        }
      ]
    },
    {
      "cell_type": "code",
      "metadata": {
        "id": "SCD0bzS9hA-C"
      },
      "source": [
        "# compile model\n",
        "model.compile(optimizer='sgd', loss='categorical_crossentropy', metrics=['accuracy'])"
      ],
      "execution_count": 35,
      "outputs": []
    },
    {
      "cell_type": "code",
      "metadata": {
        "id": "KvR3vbJnhSyt",
        "outputId": "76c935d6-3a1a-4c8b-e40d-3dbc61c5010d",
        "colab": {
          "base_uri": "https://localhost:8080/",
          "height": 697
        }
      },
      "source": [
        "# fit the model\n",
        "history = model.fit(X_train_1d, y_train_onehot, batch_size=64, epochs=20, verbose=1, validation_split=0.2)"
      ],
      "execution_count": 36,
      "outputs": [
        {
          "output_type": "stream",
          "text": [
            "Epoch 1/20\n",
            "750/750 [==============================] - 30s 40ms/step - loss: 0.1060 - accuracy: 0.9693 - val_loss: 0.1366 - val_accuracy: 0.9591\n",
            "Epoch 2/20\n",
            "750/750 [==============================] - 30s 40ms/step - loss: 0.0892 - accuracy: 0.9735 - val_loss: 0.1151 - val_accuracy: 0.9645\n",
            "Epoch 3/20\n",
            "750/750 [==============================] - 33s 45ms/step - loss: 0.0751 - accuracy: 0.9782 - val_loss: 0.1056 - val_accuracy: 0.9693\n",
            "Epoch 4/20\n",
            "750/750 [==============================] - 30s 40ms/step - loss: 0.0633 - accuracy: 0.9822 - val_loss: 0.1099 - val_accuracy: 0.9668\n",
            "Epoch 5/20\n",
            "750/750 [==============================] - 33s 43ms/step - loss: 0.0544 - accuracy: 0.9842 - val_loss: 0.1093 - val_accuracy: 0.9674\n",
            "Epoch 6/20\n",
            "750/750 [==============================] - 30s 40ms/step - loss: 0.0446 - accuracy: 0.9875 - val_loss: 0.0989 - val_accuracy: 0.9712\n",
            "Epoch 7/20\n",
            "750/750 [==============================] - 30s 40ms/step - loss: 0.0369 - accuracy: 0.9899 - val_loss: 0.1037 - val_accuracy: 0.9704\n",
            "Epoch 8/20\n",
            "750/750 [==============================] - 31s 41ms/step - loss: 0.0302 - accuracy: 0.9921 - val_loss: 0.0947 - val_accuracy: 0.9728\n",
            "Epoch 9/20\n",
            "750/750 [==============================] - 30s 41ms/step - loss: 0.0255 - accuracy: 0.9935 - val_loss: 0.0908 - val_accuracy: 0.9739\n",
            "Epoch 10/20\n",
            "750/750 [==============================] - 30s 40ms/step - loss: 0.0213 - accuracy: 0.9950 - val_loss: 0.0921 - val_accuracy: 0.9747\n",
            "Epoch 11/20\n",
            "750/750 [==============================] - 30s 40ms/step - loss: 0.0165 - accuracy: 0.9962 - val_loss: 0.1001 - val_accuracy: 0.9743\n",
            "Epoch 12/20\n",
            "750/750 [==============================] - 30s 40ms/step - loss: 0.0138 - accuracy: 0.9971 - val_loss: 0.0999 - val_accuracy: 0.9737\n",
            "Epoch 13/20\n",
            "750/750 [==============================] - 31s 42ms/step - loss: 0.0103 - accuracy: 0.9983 - val_loss: 0.0959 - val_accuracy: 0.9757\n",
            "Epoch 14/20\n",
            "750/750 [==============================] - 30s 40ms/step - loss: 0.0086 - accuracy: 0.9987 - val_loss: 0.0979 - val_accuracy: 0.9750\n",
            "Epoch 15/20\n",
            "750/750 [==============================] - 34s 45ms/step - loss: 0.0063 - accuracy: 0.9992 - val_loss: 0.0993 - val_accuracy: 0.9758\n",
            "Epoch 16/20\n",
            "750/750 [==============================] - 32s 42ms/step - loss: 0.0049 - accuracy: 0.9994 - val_loss: 0.1196 - val_accuracy: 0.9708\n",
            "Epoch 17/20\n",
            "750/750 [==============================] - 30s 40ms/step - loss: 0.0043 - accuracy: 0.9995 - val_loss: 0.1010 - val_accuracy: 0.9765\n",
            "Epoch 18/20\n",
            "750/750 [==============================] - 30s 40ms/step - loss: 0.0032 - accuracy: 0.9998 - val_loss: 0.1023 - val_accuracy: 0.9757\n",
            "Epoch 19/20\n",
            "750/750 [==============================] - 30s 41ms/step - loss: 0.0025 - accuracy: 0.9999 - val_loss: 0.1032 - val_accuracy: 0.9763\n",
            "Epoch 20/20\n",
            "750/750 [==============================] - 30s 40ms/step - loss: 0.0022 - accuracy: 0.9998 - val_loss: 0.1068 - val_accuracy: 0.9756\n"
          ],
          "name": "stdout"
        }
      ]
    },
    {
      "cell_type": "markdown",
      "metadata": {
        "id": "KBq-MsunifCP"
      },
      "source": [
        "## Plot the learning curve"
      ]
    },
    {
      "cell_type": "code",
      "metadata": {
        "id": "EEeEE9ZeifCR",
        "outputId": "834dfde5-9e7f-4150-ff7f-9b76780f15be",
        "colab": {
          "base_uri": "https://localhost:8080/",
          "height": 404
        }
      },
      "source": [
        "plt.figure(figsize=(20,6))\n",
        "\n",
        "plt.subplot(121)\n",
        "plt.plot(history.history['loss'])\n",
        "plt.plot(history.history['val_loss'])\n",
        "plt.title('Model loss')\n",
        "plt.ylabel('Loss')\n",
        "plt.xlabel('Epoch')\n",
        "plt.legend(['Train', 'Val'], loc='upper right')\n",
        "#plt.ylim((0,2))\n",
        "\n",
        "plt.subplot(122)\n",
        "plt.plot(history.history['accuracy'])\n",
        "plt.plot(history.history['val_accuracy'])\n",
        "plt.title('Model accuracy')\n",
        "plt.ylabel('Accuracy')\n",
        "plt.xlabel('Epoch')\n",
        "plt.legend(['Train','Val'], loc='lower right')\n",
        "plt.show()"
      ],
      "execution_count": 37,
      "outputs": [
        {
          "output_type": "display_data",
          "data": {
            "image/png": "[encoded data removed]",
            "text/plain": [
              "<Figure size 1440x432 with 2 Axes>"
            ]
          },
          "metadata": {
            "tags": [],
            "needs_background": "light"
          }
        }
      ]
    },
    {
      "cell_type": "markdown",
      "metadata": {
        "id": "jRQXjjW0ifCV"
      },
      "source": [
        "## Save the model"
      ]
    },
    {
      "cell_type": "code",
      "metadata": {
        "id": "78BCL9wlifCW"
      },
      "source": [
        "model.save('mnist_ann.h5')"
      ],
      "execution_count": 38,
      "outputs": []
    },
    {
      "cell_type": "markdown",
      "metadata": {
        "id": "AwidqYGOjgJ_"
      },
      "source": [
        "## Model Evaluation"
      ]
    },
    {
      "cell_type": "code",
      "metadata": {
        "id": "UOYzV5HQjgKC"
      },
      "source": [
        "model = load_model('mnist_ann.h5')"
      ],
      "execution_count": 39,
      "outputs": []
    },
    {
      "cell_type": "code",
      "metadata": {
        "id": "BgfRfpGyjgKF",
        "outputId": "7ba2d326-4bf1-4f58-fb24-164dfccc81b0",
        "colab": {
          "base_uri": "https://localhost:8080/",
          "height": 51
        }
      },
      "source": [
        "model.evaluate(X_test_1d, y_test_onehot)"
      ],
      "execution_count": 40,
      "outputs": [
        {
          "output_type": "stream",
          "text": [
            "313/313 [==============================] - 2s 8ms/step - loss: 0.0942 - accuracy: 0.9776\n"
          ],
          "name": "stdout"
        },
        {
          "output_type": "execute_result",
          "data": {
            "text/plain": [
              "[0.09418627619743347, 0.9775999784469604]"
            ]
          },
          "metadata": {
            "tags": []
          },
          "execution_count": 40
        }
      ]
    },
    {
      "cell_type": "markdown",
      "metadata": {
        "id": "1cA_2gfFjv1M"
      },
      "source": [
        "## Make prediction on test set"
      ]
    },
    {
      "cell_type": "code",
      "metadata": {
        "id": "MfHHCJ3qjyri"
      },
      "source": [
        "y_pred_prob = model.predict(X_test_1d)"
      ],
      "execution_count": 41,
      "outputs": []
    },
    {
      "cell_type": "code",
      "metadata": {
        "id": "nzJiEOSukghb",
        "outputId": "d52b9150-7cb1-41a5-8393-8f9baacf4034",
        "colab": {
          "base_uri": "https://localhost:8080/",
          "height": 102
        }
      },
      "source": [
        "# example output\n",
        "print('y_pred_prob shape : ', y_pred_prob.shape)\n",
        "print('example : \\n', y_pred_prob[0])"
      ],
      "execution_count": 42,
      "outputs": [
        {
          "output_type": "stream",
          "text": [
            "y_pred_prob shape :  (10000, 10)\n",
            "example : \n",
            " [9.74114626e-12 1.11807694e-07 1.86388016e-09 2.27123508e-07\n",
            " 2.62028897e-12 2.99614666e-09 9.21341708e-15 9.99999523e-01\n",
            " 4.97094199e-10 1.33786955e-07]\n"
          ],
          "name": "stdout"
        }
      ]
    },
    {
      "cell_type": "code",
      "metadata": {
        "id": "oShCkvYEj_EP"
      },
      "source": [
        "y_pred = list(map(np.argmax, y_pred_prob))"
      ],
      "execution_count": 43,
      "outputs": []
    },
    {
      "cell_type": "code",
      "metadata": {
        "id": "jXAVv9MvkrPF",
        "outputId": "a99e407f-ed40-4396-e73a-88e75de3dc92",
        "colab": {
          "base_uri": "https://localhost:8080/",
          "height": 68
        }
      },
      "source": [
        "print('first 10 example')\n",
        "print('y_test : ', y_test[:10])\n",
        "print('y_pred : ', y_pred[:10])"
      ],
      "execution_count": 44,
      "outputs": [
        {
          "output_type": "stream",
          "text": [
            "first 10 example\n",
            "y_test :  [7 2 1 0 4 1 4 9 5 9]\n",
            "y_pred :  [7, 2, 1, 0, 4, 1, 4, 9, 6, 9]\n"
          ],
          "name": "stdout"
        }
      ]
    },
    {
      "cell_type": "code",
      "metadata": {
        "id": "j3M3l808k6fH",
        "outputId": "9d042c34-148d-4fc7-b753-930c38dc58fd",
        "colab": {
          "base_uri": "https://localhost:8080/",
          "height": 282
        }
      },
      "source": [
        "# example of image and prediction\n",
        "randnum = np.random.randint(0,len(y_test))\n",
        "plt.imshow(X_test[randnum])\n",
        "print('Prediction : ', y_pred[randnum])"
      ],
      "execution_count": 45,
      "outputs": [
        {
          "output_type": "stream",
          "text": [
            "Prediction :  6\n"
          ],
          "name": "stdout"
        },
        {
          "output_type": "display_data",
          "data": {
            "image/png": "[encoded data removed]",
            "text/plain": [
              "<Figure size 432x288 with 1 Axes>"
            ]
          },
          "metadata": {
            "tags": [],
            "needs_background": "light"
          }
        }
      ]
    },
    {
      "cell_type": "code",
      "metadata": {
        "id": "Ix9atjwXlRaT",
        "outputId": "4f399fdb-92db-43f6-88cb-d754e26ecb0d",
        "colab": {
          "base_uri": "https://localhost:8080/",
          "height": 187
        }
      },
      "source": [
        "# Confusion matrix\n",
        "cm = metrics.confusion_matrix(y_test, y_pred)\n",
        "cm"
      ],
      "execution_count": 46,
      "outputs": [
        {
          "output_type": "execute_result",
          "data": {
            "text/plain": [
              "array([[ 969,    0,    1,    1,    0,    0,    5,    1,    2,    1],\n",
              "       [   0, 1123,    2,    0,    0,    0,    3,    2,    5,    0],\n",
              "       [   2,    3, 1011,    4,    2,    0,    2,    4,    4,    0],\n",
              "       [   0,    0,    5,  984,    0,    7,    0,    3,    9,    2],\n",
              "       [   2,    0,    3,    1,  962,    0,    3,    1,    1,    9],\n",
              "       [   3,    0,    0,   10,    2,  859,    7,    1,    7,    3],\n",
              "       [   3,    2,    0,    1,    7,    3,  942,    0,    0,    0],\n",
              "       [   0,    8,    9,    5,    0,    0,    0,  998,    3,    5],\n",
              "       [   3,    0,    2,    5,    2,    3,    3,    3,  950,    3],\n",
              "       [   4,    3,    0,    4,   12,    2,    0,    3,    3,  978]])"
            ]
          },
          "metadata": {
            "tags": []
          },
          "execution_count": 46
        }
      ]
    },
    {
      "cell_type": "markdown",
      "metadata": {
        "id": "NYP6iWdyduNF"
      },
      "source": [
        "# Homework 2.2 : MNIST dataset with CNN \n",
        "input type : 28x28 pixels, 1 channel  \n",
        "model : CNN"
      ]
    },
    {
      "cell_type": "markdown",
      "metadata": {
        "id": "6H_-7jmhd8WH"
      },
      "source": [
        "## Load the dataset (Train-test datasets)"
      ]
    },
    {
      "cell_type": "code",
      "metadata": {
        "id": "NFHRjdd4dw7G",
        "outputId": "519c53b3-1739-4fac-b2d6-76c2b9db99ad",
        "colab": {
          "base_uri": "https://localhost:8080/",
          "height": 85
        }
      },
      "source": [
        "from keras.datasets import mnist\n",
        "(X_train, y_train), (X_test, y_test) = mnist.load_data()\n",
        "print('X_train shape = ', X_train.shape)\n",
        "print('y_train shape = ', y_train.shape)\n",
        "print('X_test shape = ', X_test.shape)\n",
        "print('y_test shape = ', y_test.shape)"
      ],
      "execution_count": 47,
      "outputs": [
        {
          "output_type": "stream",
          "text": [
            "X_train shape =  (60000, 28, 28)\n",
            "y_train shape =  (60000,)\n",
            "X_test shape =  (10000, 28, 28)\n",
            "y_test shape =  (10000,)\n"
          ],
          "name": "stdout"
        }
      ]
    },
    {
      "cell_type": "code",
      "metadata": {
        "id": "9hsQTOGlfrTA",
        "outputId": "10bbe3c4-0060-44ba-8bfd-d2d3112e229a",
        "colab": {
          "base_uri": "https://localhost:8080/",
          "height": 282
        }
      },
      "source": [
        "# data example\n",
        "randnum = np.random.randint(0, X_train.shape[0])\n",
        "plt.imshow(X_train[randnum])\n",
        "print('label = ', y_train[randnum])"
      ],
      "execution_count": 48,
      "outputs": [
        {
          "output_type": "stream",
          "text": [
            "label =  3\n"
          ],
          "name": "stdout"
        },
        {
          "output_type": "display_data",
          "data": {
            "image/png": "[encoded data removed]",
            "text/plain": [
              "<Figure size 432x288 with 1 Axes>"
            ]
          },
          "metadata": {
            "tags": [],
            "needs_background": "light"
          }
        }
      ]
    },
    {
      "cell_type": "markdown",
      "metadata": {
        "id": "mvg9DSYwfr_Q"
      },
      "source": [
        "## Data Preparation"
      ]
    },
    {
      "cell_type": "code",
      "metadata": {
        "id": "jC8d9RvXlAzG",
        "outputId": "b0868231-873d-45a7-88d1-b05bc4b398a6",
        "colab": {
          "base_uri": "https://localhost:8080/",
          "height": 85
        }
      },
      "source": [
        "# convert the data (X_train and X_test) to be 3D picture with 1 channel \n",
        "X_train_3d = np.expand_dims(X_train, 3)\n",
        "X_test_3d = np.expand_dims(X_test, 3)\n",
        "\n",
        "print('X_train shape = ', X_train_3d.shape)\n",
        "print('y_train shape = ', y_train.shape)\n",
        "print('X_test shape = ', X_test_3d.shape)\n",
        "print('y_test shape = ', y_test.shape)"
      ],
      "execution_count": 49,
      "outputs": [
        {
          "output_type": "stream",
          "text": [
            "X_train shape =  (60000, 28, 28, 1)\n",
            "y_train shape =  (60000,)\n",
            "X_test shape =  (10000, 28, 28, 1)\n",
            "y_test shape =  (10000,)\n"
          ],
          "name": "stdout"
        }
      ]
    },
    {
      "cell_type": "code",
      "metadata": {
        "id": "MV7lpWNbpqAP",
        "outputId": "13628891-1638-4a31-9060-5b805c618ee7",
        "colab": {
          "base_uri": "https://localhost:8080/",
          "height": 85
        }
      },
      "source": [
        "# convert the label (y_train and y_test) to be categorical \n",
        "y_train_onehot = keras.utils.to_categorical(y_train, num_classes=10)\n",
        "y_test_onehot = keras.utils.to_categorical(y_test, num_classes=10)\n",
        "\n",
        "print('X_train shape = ', X_train_3d.shape)\n",
        "print('y_train shape = ', y_train_onehot.shape)\n",
        "print('X_test shape = ', X_test_3d.shape)\n",
        "print('y_test shape = ', y_test_onehot.shape)"
      ],
      "execution_count": 50,
      "outputs": [
        {
          "output_type": "stream",
          "text": [
            "X_train shape =  (60000, 28, 28, 1)\n",
            "y_train shape =  (60000, 10)\n",
            "X_test shape =  (10000, 28, 28, 1)\n",
            "y_test shape =  (10000, 10)\n"
          ],
          "name": "stdout"
        }
      ]
    },
    {
      "cell_type": "code",
      "metadata": {
        "id": "dipRrNuBzANc",
        "outputId": "2bd9e177-9f8b-48c4-bdba-4f18dec11e38",
        "colab": {
          "base_uri": "https://localhost:8080/",
          "height": 68
        }
      },
      "source": [
        "# check X_train data type\n",
        "print(X_train_3d.dtype)\n",
        "print(X_train_3d.min())\n",
        "print(X_train_3d.max())"
      ],
      "execution_count": 51,
      "outputs": [
        {
          "output_type": "stream",
          "text": [
            "uint8\n",
            "0\n",
            "255\n"
          ],
          "name": "stdout"
        }
      ]
    },
    {
      "cell_type": "code",
      "metadata": {
        "id": "MfvV_IItzgsp"
      },
      "source": [
        "# change the data type to float32 and normalize the data\n",
        "X_train_3d = X_train_3d.astype('float32')/255\n",
        "X_test_3d = X_test_3d.astype('float32')/255"
      ],
      "execution_count": 52,
      "outputs": []
    },
    {
      "cell_type": "code",
      "metadata": {
        "id": "hBSq82TK14Ad",
        "outputId": "ec6ee18c-363f-4804-ad44-14ec5e8894f5",
        "colab": {
          "base_uri": "https://localhost:8080/",
          "height": 68
        }
      },
      "source": [
        "# check X_train data type\n",
        "print(X_train_3d.dtype)\n",
        "print(X_train_3d.min())\n",
        "print(X_train_3d.max())"
      ],
      "execution_count": 53,
      "outputs": [
        {
          "output_type": "stream",
          "text": [
            "float32\n",
            "0.0\n",
            "1.0\n"
          ],
          "name": "stdout"
        }
      ]
    },
    {
      "cell_type": "markdown",
      "metadata": {
        "id": "-Ec_Ax2pfmBA"
      },
      "source": [
        "## The model"
      ]
    },
    {
      "cell_type": "code",
      "metadata": {
        "id": "zP1_b26Afo42"
      },
      "source": [
        "from keras.layers import Conv2D, MaxPooling2D, Flatten\n",
        "from keras.optimizers import SGD"
      ],
      "execution_count": 54,
      "outputs": []
    },
    {
      "cell_type": "code",
      "metadata": {
        "id": "QfpbPXl9kOL4"
      },
      "source": [
        "# create the CNN model\n",
        "model = Sequential()\n",
        "model.add(Conv2D(32, (3,3), activation='relu', input_shape=(28,28,1)))\n",
        "model.add(MaxPooling2D((2,2)))\n",
        "model.add(Flatten())\n",
        "model.add(Dense(100, activation='relu'))\n",
        "model.add(Dense(10, activation='softmax'))"
      ],
      "execution_count": 55,
      "outputs": []
    },
    {
      "cell_type": "code",
      "metadata": {
        "id": "GBZeQVgMnZ7s"
      },
      "source": [
        "# compile model\n",
        "opt = SGD(lr=0.01, momentum=0.9)\n",
        "model.compile(optimizer=opt, loss='categorical_crossentropy', metrics=['accuracy'])"
      ],
      "execution_count": 56,
      "outputs": []
    },
    {
      "cell_type": "code",
      "metadata": {
        "id": "fmLqeb_Snywd",
        "outputId": "f8d47d64-67be-4db9-fb2f-ba6a7576a978",
        "colab": {
          "base_uri": "https://localhost:8080/",
          "height": 323
        }
      },
      "source": [
        "# print model summary\n",
        "model.summary()"
      ],
      "execution_count": 57,
      "outputs": [
        {
          "output_type": "stream",
          "text": [
            "Model: \"sequential_2\"\n",
            "_________________________________________________________________\n",
            "Layer (type)                 Output Shape              Param #   \n",
            "=================================================================\n",
            "conv2d (Conv2D)              (None, 26, 26, 32)        320       \n",
            "_________________________________________________________________\n",
            "max_pooling2d (MaxPooling2D) (None, 13, 13, 32)        0         \n",
            "_________________________________________________________________\n",
            "flatten (Flatten)            (None, 5408)              0         \n",
            "_________________________________________________________________\n",
            "dense_12 (Dense)             (None, 100)               540900    \n",
            "_________________________________________________________________\n",
            "dense_13 (Dense)             (None, 10)                1010      \n",
            "=================================================================\n",
            "Total params: 542,230\n",
            "Trainable params: 542,230\n",
            "Non-trainable params: 0\n",
            "_________________________________________________________________\n"
          ],
          "name": "stdout"
        }
      ]
    },
    {
      "cell_type": "code",
      "metadata": {
        "id": "Vyojm9b4nwIr",
        "outputId": "82a94777-d255-49fc-c821-2b5ba7c6d198",
        "colab": {
          "base_uri": "https://localhost:8080/",
          "height": 1000
        }
      },
      "source": [
        "# fit the model\n",
        "history = model.fit(X_train_3d, y_train_onehot, epochs=30, batch_size=32, verbose=1, validation_split=0.2)"
      ],
      "execution_count": 58,
      "outputs": [
        {
          "output_type": "stream",
          "text": [
            "Epoch 1/30\n",
            "1500/1500 [==============================] - 30s 20ms/step - loss: 0.2656 - accuracy: 0.9197 - val_loss: 0.1005 - val_accuracy: 0.9717\n",
            "Epoch 2/30\n",
            "1500/1500 [==============================] - 30s 20ms/step - loss: 0.0860 - accuracy: 0.9747 - val_loss: 0.0743 - val_accuracy: 0.9771\n",
            "Epoch 3/30\n",
            "1500/1500 [==============================] - 32s 21ms/step - loss: 0.0556 - accuracy: 0.9834 - val_loss: 0.0569 - val_accuracy: 0.9827\n",
            "Epoch 4/30\n",
            "1500/1500 [==============================] - 30s 20ms/step - loss: 0.0397 - accuracy: 0.9872 - val_loss: 0.0544 - val_accuracy: 0.9838\n",
            "Epoch 5/30\n",
            "1500/1500 [==============================] - 31s 21ms/step - loss: 0.0294 - accuracy: 0.9907 - val_loss: 0.0630 - val_accuracy: 0.9810\n",
            "Epoch 6/30\n",
            "1500/1500 [==============================] - 32s 22ms/step - loss: 0.0215 - accuracy: 0.9932 - val_loss: 0.0508 - val_accuracy: 0.9862\n",
            "Epoch 7/30\n",
            "1500/1500 [==============================] - 30s 20ms/step - loss: 0.0156 - accuracy: 0.9954 - val_loss: 0.0600 - val_accuracy: 0.9837\n",
            "Epoch 8/30\n",
            "1500/1500 [==============================] - 30s 20ms/step - loss: 0.0114 - accuracy: 0.9969 - val_loss: 0.0508 - val_accuracy: 0.9859\n",
            "Epoch 9/30\n",
            "1500/1500 [==============================] - 29s 20ms/step - loss: 0.0091 - accuracy: 0.9975 - val_loss: 0.0514 - val_accuracy: 0.9867\n",
            "Epoch 10/30\n",
            "1500/1500 [==============================] - 29s 20ms/step - loss: 0.0064 - accuracy: 0.9982 - val_loss: 0.0512 - val_accuracy: 0.9867\n",
            "Epoch 11/30\n",
            "1500/1500 [==============================] - 30s 20ms/step - loss: 0.0045 - accuracy: 0.9990 - val_loss: 0.0537 - val_accuracy: 0.9865\n",
            "Epoch 12/30\n",
            "1500/1500 [==============================] - 30s 20ms/step - loss: 0.0033 - accuracy: 0.9993 - val_loss: 0.0560 - val_accuracy: 0.9869\n",
            "Epoch 13/30\n",
            "1500/1500 [==============================] - 30s 20ms/step - loss: 0.0023 - accuracy: 0.9996 - val_loss: 0.0538 - val_accuracy: 0.9865\n",
            "Epoch 14/30\n",
            "1500/1500 [==============================] - 30s 20ms/step - loss: 0.0017 - accuracy: 0.9997 - val_loss: 0.0536 - val_accuracy: 0.9872\n",
            "Epoch 15/30\n",
            "1500/1500 [==============================] - 30s 20ms/step - loss: 8.1796e-04 - accuracy: 0.9999 - val_loss: 0.0533 - val_accuracy: 0.9874\n",
            "Epoch 16/30\n",
            "1500/1500 [==============================] - 31s 21ms/step - loss: 6.7877e-04 - accuracy: 0.9999 - val_loss: 0.0556 - val_accuracy: 0.9878\n",
            "Epoch 17/30\n",
            "1500/1500 [==============================] - 31s 21ms/step - loss: 5.2329e-04 - accuracy: 1.0000 - val_loss: 0.0557 - val_accuracy: 0.9871\n",
            "Epoch 18/30\n",
            "1500/1500 [==============================] - 30s 20ms/step - loss: 4.4813e-04 - accuracy: 1.0000 - val_loss: 0.0572 - val_accuracy: 0.9874\n",
            "Epoch 19/30\n",
            "1500/1500 [==============================] - 30s 20ms/step - loss: 3.9538e-04 - accuracy: 1.0000 - val_loss: 0.0573 - val_accuracy: 0.9873\n",
            "Epoch 20/30\n",
            "1500/1500 [==============================] - 30s 20ms/step - loss: 3.5207e-04 - accuracy: 1.0000 - val_loss: 0.0583 - val_accuracy: 0.9872\n",
            "Epoch 21/30\n",
            "1500/1500 [==============================] - 30s 20ms/step - loss: 3.2501e-04 - accuracy: 1.0000 - val_loss: 0.0588 - val_accuracy: 0.9873\n",
            "Epoch 22/30\n",
            "1500/1500 [==============================] - 30s 20ms/step - loss: 2.9451e-04 - accuracy: 1.0000 - val_loss: 0.0590 - val_accuracy: 0.9876\n",
            "Epoch 23/30\n",
            "1500/1500 [==============================] - 30s 20ms/step - loss: 2.6577e-04 - accuracy: 1.0000 - val_loss: 0.0595 - val_accuracy: 0.9879\n",
            "Epoch 24/30\n",
            "1500/1500 [==============================] - 31s 21ms/step - loss: 2.5245e-04 - accuracy: 1.0000 - val_loss: 0.0597 - val_accuracy: 0.9875\n",
            "Epoch 25/30\n",
            "1500/1500 [==============================] - 30s 20ms/step - loss: 2.3261e-04 - accuracy: 1.0000 - val_loss: 0.0607 - val_accuracy: 0.9875\n",
            "Epoch 26/30\n",
            "1500/1500 [==============================] - 30s 20ms/step - loss: 2.1922e-04 - accuracy: 1.0000 - val_loss: 0.0610 - val_accuracy: 0.9877\n",
            "Epoch 27/30\n",
            "1500/1500 [==============================] - 33s 22ms/step - loss: 2.0772e-04 - accuracy: 1.0000 - val_loss: 0.0617 - val_accuracy: 0.9878\n",
            "Epoch 28/30\n",
            "1500/1500 [==============================] - 30s 20ms/step - loss: 1.9469e-04 - accuracy: 1.0000 - val_loss: 0.0613 - val_accuracy: 0.9877\n",
            "Epoch 29/30\n",
            "1500/1500 [==============================] - 30s 20ms/step - loss: 1.8175e-04 - accuracy: 1.0000 - val_loss: 0.0620 - val_accuracy: 0.9876\n",
            "Epoch 30/30\n",
            "1500/1500 [==============================] - 30s 20ms/step - loss: 1.7321e-04 - accuracy: 1.0000 - val_loss: 0.0626 - val_accuracy: 0.9876\n"
          ],
          "name": "stdout"
        }
      ]
    },
    {
      "cell_type": "markdown",
      "metadata": {
        "id": "VGVORRjd3i8w"
      },
      "source": [
        "## Plot the learning curve"
      ]
    },
    {
      "cell_type": "code",
      "metadata": {
        "id": "EkNaRdnj3i8y",
        "outputId": "c3d87ba1-abf7-44e4-bc4c-cf63efc819e4",
        "colab": {
          "base_uri": "https://localhost:8080/",
          "height": 404
        }
      },
      "source": [
        "plt.figure(figsize=(20,6))\n",
        "\n",
        "plt.subplot(121)\n",
        "plt.plot(history.history['loss'])\n",
        "plt.plot(history.history['val_loss'])\n",
        "plt.title('Model loss')\n",
        "plt.ylabel('Loss')\n",
        "plt.xlabel('Epoch')\n",
        "plt.legend(['Train', 'Val'], loc='upper right')\n",
        "#plt.ylim((0,2))\n",
        "\n",
        "plt.subplot(122)\n",
        "plt.plot(history.history['accuracy'])\n",
        "plt.plot(history.history['val_accuracy'])\n",
        "plt.title('Model accuracy')\n",
        "plt.ylabel('Accuracy')\n",
        "plt.xlabel('Epoch')\n",
        "plt.legend(['Train','Val'], loc='lower right')\n",
        "plt.show()"
      ],
      "execution_count": 59,
      "outputs": [
        {
          "output_type": "display_data",
          "data": {
            "image/png": "[encoded data removed]",
            "text/plain": [
              "<Figure size 1440x432 with 2 Axes>"
            ]
          },
          "metadata": {
            "tags": [],
            "needs_background": "light"
          }
        }
      ]
    },
    {
      "cell_type": "markdown",
      "metadata": {
        "id": "w75U6As0CGHx"
      },
      "source": [
        "## Save the model"
      ]
    },
    {
      "cell_type": "code",
      "metadata": {
        "id": "f0DX0H_GCIFt"
      },
      "source": [
        "model.save('mnist_cnn.h5')"
      ],
      "execution_count": 60,
      "outputs": []
    },
    {
      "cell_type": "markdown",
      "metadata": {
        "id": "hpJQ7IB9-vZz"
      },
      "source": [
        "## Model evaluation"
      ]
    },
    {
      "cell_type": "code",
      "metadata": {
        "id": "sh7Kgr9uCkK2"
      },
      "source": [
        "# load the saved model\n",
        "model = load_model('mnist_cnn.h5')"
      ],
      "execution_count": 61,
      "outputs": []
    },
    {
      "cell_type": "code",
      "metadata": {
        "id": "F53I5epgCq6_",
        "outputId": "efabca97-fa7f-4573-fc0d-c1f535c0c842",
        "colab": {
          "base_uri": "https://localhost:8080/",
          "height": 1000
        }
      },
      "source": [
        "# explore the model\n",
        "model.get_weights()"
      ],
      "execution_count": 62,
      "outputs": [
        {
          "output_type": "execute_result",
          "data": {
            "text/plain": [
              "[array([[[[-0.50572854,  0.17053813, -0.29024267, -0.17105314,\n",
              "           -0.41211402,  0.6171978 ,  0.3779728 ,  0.40740758,\n",
              "            0.28947988,  0.51012415,  0.31679654,  0.01940205,\n",
              "           -0.16976538,  0.08339087, -0.05403702, -1.026621  ,\n",
              "            0.2801109 ,  0.7120515 , -0.322203  , -0.01494045,\n",
              "           -0.24020144,  0.31633058, -0.33669475,  0.9094108 ,\n",
              "           -0.64656466,  0.11308336,  0.32593247,  0.20690934,\n",
              "            0.80976325, -0.06303813,  0.24251533, -0.02120581]],\n",
              " \n",
              "         [[-0.38129348,  0.1294308 , -0.8978309 , -0.35319483,\n",
              "            0.3015371 ,  0.8552645 ,  1.040552  , -0.19768396,\n",
              "            0.30373424,  0.69064415,  0.29183996, -0.13046554,\n",
              "            0.12404695,  0.27833956, -0.18519568,  0.116607  ,\n",
              "            0.21295638,  0.21313216, -0.09803703,  0.10098012,\n",
              "           -0.4004641 ,  0.8752947 , -0.54689866, -0.30539688,\n",
              "           -1.0440586 ,  0.31695086,  0.585852  ,  0.2801958 ,\n",
              "            0.3021868 ,  0.04363283,  0.61057156,  0.342012  ]],\n",
              " \n",
              "         [[ 0.75268894, -0.5759324 , -0.82886577, -0.38323286,\n",
              "            0.23245347,  0.98255134,  1.1052897 , -0.31606323,\n",
              "            0.09458493, -0.06731652,  0.5441343 ,  0.11414215,\n",
              "            0.01579249,  0.02503731, -0.22372504,  0.6906408 ,\n",
              "           -0.18332045, -0.4733811 , -0.16226126, -0.03408952,\n",
              "            0.13152096,  0.53877336, -0.41631028, -1.2691276 ,\n",
              "           -0.95567745,  0.49895358,  0.49350387, -0.07475213,\n",
              "           -0.5352634 , -0.11496049,  0.21559244,  0.19759965]]],\n",
              " \n",
              " \n",
              "        [[[-0.54558367,  0.44774434,  0.30472937, -0.3418744 ,\n",
              "            0.1749552 , -0.68363065, -0.69706815,  0.32164103,\n",
              "            0.10957886, -0.14834742,  0.05172526, -0.07280316,\n",
              "           -0.04505426, -0.10503872, -0.12900499, -0.03559932,\n",
              "            0.17366405,  0.73275036,  0.20474418, -0.06989212,\n",
              "           -0.39788747, -0.47348425,  0.53154004,  1.1095834 ,\n",
              "           -0.43573156,  0.15510881,  0.31682318,  0.40721202,\n",
              "            0.51486355,  0.03347836,  0.47809982,  0.43173906]],\n",
              " \n",
              "         [[-0.14369361,  0.04288214,  0.16898973, -0.32941836,\n",
              "            0.896951  , -0.01121527, -0.38130742, -0.1506858 ,\n",
              "            0.37579355,  0.697537  , -0.09466955,  0.05098128,\n",
              "           -0.00438217,  0.47086954, -0.16032726,  0.9606068 ,\n",
              "            0.2596542 , -0.24603403, -0.15007992, -0.13637978,\n",
              "           -0.30748624,  0.23652598, -0.23014364,  0.10928211,\n",
              "           -0.2931972 ,  0.30928904,  0.04277162, -0.00359383,\n",
              "           -0.42910776, -0.1418696 ,  0.27974746,  0.40533754]],\n",
              " \n",
              "         [[ 0.7362415 , -0.514135  ,  0.05433024,  0.11675063,\n",
              "            0.5999608 , -0.13321853, -0.2760899 , -0.14005297,\n",
              "           -0.23882698,  0.56127703,  0.12459251,  0.05824954,\n",
              "            0.3721002 ,  0.36669302,  0.1271074 ,  0.260709  ,\n",
              "           -0.16969661, -0.504789  , -0.18421902, -0.09378263,\n",
              "            0.59028286,  0.5072107 , -0.5564624 , -1.1982245 ,\n",
              "           -0.0604917 ,  0.2359794 ,  0.04915415, -0.1827829 ,\n",
              "           -0.38112748, -0.08357895, -0.33279032,  0.02634316]]],\n",
              " \n",
              " \n",
              "        [[[-0.30229342,  0.44188902,  0.6943037 ,  0.23425055,\n",
              "            0.24133533, -0.9139647 , -0.80464715,  0.3562104 ,\n",
              "            0.07568765, -0.7979896 , -0.3490401 , -0.08010998,\n",
              "           -0.16148284, -0.3166962 , -0.19849528,  0.47878715,\n",
              "           -0.22722885,  0.07817333,  0.37849846,  0.00793887,\n",
              "           -0.38065377, -0.94792056,  0.58665   ,  0.9062414 ,\n",
              "            1.2014161 , -0.615008  , -0.6617204 , -0.03246889,\n",
              "           -0.2474766 , -0.01788067,  0.11950153,  0.32133085]],\n",
              " \n",
              "         [[ 0.13169178,  0.18331318,  0.7164398 ,  0.58000606,\n",
              "            0.03916581, -0.75137615, -0.59885496,  0.17739616,\n",
              "            0.39870965,  0.04223711, -0.4963441 ,  0.01318864,\n",
              "           -0.240458  , -0.00285324, -0.19291928,  0.43405202,\n",
              "            0.34004843, -0.60310084,  0.08237299,  0.00205888,\n",
              "           -0.06808848, -0.73130965,  0.6718465 ,  0.6313547 ,\n",
              "            1.3976165 , -0.5424181 , -0.64433515, -0.3628432 ,\n",
              "           -0.45917904,  0.03268176, -0.1954678 ,  0.37409383]],\n",
              " \n",
              "         [[ 0.31628323, -0.08775023,  0.36178973,  0.5418547 ,\n",
              "            0.0250889 , -0.81454694, -0.7471763 ,  0.13063003,\n",
              "            0.2912392 ,  0.7571998 , -0.28330156, -0.13813795,\n",
              "           -0.00491852, -0.07096203,  0.35402343, -0.5994772 ,\n",
              "            0.41699204, -0.47620702, -0.11599369,  0.1333986 ,\n",
              "            0.7429908 ,  0.03710117, -0.11649272, -0.4881634 ,\n",
              "            0.79510677, -0.54489255, -0.30621442, -0.28736502,\n",
              "           -0.29279378, -0.11457837, -0.69099444, -0.13775258]]]],\n",
              "       dtype=float32),\n",
              " array([-4.73490320e-02, -1.21105835e-01, -1.03052758e-01,  4.56030760e-03,\n",
              "        -2.58141398e-01,  1.91251165e-04,  1.03552756e-03, -2.47441560e-01,\n",
              "        -4.67643827e-01, -7.07668960e-01,  1.18615897e-03,  8.16180184e-03,\n",
              "         5.67563158e-03, -2.98125111e-02,  1.54807881e-01, -3.52810770e-01,\n",
              "        -4.10268843e-01,  9.42318980e-03,  1.97670935e-03,  1.48467405e-03,\n",
              "         6.63247285e-03, -1.55501753e-01,  6.40509138e-03, -2.99843371e-01,\n",
              "        -4.15217728e-05, -2.53036171e-02, -8.68109419e-05,  4.99629928e-03,\n",
              "         2.15598550e-02, -1.81787238e-02, -8.67909119e-02, -4.11109507e-01],\n",
              "       dtype=float32),\n",
              " array([[ 0.02894735,  0.01097589, -0.0273269 , ..., -0.00845939,\n",
              "         -0.02917923,  0.01285289],\n",
              "        [-0.01617393, -0.0111042 , -0.01464349, ...,  0.02838233,\n",
              "          0.02761224, -0.01008752],\n",
              "        [-0.0180311 ,  0.03184618, -0.0185024 , ..., -0.02333282,\n",
              "         -0.00412433, -0.01959079],\n",
              "        ...,\n",
              "        [ 0.00834659, -0.02017776, -0.01827362, ..., -0.03161169,\n",
              "          0.00886019,  0.02252825],\n",
              "        [ 0.01792841, -0.03093147,  0.02516737, ..., -0.01846498,\n",
              "         -0.01208402, -0.00721063],\n",
              "        [ 0.00253147,  0.01588149,  0.00588695, ...,  0.01525817,\n",
              "         -0.01368923,  0.01802472]], dtype=float32),\n",
              " array([ 9.35474113e-02,  3.61507311e-02,  1.50192708e-01, -4.05338389e-04,\n",
              "        -4.21163589e-02, -2.19142884e-02,  5.16073033e-02, -3.99503484e-03,\n",
              "         3.49711850e-02, -1.73053280e-01, -1.44561548e-02,  5.33793531e-02,\n",
              "        -3.61512341e-02, -2.56252699e-02,  9.49741006e-02, -4.92453538e-02,\n",
              "        -1.28886756e-02, -1.59736678e-01, -3.44914035e-04, -4.03245203e-02,\n",
              "         1.59111383e-04, -1.77016929e-02,  1.21101392e-02, -7.13639557e-02,\n",
              "         1.70698622e-03,  2.48132721e-02,  7.57349133e-02, -2.16693711e-02,\n",
              "        -3.22684209e-04, -1.05046174e-02, -9.33384895e-02, -1.39766745e-02,\n",
              "        -3.34345251e-02,  4.48885933e-02, -4.32768203e-02,  7.82448053e-02,\n",
              "         1.32741541e-01, -8.27438571e-03,  6.10983931e-02,  2.83322427e-02,\n",
              "        -5.07813587e-04,  1.14057641e-02, -1.27178088e-01, -9.47465450e-02,\n",
              "         2.51794755e-02,  4.51319702e-02,  1.84640549e-02,  1.10653257e-02,\n",
              "        -3.04747093e-03,  6.38736784e-02,  1.10692054e-01, -6.21961355e-02,\n",
              "         4.14091498e-02,  7.50235915e-02,  8.30846205e-02,  3.36766266e-03,\n",
              "        -5.27764596e-02, -1.42639754e-02,  8.29343051e-02, -6.26494586e-02,\n",
              "        -1.02116661e-02,  4.24446650e-02,  7.19126401e-05,  5.40901311e-02,\n",
              "        -1.12864077e-02, -1.18580451e-02,  8.71920884e-02,  3.58952135e-02,\n",
              "         2.77785547e-02, -2.78936978e-02, -5.60762808e-02,  5.82892857e-02,\n",
              "        -2.00955905e-02,  1.53860403e-02,  7.68456683e-02, -1.84719462e-03,\n",
              "         7.83530250e-02,  1.51825044e-03,  4.97582853e-02,  3.75752291e-03,\n",
              "        -3.52801122e-02,  2.70565208e-02,  2.96511278e-02,  4.19538692e-02,\n",
              "         1.63171757e-02, -1.12568680e-02, -1.98022462e-02,  4.44842838e-02,\n",
              "         1.06882658e-02,  5.81808612e-02,  1.11355800e-02, -4.13437784e-02,\n",
              "         6.30668225e-03, -3.15249786e-02,  8.23196471e-02,  6.04913421e-02,\n",
              "        -1.13005033e-02, -7.72714168e-02,  3.27994302e-02,  7.89266254e-04],\n",
              "       dtype=float32),\n",
              " array([[ 2.73567252e-02, -2.30984360e-01,  1.64909020e-01,\n",
              "          3.38002592e-01, -7.27959216e-01,  2.63248712e-01,\n",
              "         -3.35305840e-01,  4.41492885e-01, -4.73868191e-01,\n",
              "          1.00046411e-01],\n",
              "        [-3.94398689e-01,  2.40051806e-01,  2.01882780e-01,\n",
              "         -6.05086923e-01,  1.54809192e-01,  1.95868850e-01,\n",
              "          6.94137588e-02, -2.26736784e-01,  2.96911240e-01,\n",
              "          2.40664463e-02],\n",
              "        [ 2.30754837e-01,  4.80558246e-01, -5.22694051e-01,\n",
              "         -5.07964790e-01, -2.51977742e-01,  4.92312849e-01,\n",
              "         -3.86423245e-03, -1.34900302e-01, -3.76535535e-01,\n",
              "          3.29221964e-01],\n",
              "        [ 1.14410281e-01, -8.07208661e-03, -5.53280413e-01,\n",
              "          5.69556117e-01, -1.40873298e-01,  4.39978719e-01,\n",
              "         -5.78143410e-02, -5.76324046e-01,  3.67030084e-01,\n",
              "          1.29709944e-01],\n",
              "        [ 3.77671450e-01, -2.86288440e-01, -3.69857848e-01,\n",
              "          1.23276956e-01,  4.27171260e-01, -3.06388736e-01,\n",
              "         -1.79929838e-01,  6.30966574e-02, -8.68496299e-02,\n",
              "          3.33906233e-01],\n",
              "        [-2.66252309e-01, -2.32065886e-01, -2.05687970e-01,\n",
              "         -2.04196468e-01,  2.29896858e-01,  1.46151379e-01,\n",
              "          1.58735335e-01,  6.60194978e-02, -1.76689565e-01,\n",
              "          1.36881068e-01],\n",
              "        [-3.46003592e-01,  1.93383649e-01, -8.58956218e-01,\n",
              "          5.32998182e-02,  6.26069725e-01,  2.54425287e-01,\n",
              "         -4.80633914e-01, -3.62531871e-01, -1.76806390e-01,\n",
              "          6.96788311e-01],\n",
              "        [-1.71679094e-01,  4.64379378e-02, -5.03593311e-02,\n",
              "          2.03931943e-01,  1.86831102e-01,  1.40076336e-02,\n",
              "          2.06978127e-01, -1.57414049e-01, -4.15181257e-02,\n",
              "          1.87042430e-02],\n",
              "        [ 4.85634021e-02,  1.36870950e-01, -9.67953950e-02,\n",
              "         -1.07903138e-01,  3.49138081e-01,  4.27955449e-01,\n",
              "          2.66293064e-03, -8.94228220e-02, -3.42164814e-01,\n",
              "         -3.55080292e-02],\n",
              "        [-1.58581417e-02, -6.29199982e-01,  7.42759183e-02,\n",
              "          2.17119649e-01, -1.24209322e-01, -5.46155870e-02,\n",
              "         -1.51213810e-01,  4.04485501e-02,  3.44325751e-01,\n",
              "          5.54530263e-01],\n",
              "        [-2.46719178e-02,  1.73666283e-01, -4.83983308e-01,\n",
              "          3.67573738e-01, -1.78570434e-01, -1.32909715e-01,\n",
              "          4.90385666e-02, -5.56431226e-02,  2.43332371e-01,\n",
              "         -2.97886670e-01],\n",
              "        [ 1.30645499e-01, -5.82966246e-02,  3.28476161e-01,\n",
              "          5.59965260e-02, -1.30227983e-01,  5.81240833e-01,\n",
              "         -6.14967681e-02,  2.58105211e-02, -6.63059533e-01,\n",
              "          1.94624707e-01],\n",
              "        [-3.86852920e-01,  1.47805929e-01,  1.74462020e-01,\n",
              "         -4.70692396e-01,  4.88654494e-01,  2.93786407e-01,\n",
              "         -2.81451851e-01, -3.29082400e-01,  2.87163317e-01,\n",
              "          3.13620746e-01],\n",
              "        [ 3.12852174e-01,  2.18651161e-01,  5.92105448e-01,\n",
              "          5.04887067e-02, -5.52459896e-01, -5.93481541e-01,\n",
              "         -4.22966361e-01,  2.47595701e-02,  1.81051046e-01,\n",
              "          7.16247857e-02],\n",
              "        [ 1.77864041e-02, -2.11790159e-01, -2.74984926e-01,\n",
              "         -4.59050596e-01,  3.30185480e-02,  4.12425935e-01,\n",
              "         -3.22955489e-01,  6.37696803e-01, -5.45914248e-02,\n",
              "         -1.74351290e-01],\n",
              "        [-2.85848349e-01,  7.07763955e-02,  4.19909716e-01,\n",
              "          5.46543777e-01, -7.57500350e-01, -2.97636807e-01,\n",
              "         -1.72635272e-01,  3.12831879e-01, -3.35126631e-02,\n",
              "         -5.68740010e-01],\n",
              "        [ 3.15046430e-01, -2.57891208e-01,  2.06589147e-01,\n",
              "          2.02055618e-01,  3.64567727e-01, -1.87587366e-01,\n",
              "         -2.99144000e-01, -2.01271668e-01, -1.60508692e-01,\n",
              "         -3.80732387e-01],\n",
              "        [-3.14903647e-01, -3.68236601e-01, -2.70183563e-01,\n",
              "          2.47714579e-01, -4.11048889e-01,  5.62013209e-01,\n",
              "          2.50489622e-01, -6.12146735e-01,  4.66701925e-01,\n",
              "          1.34044647e-01],\n",
              "        [-1.24726929e-01,  8.32247511e-02,  1.08282134e-01,\n",
              "          2.36178771e-01,  1.46263778e-01, -1.61157206e-01,\n",
              "         -1.77724645e-01,  1.39280230e-01, -4.78580855e-02,\n",
              "          2.30997533e-01],\n",
              "        [-8.87241121e-03, -3.83593291e-01, -4.84108403e-02,\n",
              "         -1.91157967e-01,  3.98262233e-01, -3.58854532e-01,\n",
              "          3.84192646e-01,  2.78512239e-01,  4.38844919e-01,\n",
              "          1.12752421e-02],\n",
              "        [ 2.70246863e-01,  6.46512732e-02, -4.20240968e-01,\n",
              "         -5.08255780e-01,  1.45499501e-02,  2.72156358e-01,\n",
              "         -1.26693279e-01, -2.45051563e-01, -6.77155703e-02,\n",
              "          3.91167700e-01],\n",
              "        [-5.83307110e-02,  3.29205513e-01,  3.96458119e-01,\n",
              "         -2.12960273e-01,  2.55251706e-01, -4.67407078e-01,\n",
              "         -1.01768836e-01,  5.42218685e-01,  3.29787731e-01,\n",
              "         -5.46243846e-01],\n",
              "        [ 3.80868822e-01,  3.21103334e-02,  1.39525801e-01,\n",
              "          3.37003618e-01, -3.85176271e-01, -2.40974307e-01,\n",
              "          2.54613847e-01, -2.90940881e-01, -3.86929572e-01,\n",
              "         -2.42241889e-01],\n",
              "        [ 1.41941860e-01, -4.62993205e-01, -8.70540664e-02,\n",
              "         -4.94247258e-01,  2.39733800e-01,  2.92158037e-01,\n",
              "          4.01510149e-01, -1.84765771e-01,  4.43919420e-01,\n",
              "          4.65343408e-02],\n",
              "        [-1.61599129e-01, -1.85452536e-01,  1.37588188e-01,\n",
              "         -2.29828984e-01,  4.98553999e-02, -1.86696965e-02,\n",
              "         -2.06114590e-01,  4.97582629e-02, -2.86867470e-02,\n",
              "         -3.03708822e-01],\n",
              "        [ 1.21472348e-02,  1.75760910e-01, -8.69700387e-02,\n",
              "          9.52654406e-02,  1.75574720e-01,  1.66851640e-01,\n",
              "          9.08834636e-02,  4.07386303e-01, -4.29774553e-01,\n",
              "         -2.97568381e-01],\n",
              "        [-1.77827463e-01, -1.04797795e-01, -2.29722455e-01,\n",
              "         -9.28318128e-02,  4.43386406e-01,  3.09684724e-01,\n",
              "         -2.33514026e-01,  3.64947706e-01, -9.16014761e-02,\n",
              "         -4.90719140e-01],\n",
              "        [ 2.08893880e-01, -1.48070427e-02,  2.12332025e-01,\n",
              "         -3.68031651e-01,  4.67080951e-01, -6.87495098e-02,\n",
              "          3.13264757e-01, -6.91452682e-01,  7.11939558e-02,\n",
              "          1.59935147e-01],\n",
              "        [ 2.39312649e-01,  4.82837483e-02,  3.52167040e-01,\n",
              "          6.59781843e-02,  9.65662301e-02, -1.36525378e-01,\n",
              "          1.06794983e-01, -1.00819599e-02, -4.82437253e-01,\n",
              "          2.35771179e-01],\n",
              "        [-9.69019458e-02,  8.74752477e-02, -1.27705321e-01,\n",
              "         -1.33226693e-01, -1.68058559e-01,  2.07610562e-01,\n",
              "          1.90937728e-01,  6.67110831e-03,  1.29732743e-01,\n",
              "          7.27923680e-03],\n",
              "        [ 1.05100498e-01, -1.45635366e-01,  8.37210715e-02,\n",
              "          1.68038353e-01, -4.05508369e-01, -6.19496226e-01,\n",
              "          1.52526647e-01, -1.75394788e-01,  5.57197183e-02,\n",
              "          4.59002167e-01],\n",
              "        [ 5.22094309e-01, -1.35587752e-01,  1.22428350e-01,\n",
              "         -4.37691286e-02,  4.71773259e-02, -4.26955819e-01,\n",
              "         -3.20496351e-01, -1.48189962e-01,  4.62662466e-02,\n",
              "          1.92760274e-01],\n",
              "        [ 3.22522111e-02, -5.77162439e-03,  4.09599483e-01,\n",
              "         -3.70993078e-01,  1.99158154e-02, -1.86447173e-01,\n",
              "          4.49118972e-01,  7.87629709e-02,  5.75797856e-01,\n",
              "         -5.27979791e-01],\n",
              "        [ 5.60934916e-02,  2.75819808e-01,  2.06475034e-01,\n",
              "         -2.29820430e-01,  1.17772520e-01, -4.13267285e-01,\n",
              "          4.57036227e-01, -2.09528372e-01, -2.49487936e-01,\n",
              "         -9.25560296e-02],\n",
              "        [ 2.03014478e-01, -1.76058978e-01, -5.50057925e-02,\n",
              "          2.64369726e-01,  1.61519587e-01, -2.23037392e-01,\n",
              "         -7.06264734e-01,  2.44386300e-01,  3.35039377e-01,\n",
              "          2.98280537e-01],\n",
              "        [-4.10853356e-01, -1.16226211e-01, -2.47271642e-01,\n",
              "         -1.26570955e-01,  4.98466104e-01,  4.46667433e-01,\n",
              "          1.32417962e-01, -2.18974665e-01, -2.66146839e-01,\n",
              "         -3.87045175e-01],\n",
              "        [-1.62494913e-01,  6.11895919e-01,  2.82450706e-01,\n",
              "         -4.10367280e-01, -5.41796148e-01, -3.52268279e-01,\n",
              "         -2.52117455e-01,  5.49257040e-01, -2.14171946e-01,\n",
              "          1.90917328e-01],\n",
              "        [-1.03360802e-01, -1.04771405e-01, -1.47445068e-01,\n",
              "          9.34634209e-02, -1.02146775e-01, -3.41414101e-03,\n",
              "          9.92344022e-02,  6.63499832e-02,  1.62290633e-01,\n",
              "          9.51905549e-02],\n",
              "        [ 1.88484550e-01,  2.83074509e-02,  1.74418449e-01,\n",
              "          2.18366057e-01,  1.91693366e-01, -7.60868415e-02,\n",
              "         -4.27434206e-01,  5.07622778e-01, -4.04848874e-01,\n",
              "         -1.41953841e-01],\n",
              "        [-5.80848753e-02,  1.16208024e-01,  4.69317287e-01,\n",
              "         -5.15941858e-01, -1.04807124e-01,  3.48314822e-01,\n",
              "         -2.34598279e-01,  5.68271577e-01, -7.88305253e-02,\n",
              "         -5.45061752e-02],\n",
              "        [ 1.00818574e-01,  2.04905808e-01, -4.30856720e-02,\n",
              "         -1.24119714e-01, -1.39962658e-01, -1.39152393e-01,\n",
              "         -7.48588592e-02,  6.90976577e-03, -4.55303080e-02,\n",
              "          7.59333223e-02],\n",
              "        [-1.11443780e-01, -3.22640717e-01,  4.45844561e-01,\n",
              "         -1.57447264e-01,  5.82162917e-01, -5.50950356e-02,\n",
              "          2.36189649e-01, -5.32023489e-01, -7.92540908e-01,\n",
              "          4.63945448e-01],\n",
              "        [ 5.46525955e-01, -3.30477268e-01,  4.68182355e-01,\n",
              "         -3.18350911e-01, -6.51778817e-01,  8.52191672e-02,\n",
              "          2.00470209e-01, -3.63872200e-01,  3.13685864e-01,\n",
              "          5.01013286e-02],\n",
              "        [ 2.65801102e-01, -3.40583444e-01, -5.28881662e-02,\n",
              "          3.88319135e-01, -2.48382717e-01,  3.44208241e-01,\n",
              "          3.61803263e-01, -3.76740038e-01,  4.58608836e-01,\n",
              "          1.05790555e-01],\n",
              "        [ 3.28018457e-01, -4.13392186e-02,  3.28866690e-02,\n",
              "          1.53657973e-01, -1.78824097e-01, -2.81060576e-01,\n",
              "          8.14961791e-02,  2.85186350e-01, -2.65272409e-01,\n",
              "         -4.40587282e-01],\n",
              "        [-3.04674804e-01,  4.19695526e-01, -1.14457838e-01,\n",
              "         -3.01615689e-02,  7.45384321e-02, -4.57810834e-02,\n",
              "         -6.72065392e-02,  2.79707193e-01,  4.73965444e-02,\n",
              "         -6.02773368e-01],\n",
              "        [ 7.95795098e-02,  5.39068952e-02,  4.02679771e-01,\n",
              "          1.25881597e-01, -1.89072192e-01,  3.16107512e-01,\n",
              "         -5.99638283e-01, -2.33220398e-01, -5.70743263e-01,\n",
              "          3.84667754e-01],\n",
              "        [ 1.86910063e-01, -2.03454360e-01, -1.23453513e-01,\n",
              "         -7.54692927e-02, -1.00915186e-01, -3.83648455e-01,\n",
              "          3.58655959e-01,  2.38493785e-01, -4.37665343e-01,\n",
              "          9.32275504e-02],\n",
              "        [-6.91646338e-02, -1.06046185e-01,  2.94624716e-01,\n",
              "         -7.03591481e-02,  5.28329074e-01, -1.37756318e-01,\n",
              "          3.13497961e-01, -1.41655669e-01, -2.62404025e-01,\n",
              "         -5.80164969e-01],\n",
              "        [ 4.47783709e-01, -1.38602868e-01,  2.50500888e-01,\n",
              "         -2.64804661e-01, -2.32200056e-01,  2.48373762e-01,\n",
              "         -7.53534809e-02, -2.03645527e-01, -3.95933151e-01,\n",
              "         -1.84861451e-01],\n",
              "        [-5.77265441e-01,  4.87968475e-01, -4.89812613e-01,\n",
              "          3.01884282e-02,  2.97350973e-01,  3.22946221e-01,\n",
              "         -1.46399587e-01, -1.00075118e-01, -2.85954237e-01,\n",
              "          4.05156538e-02],\n",
              "        [-1.92043170e-01, -2.37376899e-01,  4.48890895e-01,\n",
              "         -6.24556430e-02,  3.19300145e-01, -3.17004174e-01,\n",
              "         -3.62176180e-01,  1.42055517e-03,  3.21439058e-01,\n",
              "         -1.25721946e-01],\n",
              "        [ 2.52927691e-02,  1.68646187e-01, -2.51904353e-02,\n",
              "          5.00982217e-02,  4.96416748e-01, -7.06933066e-02,\n",
              "         -3.46731603e-01,  3.10987711e-01, -3.68866324e-01,\n",
              "          3.95890862e-01],\n",
              "        [-3.36329162e-01,  5.63124955e-01, -3.53562176e-01,\n",
              "          2.79911667e-01, -2.23320961e-01,  4.81369980e-02,\n",
              "         -5.21780960e-02,  4.39858884e-01, -5.07773936e-01,\n",
              "         -1.09307885e-01],\n",
              "        [ 1.71108976e-01, -2.52827294e-02,  8.88313204e-02,\n",
              "          3.18265110e-01, -4.33625311e-01,  6.09340310e-01,\n",
              "          2.94214189e-01, -2.00054258e-01, -6.72967970e-01,\n",
              "         -1.29071429e-01],\n",
              "        [ 1.60103843e-01, -2.05206908e-02, -2.16302067e-01,\n",
              "          1.13872603e-01, -2.02723220e-01, -8.86922032e-02,\n",
              "          5.81153249e-03,  8.32263678e-02,  6.23037331e-02,\n",
              "          6.15954287e-02],\n",
              "        [ 1.53122440e-01,  2.03323588e-02,  2.41090700e-01,\n",
              "         -3.96938413e-01,  3.20640534e-01, -3.71267438e-01,\n",
              "          9.37542170e-02, -3.21642786e-01,  1.05855592e-01,\n",
              "          1.99294597e-01],\n",
              "        [-3.10894549e-01,  2.74949878e-01,  1.30542472e-01,\n",
              "          1.27245486e-01, -6.83880270e-01,  2.61758447e-01,\n",
              "          3.47346693e-01,  6.13556011e-03,  4.81598437e-01,\n",
              "         -1.43493846e-01],\n",
              "        [-2.25509554e-01,  2.84300834e-01, -7.84058124e-03,\n",
              "          3.47127281e-02,  9.05917212e-02, -5.27216196e-01,\n",
              "          4.57374901e-01,  3.49339604e-01, -5.03716886e-01,\n",
              "          9.43673775e-02],\n",
              "        [-4.23043519e-01, -2.49109104e-01,  2.42048889e-01,\n",
              "         -2.25537661e-02, -7.85410926e-02,  6.01849928e-02,\n",
              "         -5.82208455e-01,  1.24474287e-01,  3.91583353e-01,\n",
              "         -9.70591675e-04],\n",
              "        [ 3.11295420e-01, -1.37524307e-01, -4.00086462e-01,\n",
              "         -5.03010333e-01,  1.47301495e-01, -2.51251072e-01,\n",
              "         -1.78517222e-01,  4.11357105e-01,  3.19859356e-01,\n",
              "         -2.33169869e-01],\n",
              "        [-2.64672309e-01,  7.41501689e-01, -4.89820391e-01,\n",
              "          5.50265253e-01,  3.51244569e-01, -3.30924183e-01,\n",
              "         -1.65385514e-01, -1.51470304e-01, -2.64752388e-01,\n",
              "         -2.64676750e-01],\n",
              "        [ 1.04479976e-02,  4.60013701e-03, -3.27286869e-02,\n",
              "         -1.53397858e-01,  1.53117433e-01, -4.32801843e-02,\n",
              "         -1.46518737e-01,  2.04049975e-01,  1.09907007e-02,\n",
              "         -2.71960571e-02],\n",
              "        [ 1.37845039e-01,  1.48085639e-01,  3.48558962e-01,\n",
              "         -6.38501167e-01,  3.80206466e-01,  8.82653818e-02,\n",
              "         -1.65154915e-02,  6.10915363e-01, -4.11584646e-01,\n",
              "          3.76748890e-01],\n",
              "        [-1.08674191e-01,  2.13464424e-01, -1.97837129e-01,\n",
              "          1.70027331e-01, -1.09020375e-01, -1.95495278e-01,\n",
              "          1.39838010e-01,  2.04756007e-01,  1.22411989e-01,\n",
              "         -8.84361267e-02],\n",
              "        [-8.63125082e-03, -3.58951017e-02, -5.16515784e-02,\n",
              "          1.23213328e-01, -2.07237601e-01, -1.44810423e-01,\n",
              "          9.23515260e-02, -2.32818097e-01,  5.28563783e-02,\n",
              "         -3.13965678e-02],\n",
              "        [-1.46027625e-01,  8.00582826e-01,  7.41606429e-02,\n",
              "         -3.13060254e-01,  2.63537407e-01,  1.42091736e-01,\n",
              "          2.14083076e-01, -1.69959292e-01, -5.50565720e-01,\n",
              "         -3.05720061e-01],\n",
              "        [ 3.29163194e-01,  2.81285614e-01, -4.85423535e-01,\n",
              "         -2.21124649e-01,  3.84182602e-01, -2.41796002e-01,\n",
              "          1.85116991e-01,  2.11082205e-01, -4.02548313e-01,\n",
              "          6.48494437e-02],\n",
              "        [ 3.64669025e-01,  1.42822281e-01, -1.44148335e-01,\n",
              "          4.44885306e-02,  3.47722345e-03, -2.64421999e-01,\n",
              "          4.79742050e-01,  6.00351021e-02, -2.27197334e-01,\n",
              "         -3.01233172e-01],\n",
              "        [-1.39452532e-01,  2.08954439e-01, -4.04240265e-02,\n",
              "          3.42246205e-01,  6.36955351e-02,  3.06069791e-01,\n",
              "         -1.85458899e-01, -4.36441153e-01, -1.09402917e-01,\n",
              "          5.35164535e-01],\n",
              "        [ 2.06213996e-01, -4.90846753e-01, -4.79692489e-01,\n",
              "          2.57997572e-01, -2.42874697e-01,  2.98987776e-01,\n",
              "          1.11084841e-01,  2.41756588e-02,  2.92564392e-01,\n",
              "          1.50871366e-01],\n",
              "        [-5.70584536e-01,  8.70352238e-02,  2.58550465e-01,\n",
              "          3.36493939e-01, -3.25762808e-01,  1.63083240e-01,\n",
              "          1.74149603e-01,  1.14505373e-01, -1.58880755e-01,\n",
              "         -3.94030780e-01],\n",
              "        [ 3.50494146e-01, -1.39272362e-01,  5.59008062e-01,\n",
              "         -5.31241477e-01, -2.87382990e-01, -5.70354581e-01,\n",
              "         -2.87856311e-01, -2.31717706e-01,  3.69088709e-01,\n",
              "         -3.74516428e-01],\n",
              "        [ 4.16357368e-02,  1.55582190e-01,  4.13717806e-01,\n",
              "          5.21277606e-01,  3.50307189e-02, -9.30195451e-01,\n",
              "         -6.17938817e-01, -2.95380294e-01,  1.91872135e-01,\n",
              "          2.73235828e-01],\n",
              "        [-1.28954917e-01,  4.79889482e-01,  4.21535105e-01,\n",
              "         -4.32423770e-01, -6.36325479e-02, -1.03834972e-01,\n",
              "         -2.07440089e-02,  7.53711984e-02, -4.12042856e-01,\n",
              "          1.53652996e-01],\n",
              "        [ 1.54419150e-02, -2.28328541e-01,  1.48141444e-01,\n",
              "         -1.96584761e-01,  1.99481263e-03, -5.92532428e-03,\n",
              "         -7.80369490e-02, -2.07470000e-01, -8.09838250e-02,\n",
              "          1.27177000e-01],\n",
              "        [ 6.46501705e-02,  6.11662447e-01, -5.27446091e-01,\n",
              "         -3.29372555e-01,  3.01350147e-01,  3.48759979e-01,\n",
              "          5.14572978e-01,  5.28756306e-02, -2.31819049e-01,\n",
              "         -5.51056564e-01],\n",
              "        [ 3.66683215e-01, -2.78212696e-01,  2.61077195e-01,\n",
              "         -4.82673906e-02, -5.11296332e-01,  2.55373001e-01,\n",
              "          5.95085382e-01, -1.24283262e-01,  4.55525398e-01,\n",
              "         -3.24464232e-01],\n",
              "        [ 6.39193207e-02,  4.73086149e-01, -6.61303580e-01,\n",
              "         -5.75197518e-01, -4.62977678e-01,  1.46486923e-01,\n",
              "          6.51798964e-01, -2.38380194e-01, -1.27767578e-01,\n",
              "          2.42695659e-01],\n",
              "        [-2.49863654e-01, -2.33273134e-01,  8.86935368e-02,\n",
              "          7.13293329e-02, -8.36330593e-01,  5.32705128e-01,\n",
              "          2.93234408e-01,  2.71262825e-01, -1.83342725e-01,\n",
              "          2.95038313e-01],\n",
              "        [-4.71768767e-01, -3.62094015e-01, -3.49018514e-01,\n",
              "          4.92737949e-01,  6.96834410e-03,  3.69943857e-01,\n",
              "         -2.90621847e-01,  7.27591664e-02,  1.43485159e-01,\n",
              "          3.78953010e-01],\n",
              "        [ 3.87305647e-01,  3.83071572e-01, -3.78299326e-01,\n",
              "         -4.99441147e-01,  3.12876374e-01, -1.16811544e-01,\n",
              "         -9.96769071e-02,  5.37150055e-02,  3.89933050e-01,\n",
              "         -1.31219938e-01],\n",
              "        [-1.51004270e-01,  3.70261967e-01,  2.71649748e-01,\n",
              "          2.87716180e-01, -2.32988670e-01, -6.13433644e-02,\n",
              "         -9.88656953e-02,  4.93270516e-01, -6.42664209e-02,\n",
              "         -7.31267095e-01],\n",
              "        [ 1.73926637e-01, -1.84594244e-01, -1.58676095e-02,\n",
              "          5.07392228e-01, -1.54338047e-01,  4.93823618e-01,\n",
              "          2.44982347e-01, -4.88903224e-02, -2.51342088e-01,\n",
              "         -4.24014568e-01],\n",
              "        [-2.95539826e-01, -1.43644020e-01, -3.03690374e-01,\n",
              "          7.22537190e-02,  5.41686773e-01, -1.17324866e-01,\n",
              "         -3.67521010e-02,  4.34985459e-01, -5.70932329e-01,\n",
              "          5.62469304e-01],\n",
              "        [ 1.58206969e-01, -9.78650898e-02,  2.19037250e-01,\n",
              "         -1.63889468e-01,  7.47810081e-02,  7.77865574e-02,\n",
              "          2.12001279e-01,  2.02275813e-01,  1.40665427e-01,\n",
              "         -3.31322812e-02],\n",
              "        [ 1.51292041e-01,  2.37908468e-01, -1.44768819e-01,\n",
              "          1.40419006e-01, -9.65966433e-02, -7.25969374e-02,\n",
              "         -2.13008776e-01, -8.53515565e-02,  2.66892731e-01,\n",
              "          4.08508152e-01],\n",
              "        [ 2.12236106e-01, -1.96683612e-02,  4.47008759e-01,\n",
              "          3.08582097e-01, -1.80765361e-01,  1.37116224e-01,\n",
              "          3.70111540e-02,  3.58229309e-01, -9.72452387e-03,\n",
              "         -8.70890081e-01],\n",
              "        [ 4.80751321e-03, -7.56207630e-02, -7.46738389e-02,\n",
              "          5.81975132e-02, -1.01638131e-01, -4.90422212e-02,\n",
              "         -2.38813892e-01,  2.19887659e-01, -1.27264723e-01,\n",
              "          2.34902427e-01],\n",
              "        [-8.85223076e-02,  1.26167431e-01, -4.89361882e-01,\n",
              "         -4.28955823e-01,  3.93582821e-01, -9.82376635e-02,\n",
              "         -5.01289189e-01,  4.43353683e-01,  1.56301767e-01,\n",
              "          1.73334405e-01],\n",
              "        [ 2.86712386e-02,  1.25141576e-01,  1.36663439e-02,\n",
              "          3.52612808e-02, -3.94063354e-01,  2.27783874e-01,\n",
              "         -1.92606658e-01, -2.49713793e-01,  5.83597608e-02,\n",
              "         -8.41372311e-02],\n",
              "        [ 1.22805625e-01, -3.14140499e-01,  4.94313473e-03,\n",
              "          3.34650010e-01, -1.80043897e-03, -1.08451776e-01,\n",
              "          3.35214347e-01, -2.61236101e-01, -4.65370686e-04,\n",
              "         -9.13461670e-02],\n",
              "        [-9.50400531e-02,  3.17082047e-01, -2.68241018e-01,\n",
              "          4.55799192e-01, -2.57972747e-01, -2.39390627e-01,\n",
              "         -2.53030062e-01,  4.66356158e-01, -3.00781637e-01,\n",
              "         -3.17843646e-01],\n",
              "        [-4.17563796e-01,  1.48789153e-01,  1.27666369e-01,\n",
              "          3.70259196e-01, -8.01750198e-02,  2.92143047e-01,\n",
              "         -4.46289688e-01,  1.00998312e-01,  2.60351419e-01,\n",
              "          3.66886497e-01],\n",
              "        [ 3.25471222e-01, -1.39520824e-01, -6.66404963e-01,\n",
              "          1.87625006e-01,  2.73456424e-01,  3.69640797e-01,\n",
              "          3.59518677e-01,  6.51137173e-01, -3.05042773e-01,\n",
              "         -3.18559408e-01],\n",
              "        [-2.07579494e-01,  1.87537268e-01,  6.33077502e-01,\n",
              "          3.88890952e-01,  1.14830285e-01, -1.79402709e-01,\n",
              "         -2.69612789e-01,  4.82246101e-01, -4.45331931e-01,\n",
              "         -3.55283529e-01],\n",
              "        [-9.72863808e-02, -1.43265441e-01, -2.20788002e-01,\n",
              "         -1.02236457e-01, -2.03057230e-01, -5.67446537e-02,\n",
              "         -1.79443046e-01,  1.68301120e-01,  1.33834928e-01,\n",
              "          2.28187323e-01],\n",
              "        [-4.83875543e-01,  6.41235486e-02, -3.10938418e-01,\n",
              "          1.62084296e-01,  1.63523689e-01, -1.33237362e-01,\n",
              "          5.13684273e-01, -2.08204597e-01,  4.45870340e-01,\n",
              "          5.37407473e-02],\n",
              "        [-1.23651419e-02,  3.69115286e-02, -2.47163132e-01,\n",
              "          2.01919660e-01, -6.29729033e-01, -1.30456507e-01,\n",
              "         -2.87977666e-01,  5.37704885e-01, -3.10242593e-01,\n",
              "          5.81607699e-01],\n",
              "        [-2.35209882e-01, -1.57620147e-01, -1.08969495e-01,\n",
              "         -1.10671759e-01,  8.48490279e-03,  1.22530341e-01,\n",
              "         -1.46320120e-01,  9.21807885e-02, -2.09267452e-01,\n",
              "         -8.03002268e-02]], dtype=float32),\n",
              " array([-0.06719172,  0.23901097, -0.01708203, -0.10059173,  0.03811754,\n",
              "         0.12587403, -0.12161198,  0.05990608, -0.1324918 , -0.02396622],\n",
              "       dtype=float32)]"
            ]
          },
          "metadata": {
            "tags": []
          },
          "execution_count": 62
        }
      ]
    },
    {
      "cell_type": "code",
      "metadata": {
        "id": "IhCOOeS6C1vZ",
        "outputId": "53e26c05-d79e-4c4e-8cdd-81c8b6aae647",
        "colab": {
          "base_uri": "https://localhost:8080/",
          "height": 51
        }
      },
      "source": [
        "model.evaluate(X_test_3d, y_test_onehot, batch_size=32)"
      ],
      "execution_count": 63,
      "outputs": [
        {
          "output_type": "stream",
          "text": [
            "313/313 [==============================] - 2s 7ms/step - loss: 0.0547 - accuracy: 0.9876\n"
          ],
          "name": "stdout"
        },
        {
          "output_type": "execute_result",
          "data": {
            "text/plain": [
              "[0.054744902998209, 0.9876000285148621]"
            ]
          },
          "metadata": {
            "tags": []
          },
          "execution_count": 63
        }
      ]
    },
    {
      "cell_type": "markdown",
      "metadata": {
        "id": "itcUCTV3Dien"
      },
      "source": [
        "## Make prediction on test set"
      ]
    },
    {
      "cell_type": "code",
      "metadata": {
        "id": "bkGHGj1DDFBx",
        "outputId": "f6d5cb60-0833-4080-8fa1-6ac98b544c97",
        "colab": {
          "base_uri": "https://localhost:8080/",
          "height": 85
        }
      },
      "source": [
        "y_pred_prob = model.predict(X_test_3d)\n",
        "\n",
        "# example output\n",
        "print('y_pred_prob shape : ', y_pred_prob.shape)\n",
        "print('example : \\n', y_pred_prob[0])"
      ],
      "execution_count": 64,
      "outputs": [
        {
          "output_type": "stream",
          "text": [
            "y_pred_prob shape :  (10000, 10)\n",
            "example : \n",
            " [1.1596045e-15 5.9773443e-13 1.3908065e-11 9.0806338e-12 7.7354121e-19\n",
            " 2.6988443e-17 7.2584283e-21 1.0000000e+00 3.4084362e-15 1.5137421e-12]\n"
          ],
          "name": "stdout"
        }
      ]
    },
    {
      "cell_type": "code",
      "metadata": {
        "id": "qJqis-jZEIT8",
        "outputId": "070c4640-e9ef-49f8-b2bc-c05492723628",
        "colab": {
          "base_uri": "https://localhost:8080/",
          "height": 68
        }
      },
      "source": [
        "# convert y_pred_prob to integer label\n",
        "y_pred = list(map(np.argmax, y_pred_prob))\n",
        "\n",
        "print('first 10 example')\n",
        "print('y_test : ', y_test[:10])\n",
        "print('y_pred : ', y_pred[:10])"
      ],
      "execution_count": 65,
      "outputs": [
        {
          "output_type": "stream",
          "text": [
            "first 10 example\n",
            "y_test :  [7 2 1 0 4 1 4 9 5 9]\n",
            "y_pred :  [7, 2, 1, 0, 4, 1, 4, 9, 6, 9]\n"
          ],
          "name": "stdout"
        }
      ]
    },
    {
      "cell_type": "code",
      "metadata": {
        "id": "vBHli2BIGkPb",
        "outputId": "855d2681-6e6e-4afc-ef81-daae1a649483",
        "colab": {
          "base_uri": "https://localhost:8080/",
          "height": 282
        }
      },
      "source": [
        "# example of image and prediction\n",
        "randnum = np.random.randint(0,len(y_test))\n",
        "plt.imshow(X_test[randnum])\n",
        "print('Prediction : ', y_pred[randnum])"
      ],
      "execution_count": 66,
      "outputs": [
        {
          "output_type": "stream",
          "text": [
            "Prediction :  7\n"
          ],
          "name": "stdout"
        },
        {
          "output_type": "display_data",
          "data": {
            "image/png": "[encoded data removed]",
            "text/plain": [
              "<Figure size 432x288 with 1 Axes>"
            ]
          },
          "metadata": {
            "tags": [],
            "needs_background": "light"
          }
        }
      ]
    },
    {
      "cell_type": "code",
      "metadata": {
        "id": "t-422YSCDUGp",
        "outputId": "474c7174-4085-4941-c7b0-8513b4551051",
        "colab": {
          "base_uri": "https://localhost:8080/",
          "height": 187
        }
      },
      "source": [
        "# Confusion matrix\n",
        "cm = metrics.confusion_matrix(y_test, y_pred)\n",
        "cm"
      ],
      "execution_count": 67,
      "outputs": [
        {
          "output_type": "execute_result",
          "data": {
            "text/plain": [
              "array([[ 973,    1,    0,    0,    0,    2,    0,    1,    2,    1],\n",
              "       [   0, 1130,    0,    1,    0,    0,    1,    1,    2,    0],\n",
              "       [   1,    3, 1017,    0,    2,    0,    1,    7,    1,    0],\n",
              "       [   0,    0,    3, 1000,    0,    3,    0,    1,    2,    1],\n",
              "       [   0,    1,    3,    0,  971,    0,    2,    0,    1,    4],\n",
              "       [   2,    0,    0,    6,    0,  879,    4,    0,    1,    0],\n",
              "       [   4,    2,    0,    0,    2,    2,  947,    0,    1,    0],\n",
              "       [   0,    1,    8,    1,    0,    1,    0, 1014,    1,    2],\n",
              "       [   3,    0,    4,    2,    0,    1,    0,    2,  958,    4],\n",
              "       [   2,    2,    0,    2,    7,    1,    1,    6,    1,  987]])"
            ]
          },
          "metadata": {
            "tags": []
          },
          "execution_count": 67
        }
      ]
    }
  ]
}