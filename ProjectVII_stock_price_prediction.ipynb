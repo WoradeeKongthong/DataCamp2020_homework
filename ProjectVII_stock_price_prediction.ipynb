{
  "nbformat": 4,
  "nbformat_minor": 0,
  "metadata": {
    "colab": {
      "name": "ProjectVII_stock_price_prediction.ipynb",
      "provenance": [],
      "authorship_tag": "ABX9TyMX3ar2Z2m8tjipIBSIXtEI",
      "include_colab_link": true
    },
    "kernelspec": {
      "name": "python3",
      "display_name": "Python 3"
    }
  },
  "cells": [
    {
      "cell_type": "markdown",
      "metadata": {
        "id": "view-in-github",
        "colab_type": "text"
      },
      "source": [
        "<a href=\"https://colab.research.google.com/github/WoradeeKongthong/DataCamp2020_homework/blob/master/ProjectVII_stock_price_prediction.ipynb\" target=\"_parent\"><img src=\"https://colab.research.google.com/assets/colab-badge.svg\" alt=\"Open In Colab\"/></a>"
      ]
    },
    {
      "cell_type": "markdown",
      "metadata": {
        "id": "E-0PF4mLq0Jq"
      },
      "source": [
        "# Project : จงหา dataset ของหุ้น และใช้ RNN ทำการทำนายราคาหุ้น และ plot graph การทำนายออกมาให้เห็น"
      ]
    },
    {
      "cell_type": "code",
      "metadata": {
        "id": "gYB0DJxsvhDI"
      },
      "source": [
        "import numpy as np\n",
        "import pandas as pd\n",
        "import pandas_datareader as pdr\n",
        "import matplotlib.pyplot as plt\n",
        "import seaborn as sns\n",
        "\n",
        "% matplotlib inline"
      ],
      "execution_count": 1,
      "outputs": []
    },
    {
      "cell_type": "markdown",
      "metadata": {
        "id": "Wr5G_nlkrD2s"
      },
      "source": [
        "## Dataset\n",
        "Note : ใช้วิธีการดึงราคาหุ้น GOOGLE จาก finance.yahoo.com ด้วย pandas_datareader"
      ]
    },
    {
      "cell_type": "code",
      "metadata": {
        "id": "uNYUAf_ctYbi"
      },
      "source": [
        "GOOG = pdr.get_data_yahoo('GOOG', start='2018-01-01', end='2019-12-31')"
      ],
      "execution_count": 20,
      "outputs": []
    },
    {
      "cell_type": "code",
      "metadata": {
        "id": "Qu65_YKwtrp0",
        "outputId": "b25f8ae5-2966-4cfc-c284-00a821f443ee",
        "colab": {
          "base_uri": "https://localhost:8080/",
          "height": 450
        }
      },
      "source": [
        "GOOG"
      ],
      "execution_count": 3,
      "outputs": [
        {
          "output_type": "execute_result",
          "data": {
            "text/html": [
              "<div>\n",
              "<style scoped>\n",
              "    .dataframe tbody tr th:only-of-type {\n",
              "        vertical-align: middle;\n",
              "    }\n",
              "\n",
              "    .dataframe tbody tr th {\n",
              "        vertical-align: top;\n",
              "    }\n",
              "\n",
              "    .dataframe thead th {\n",
              "        text-align: right;\n",
              "    }\n",
              "</style>\n",
              "<table border=\"1\" class=\"dataframe\">\n",
              "  <thead>\n",
              "    <tr style=\"text-align: right;\">\n",
              "      <th></th>\n",
              "      <th>High</th>\n",
              "      <th>Low</th>\n",
              "      <th>Open</th>\n",
              "      <th>Close</th>\n",
              "      <th>Volume</th>\n",
              "      <th>Adj Close</th>\n",
              "    </tr>\n",
              "    <tr>\n",
              "      <th>Date</th>\n",
              "      <th></th>\n",
              "      <th></th>\n",
              "      <th></th>\n",
              "      <th></th>\n",
              "      <th></th>\n",
              "      <th></th>\n",
              "    </tr>\n",
              "  </thead>\n",
              "  <tbody>\n",
              "    <tr>\n",
              "      <th>2018-01-02</th>\n",
              "      <td>1066.939941</td>\n",
              "      <td>1045.229980</td>\n",
              "      <td>1048.339966</td>\n",
              "      <td>1065.000000</td>\n",
              "      <td>1237600</td>\n",
              "      <td>1065.000000</td>\n",
              "    </tr>\n",
              "    <tr>\n",
              "      <th>2018-01-03</th>\n",
              "      <td>1086.290039</td>\n",
              "      <td>1063.209961</td>\n",
              "      <td>1064.310059</td>\n",
              "      <td>1082.479980</td>\n",
              "      <td>1430200</td>\n",
              "      <td>1082.479980</td>\n",
              "    </tr>\n",
              "    <tr>\n",
              "      <th>2018-01-04</th>\n",
              "      <td>1093.569946</td>\n",
              "      <td>1084.001953</td>\n",
              "      <td>1088.000000</td>\n",
              "      <td>1086.400024</td>\n",
              "      <td>1004600</td>\n",
              "      <td>1086.400024</td>\n",
              "    </tr>\n",
              "    <tr>\n",
              "      <th>2018-01-05</th>\n",
              "      <td>1104.250000</td>\n",
              "      <td>1092.000000</td>\n",
              "      <td>1094.000000</td>\n",
              "      <td>1102.229980</td>\n",
              "      <td>1279100</td>\n",
              "      <td>1102.229980</td>\n",
              "    </tr>\n",
              "    <tr>\n",
              "      <th>2018-01-08</th>\n",
              "      <td>1111.270020</td>\n",
              "      <td>1101.619995</td>\n",
              "      <td>1102.229980</td>\n",
              "      <td>1106.939941</td>\n",
              "      <td>1047600</td>\n",
              "      <td>1106.939941</td>\n",
              "    </tr>\n",
              "    <tr>\n",
              "      <th>...</th>\n",
              "      <td>...</td>\n",
              "      <td>...</td>\n",
              "      <td>...</td>\n",
              "      <td>...</td>\n",
              "      <td>...</td>\n",
              "      <td>...</td>\n",
              "    </tr>\n",
              "    <tr>\n",
              "      <th>2019-12-24</th>\n",
              "      <td>1350.260010</td>\n",
              "      <td>1342.780029</td>\n",
              "      <td>1348.500000</td>\n",
              "      <td>1343.560059</td>\n",
              "      <td>347500</td>\n",
              "      <td>1343.560059</td>\n",
              "    </tr>\n",
              "    <tr>\n",
              "      <th>2019-12-26</th>\n",
              "      <td>1361.327026</td>\n",
              "      <td>1344.469971</td>\n",
              "      <td>1346.170044</td>\n",
              "      <td>1360.400024</td>\n",
              "      <td>667500</td>\n",
              "      <td>1360.400024</td>\n",
              "    </tr>\n",
              "    <tr>\n",
              "      <th>2019-12-27</th>\n",
              "      <td>1364.530029</td>\n",
              "      <td>1349.310059</td>\n",
              "      <td>1362.989990</td>\n",
              "      <td>1351.890015</td>\n",
              "      <td>1038400</td>\n",
              "      <td>1351.890015</td>\n",
              "    </tr>\n",
              "    <tr>\n",
              "      <th>2019-12-30</th>\n",
              "      <td>1353.000000</td>\n",
              "      <td>1334.020020</td>\n",
              "      <td>1350.000000</td>\n",
              "      <td>1336.140015</td>\n",
              "      <td>1050900</td>\n",
              "      <td>1336.140015</td>\n",
              "    </tr>\n",
              "    <tr>\n",
              "      <th>2019-12-31</th>\n",
              "      <td>1338.000000</td>\n",
              "      <td>1329.084961</td>\n",
              "      <td>1330.109985</td>\n",
              "      <td>1337.020020</td>\n",
              "      <td>961800</td>\n",
              "      <td>1337.020020</td>\n",
              "    </tr>\n",
              "  </tbody>\n",
              "</table>\n",
              "<p>503 rows × 6 columns</p>\n",
              "</div>"
            ],
            "text/plain": [
              "                   High          Low  ...   Volume    Adj Close\n",
              "Date                                  ...                      \n",
              "2018-01-02  1066.939941  1045.229980  ...  1237600  1065.000000\n",
              "2018-01-03  1086.290039  1063.209961  ...  1430200  1082.479980\n",
              "2018-01-04  1093.569946  1084.001953  ...  1004600  1086.400024\n",
              "2018-01-05  1104.250000  1092.000000  ...  1279100  1102.229980\n",
              "2018-01-08  1111.270020  1101.619995  ...  1047600  1106.939941\n",
              "...                 ...          ...  ...      ...          ...\n",
              "2019-12-24  1350.260010  1342.780029  ...   347500  1343.560059\n",
              "2019-12-26  1361.327026  1344.469971  ...   667500  1360.400024\n",
              "2019-12-27  1364.530029  1349.310059  ...  1038400  1351.890015\n",
              "2019-12-30  1353.000000  1334.020020  ...  1050900  1336.140015\n",
              "2019-12-31  1338.000000  1329.084961  ...   961800  1337.020020\n",
              "\n",
              "[503 rows x 6 columns]"
            ]
          },
          "metadata": {
            "tags": []
          },
          "execution_count": 3
        }
      ]
    },
    {
      "cell_type": "markdown",
      "metadata": {
        "id": "Ogmekfbvv0UY"
      },
      "source": [
        "## Explore data"
      ]
    },
    {
      "cell_type": "code",
      "metadata": {
        "id": "KAGOEzSrv53b",
        "outputId": "765723ae-b7b5-41c4-e39f-a73be150b1dd",
        "colab": {
          "base_uri": "https://localhost:8080/",
          "height": 238
        }
      },
      "source": [
        "GOOG.info()"
      ],
      "execution_count": 4,
      "outputs": [
        {
          "output_type": "stream",
          "text": [
            "<class 'pandas.core.frame.DataFrame'>\n",
            "DatetimeIndex: 503 entries, 2018-01-02 to 2019-12-31\n",
            "Data columns (total 6 columns):\n",
            " #   Column     Non-Null Count  Dtype  \n",
            "---  ------     --------------  -----  \n",
            " 0   High       503 non-null    float64\n",
            " 1   Low        503 non-null    float64\n",
            " 2   Open       503 non-null    float64\n",
            " 3   Close      503 non-null    float64\n",
            " 4   Volume     503 non-null    int64  \n",
            " 5   Adj Close  503 non-null    float64\n",
            "dtypes: float64(5), int64(1)\n",
            "memory usage: 27.5 KB\n"
          ],
          "name": "stdout"
        }
      ]
    },
    {
      "cell_type": "markdown",
      "metadata": {
        "id": "yU3sM2D8v-NC"
      },
      "source": [
        "Note : no missing values"
      ]
    },
    {
      "cell_type": "code",
      "metadata": {
        "id": "6yAqTe_cv_4y",
        "outputId": "d518c4fc-f430-492e-e33f-fde507be597c",
        "colab": {
          "base_uri": "https://localhost:8080/",
          "height": 297
        }
      },
      "source": [
        "GOOG.describe()"
      ],
      "execution_count": 5,
      "outputs": [
        {
          "output_type": "execute_result",
          "data": {
            "text/html": [
              "<div>\n",
              "<style scoped>\n",
              "    .dataframe tbody tr th:only-of-type {\n",
              "        vertical-align: middle;\n",
              "    }\n",
              "\n",
              "    .dataframe tbody tr th {\n",
              "        vertical-align: top;\n",
              "    }\n",
              "\n",
              "    .dataframe thead th {\n",
              "        text-align: right;\n",
              "    }\n",
              "</style>\n",
              "<table border=\"1\" class=\"dataframe\">\n",
              "  <thead>\n",
              "    <tr style=\"text-align: right;\">\n",
              "      <th></th>\n",
              "      <th>High</th>\n",
              "      <th>Low</th>\n",
              "      <th>Open</th>\n",
              "      <th>Close</th>\n",
              "      <th>Volume</th>\n",
              "      <th>Adj Close</th>\n",
              "    </tr>\n",
              "  </thead>\n",
              "  <tbody>\n",
              "    <tr>\n",
              "      <th>count</th>\n",
              "      <td>503.000000</td>\n",
              "      <td>503.000000</td>\n",
              "      <td>503.000000</td>\n",
              "      <td>503.000000</td>\n",
              "      <td>5.030000e+02</td>\n",
              "      <td>503.000000</td>\n",
              "    </tr>\n",
              "    <tr>\n",
              "      <th>mean</th>\n",
              "      <td>1161.353189</td>\n",
              "      <td>1139.839756</td>\n",
              "      <td>1150.354979</td>\n",
              "      <td>1150.883815</td>\n",
              "      <td>1.577699e+06</td>\n",
              "      <td>1150.883815</td>\n",
              "    </tr>\n",
              "    <tr>\n",
              "      <th>std</th>\n",
              "      <td>81.322605</td>\n",
              "      <td>85.525999</td>\n",
              "      <td>83.239081</td>\n",
              "      <td>83.754500</td>\n",
              "      <td>6.903432e+05</td>\n",
              "      <td>83.754500</td>\n",
              "    </tr>\n",
              "    <tr>\n",
              "      <th>min</th>\n",
              "      <td>1003.539978</td>\n",
              "      <td>970.109985</td>\n",
              "      <td>973.900024</td>\n",
              "      <td>976.219971</td>\n",
              "      <td>3.475000e+05</td>\n",
              "      <td>976.219971</td>\n",
              "    </tr>\n",
              "    <tr>\n",
              "      <th>25%</th>\n",
              "      <td>1094.852478</td>\n",
              "      <td>1073.484985</td>\n",
              "      <td>1083.820007</td>\n",
              "      <td>1085.169983</td>\n",
              "      <td>1.171400e+06</td>\n",
              "      <td>1085.169983</td>\n",
              "    </tr>\n",
              "    <tr>\n",
              "      <th>50%</th>\n",
              "      <td>1153.420044</td>\n",
              "      <td>1133.329956</td>\n",
              "      <td>1144.449951</td>\n",
              "      <td>1146.209961</td>\n",
              "      <td>1.408900e+06</td>\n",
              "      <td>1146.209961</td>\n",
              "    </tr>\n",
              "    <tr>\n",
              "      <th>75%</th>\n",
              "      <td>1211.639954</td>\n",
              "      <td>1196.302551</td>\n",
              "      <td>1202.720032</td>\n",
              "      <td>1205.015015</td>\n",
              "      <td>1.809300e+06</td>\n",
              "      <td>1205.015015</td>\n",
              "    </tr>\n",
              "    <tr>\n",
              "      <th>max</th>\n",
              "      <td>1365.000000</td>\n",
              "      <td>1352.670044</td>\n",
              "      <td>1363.349976</td>\n",
              "      <td>1361.170044</td>\n",
              "      <td>6.207000e+06</td>\n",
              "      <td>1361.170044</td>\n",
              "    </tr>\n",
              "  </tbody>\n",
              "</table>\n",
              "</div>"
            ],
            "text/plain": [
              "              High          Low  ...        Volume    Adj Close\n",
              "count   503.000000   503.000000  ...  5.030000e+02   503.000000\n",
              "mean   1161.353189  1139.839756  ...  1.577699e+06  1150.883815\n",
              "std      81.322605    85.525999  ...  6.903432e+05    83.754500\n",
              "min    1003.539978   970.109985  ...  3.475000e+05   976.219971\n",
              "25%    1094.852478  1073.484985  ...  1.171400e+06  1085.169983\n",
              "50%    1153.420044  1133.329956  ...  1.408900e+06  1146.209961\n",
              "75%    1211.639954  1196.302551  ...  1.809300e+06  1205.015015\n",
              "max    1365.000000  1352.670044  ...  6.207000e+06  1361.170044\n",
              "\n",
              "[8 rows x 6 columns]"
            ]
          },
          "metadata": {
            "tags": []
          },
          "execution_count": 5
        }
      ]
    },
    {
      "cell_type": "code",
      "metadata": {
        "id": "1Nn9bM8pwLuf",
        "outputId": "781e77e1-7dca-4d09-8020-11c278301a2b",
        "colab": {
          "base_uri": "https://localhost:8080/",
          "height": 235
        }
      },
      "source": [
        "GOOG.head()"
      ],
      "execution_count": 6,
      "outputs": [
        {
          "output_type": "execute_result",
          "data": {
            "text/html": [
              "<div>\n",
              "<style scoped>\n",
              "    .dataframe tbody tr th:only-of-type {\n",
              "        vertical-align: middle;\n",
              "    }\n",
              "\n",
              "    .dataframe tbody tr th {\n",
              "        vertical-align: top;\n",
              "    }\n",
              "\n",
              "    .dataframe thead th {\n",
              "        text-align: right;\n",
              "    }\n",
              "</style>\n",
              "<table border=\"1\" class=\"dataframe\">\n",
              "  <thead>\n",
              "    <tr style=\"text-align: right;\">\n",
              "      <th></th>\n",
              "      <th>High</th>\n",
              "      <th>Low</th>\n",
              "      <th>Open</th>\n",
              "      <th>Close</th>\n",
              "      <th>Volume</th>\n",
              "      <th>Adj Close</th>\n",
              "    </tr>\n",
              "    <tr>\n",
              "      <th>Date</th>\n",
              "      <th></th>\n",
              "      <th></th>\n",
              "      <th></th>\n",
              "      <th></th>\n",
              "      <th></th>\n",
              "      <th></th>\n",
              "    </tr>\n",
              "  </thead>\n",
              "  <tbody>\n",
              "    <tr>\n",
              "      <th>2018-01-02</th>\n",
              "      <td>1066.939941</td>\n",
              "      <td>1045.229980</td>\n",
              "      <td>1048.339966</td>\n",
              "      <td>1065.000000</td>\n",
              "      <td>1237600</td>\n",
              "      <td>1065.000000</td>\n",
              "    </tr>\n",
              "    <tr>\n",
              "      <th>2018-01-03</th>\n",
              "      <td>1086.290039</td>\n",
              "      <td>1063.209961</td>\n",
              "      <td>1064.310059</td>\n",
              "      <td>1082.479980</td>\n",
              "      <td>1430200</td>\n",
              "      <td>1082.479980</td>\n",
              "    </tr>\n",
              "    <tr>\n",
              "      <th>2018-01-04</th>\n",
              "      <td>1093.569946</td>\n",
              "      <td>1084.001953</td>\n",
              "      <td>1088.000000</td>\n",
              "      <td>1086.400024</td>\n",
              "      <td>1004600</td>\n",
              "      <td>1086.400024</td>\n",
              "    </tr>\n",
              "    <tr>\n",
              "      <th>2018-01-05</th>\n",
              "      <td>1104.250000</td>\n",
              "      <td>1092.000000</td>\n",
              "      <td>1094.000000</td>\n",
              "      <td>1102.229980</td>\n",
              "      <td>1279100</td>\n",
              "      <td>1102.229980</td>\n",
              "    </tr>\n",
              "    <tr>\n",
              "      <th>2018-01-08</th>\n",
              "      <td>1111.270020</td>\n",
              "      <td>1101.619995</td>\n",
              "      <td>1102.229980</td>\n",
              "      <td>1106.939941</td>\n",
              "      <td>1047600</td>\n",
              "      <td>1106.939941</td>\n",
              "    </tr>\n",
              "  </tbody>\n",
              "</table>\n",
              "</div>"
            ],
            "text/plain": [
              "                   High          Low  ...   Volume    Adj Close\n",
              "Date                                  ...                      \n",
              "2018-01-02  1066.939941  1045.229980  ...  1237600  1065.000000\n",
              "2018-01-03  1086.290039  1063.209961  ...  1430200  1082.479980\n",
              "2018-01-04  1093.569946  1084.001953  ...  1004600  1086.400024\n",
              "2018-01-05  1104.250000  1092.000000  ...  1279100  1102.229980\n",
              "2018-01-08  1111.270020  1101.619995  ...  1047600  1106.939941\n",
              "\n",
              "[5 rows x 6 columns]"
            ]
          },
          "metadata": {
            "tags": []
          },
          "execution_count": 6
        }
      ]
    },
    {
      "cell_type": "code",
      "metadata": {
        "id": "uj-1w-9ZTJ09",
        "outputId": "a3611642-a201-4d1a-b8e7-3cb475129d89",
        "colab": {
          "base_uri": "https://localhost:8080/",
          "height": 235
        }
      },
      "source": [
        "GOOG.tail()"
      ],
      "execution_count": 7,
      "outputs": [
        {
          "output_type": "execute_result",
          "data": {
            "text/html": [
              "<div>\n",
              "<style scoped>\n",
              "    .dataframe tbody tr th:only-of-type {\n",
              "        vertical-align: middle;\n",
              "    }\n",
              "\n",
              "    .dataframe tbody tr th {\n",
              "        vertical-align: top;\n",
              "    }\n",
              "\n",
              "    .dataframe thead th {\n",
              "        text-align: right;\n",
              "    }\n",
              "</style>\n",
              "<table border=\"1\" class=\"dataframe\">\n",
              "  <thead>\n",
              "    <tr style=\"text-align: right;\">\n",
              "      <th></th>\n",
              "      <th>High</th>\n",
              "      <th>Low</th>\n",
              "      <th>Open</th>\n",
              "      <th>Close</th>\n",
              "      <th>Volume</th>\n",
              "      <th>Adj Close</th>\n",
              "    </tr>\n",
              "    <tr>\n",
              "      <th>Date</th>\n",
              "      <th></th>\n",
              "      <th></th>\n",
              "      <th></th>\n",
              "      <th></th>\n",
              "      <th></th>\n",
              "      <th></th>\n",
              "    </tr>\n",
              "  </thead>\n",
              "  <tbody>\n",
              "    <tr>\n",
              "      <th>2019-12-24</th>\n",
              "      <td>1350.260010</td>\n",
              "      <td>1342.780029</td>\n",
              "      <td>1348.500000</td>\n",
              "      <td>1343.560059</td>\n",
              "      <td>347500</td>\n",
              "      <td>1343.560059</td>\n",
              "    </tr>\n",
              "    <tr>\n",
              "      <th>2019-12-26</th>\n",
              "      <td>1361.327026</td>\n",
              "      <td>1344.469971</td>\n",
              "      <td>1346.170044</td>\n",
              "      <td>1360.400024</td>\n",
              "      <td>667500</td>\n",
              "      <td>1360.400024</td>\n",
              "    </tr>\n",
              "    <tr>\n",
              "      <th>2019-12-27</th>\n",
              "      <td>1364.530029</td>\n",
              "      <td>1349.310059</td>\n",
              "      <td>1362.989990</td>\n",
              "      <td>1351.890015</td>\n",
              "      <td>1038400</td>\n",
              "      <td>1351.890015</td>\n",
              "    </tr>\n",
              "    <tr>\n",
              "      <th>2019-12-30</th>\n",
              "      <td>1353.000000</td>\n",
              "      <td>1334.020020</td>\n",
              "      <td>1350.000000</td>\n",
              "      <td>1336.140015</td>\n",
              "      <td>1050900</td>\n",
              "      <td>1336.140015</td>\n",
              "    </tr>\n",
              "    <tr>\n",
              "      <th>2019-12-31</th>\n",
              "      <td>1338.000000</td>\n",
              "      <td>1329.084961</td>\n",
              "      <td>1330.109985</td>\n",
              "      <td>1337.020020</td>\n",
              "      <td>961800</td>\n",
              "      <td>1337.020020</td>\n",
              "    </tr>\n",
              "  </tbody>\n",
              "</table>\n",
              "</div>"
            ],
            "text/plain": [
              "                   High          Low  ...   Volume    Adj Close\n",
              "Date                                  ...                      \n",
              "2019-12-24  1350.260010  1342.780029  ...   347500  1343.560059\n",
              "2019-12-26  1361.327026  1344.469971  ...   667500  1360.400024\n",
              "2019-12-27  1364.530029  1349.310059  ...  1038400  1351.890015\n",
              "2019-12-30  1353.000000  1334.020020  ...  1050900  1336.140015\n",
              "2019-12-31  1338.000000  1329.084961  ...   961800  1337.020020\n",
              "\n",
              "[5 rows x 6 columns]"
            ]
          },
          "metadata": {
            "tags": []
          },
          "execution_count": 7
        }
      ]
    },
    {
      "cell_type": "code",
      "metadata": {
        "id": "YF7ygw_owTqQ",
        "outputId": "1c2dcb3e-57ca-4921-cd93-1903c49472db",
        "colab": {
          "base_uri": "https://localhost:8080/",
          "height": 350
        }
      },
      "source": [
        "# plot the stock price\n",
        "plt.figure(figsize=(15,5))\n",
        "plt.plot(GOOG.Open.values, color='red', label='open')\n",
        "plt.plot(GOOG.Close.values, color='green', label='close')\n",
        "plt.plot(GOOG.Low.values, color='blue', label='low')\n",
        "plt.plot(GOOG.High.values, color='yellow', label='high')\n",
        "plt.title('stock price')\n",
        "plt.xlabel('time [days]')\n",
        "plt.ylabel('price')\n",
        "plt.legend(loc='best')\n",
        "plt.show()"
      ],
      "execution_count": 9,
      "outputs": [
        {
          "output_type": "display_data",
          "data": {
            "image/png": "[encoded data removed]",
            "text/plain": [
              "<Figure size 1080x360 with 1 Axes>"
            ]
          },
          "metadata": {
            "tags": [],
            "needs_background": "light"
          }
        }
      ]
    },
    {
      "cell_type": "markdown",
      "metadata": {
        "id": "SYjuLoUK4Ihj"
      },
      "source": [
        "## Data Preprocessing"
      ]
    },
    {
      "cell_type": "code",
      "metadata": {
        "id": "KK7Ux3cB4LJE",
        "outputId": "3e949a5c-ba84-446a-f1e7-c2f8cd5faafd",
        "colab": {
          "base_uri": "https://localhost:8080/",
          "height": 450
        }
      },
      "source": [
        "# Drop Volumn and Adj close columns\n",
        "GOOG.drop(['Volume', 'Adj Close'], axis=1, inplace=True)\n",
        "GOOG"
      ],
      "execution_count": 21,
      "outputs": [
        {
          "output_type": "execute_result",
          "data": {
            "text/html": [
              "<div>\n",
              "<style scoped>\n",
              "    .dataframe tbody tr th:only-of-type {\n",
              "        vertical-align: middle;\n",
              "    }\n",
              "\n",
              "    .dataframe tbody tr th {\n",
              "        vertical-align: top;\n",
              "    }\n",
              "\n",
              "    .dataframe thead th {\n",
              "        text-align: right;\n",
              "    }\n",
              "</style>\n",
              "<table border=\"1\" class=\"dataframe\">\n",
              "  <thead>\n",
              "    <tr style=\"text-align: right;\">\n",
              "      <th></th>\n",
              "      <th>High</th>\n",
              "      <th>Low</th>\n",
              "      <th>Open</th>\n",
              "      <th>Close</th>\n",
              "    </tr>\n",
              "    <tr>\n",
              "      <th>Date</th>\n",
              "      <th></th>\n",
              "      <th></th>\n",
              "      <th></th>\n",
              "      <th></th>\n",
              "    </tr>\n",
              "  </thead>\n",
              "  <tbody>\n",
              "    <tr>\n",
              "      <th>2018-01-02</th>\n",
              "      <td>1066.939941</td>\n",
              "      <td>1045.229980</td>\n",
              "      <td>1048.339966</td>\n",
              "      <td>1065.000000</td>\n",
              "    </tr>\n",
              "    <tr>\n",
              "      <th>2018-01-03</th>\n",
              "      <td>1086.290039</td>\n",
              "      <td>1063.209961</td>\n",
              "      <td>1064.310059</td>\n",
              "      <td>1082.479980</td>\n",
              "    </tr>\n",
              "    <tr>\n",
              "      <th>2018-01-04</th>\n",
              "      <td>1093.569946</td>\n",
              "      <td>1084.001953</td>\n",
              "      <td>1088.000000</td>\n",
              "      <td>1086.400024</td>\n",
              "    </tr>\n",
              "    <tr>\n",
              "      <th>2018-01-05</th>\n",
              "      <td>1104.250000</td>\n",
              "      <td>1092.000000</td>\n",
              "      <td>1094.000000</td>\n",
              "      <td>1102.229980</td>\n",
              "    </tr>\n",
              "    <tr>\n",
              "      <th>2018-01-08</th>\n",
              "      <td>1111.270020</td>\n",
              "      <td>1101.619995</td>\n",
              "      <td>1102.229980</td>\n",
              "      <td>1106.939941</td>\n",
              "    </tr>\n",
              "    <tr>\n",
              "      <th>...</th>\n",
              "      <td>...</td>\n",
              "      <td>...</td>\n",
              "      <td>...</td>\n",
              "      <td>...</td>\n",
              "    </tr>\n",
              "    <tr>\n",
              "      <th>2019-12-24</th>\n",
              "      <td>1350.260010</td>\n",
              "      <td>1342.780029</td>\n",
              "      <td>1348.500000</td>\n",
              "      <td>1343.560059</td>\n",
              "    </tr>\n",
              "    <tr>\n",
              "      <th>2019-12-26</th>\n",
              "      <td>1361.327026</td>\n",
              "      <td>1344.469971</td>\n",
              "      <td>1346.170044</td>\n",
              "      <td>1360.400024</td>\n",
              "    </tr>\n",
              "    <tr>\n",
              "      <th>2019-12-27</th>\n",
              "      <td>1364.530029</td>\n",
              "      <td>1349.310059</td>\n",
              "      <td>1362.989990</td>\n",
              "      <td>1351.890015</td>\n",
              "    </tr>\n",
              "    <tr>\n",
              "      <th>2019-12-30</th>\n",
              "      <td>1353.000000</td>\n",
              "      <td>1334.020020</td>\n",
              "      <td>1350.000000</td>\n",
              "      <td>1336.140015</td>\n",
              "    </tr>\n",
              "    <tr>\n",
              "      <th>2019-12-31</th>\n",
              "      <td>1338.000000</td>\n",
              "      <td>1329.084961</td>\n",
              "      <td>1330.109985</td>\n",
              "      <td>1337.020020</td>\n",
              "    </tr>\n",
              "  </tbody>\n",
              "</table>\n",
              "<p>503 rows × 4 columns</p>\n",
              "</div>"
            ],
            "text/plain": [
              "                   High          Low         Open        Close\n",
              "Date                                                          \n",
              "2018-01-02  1066.939941  1045.229980  1048.339966  1065.000000\n",
              "2018-01-03  1086.290039  1063.209961  1064.310059  1082.479980\n",
              "2018-01-04  1093.569946  1084.001953  1088.000000  1086.400024\n",
              "2018-01-05  1104.250000  1092.000000  1094.000000  1102.229980\n",
              "2018-01-08  1111.270020  1101.619995  1102.229980  1106.939941\n",
              "...                 ...          ...          ...          ...\n",
              "2019-12-24  1350.260010  1342.780029  1348.500000  1343.560059\n",
              "2019-12-26  1361.327026  1344.469971  1346.170044  1360.400024\n",
              "2019-12-27  1364.530029  1349.310059  1362.989990  1351.890015\n",
              "2019-12-30  1353.000000  1334.020020  1350.000000  1336.140015\n",
              "2019-12-31  1338.000000  1329.084961  1330.109985  1337.020020\n",
              "\n",
              "[503 rows x 4 columns]"
            ]
          },
          "metadata": {
            "tags": []
          },
          "execution_count": 21
        }
      ]
    },
    {
      "cell_type": "code",
      "metadata": {
        "id": "fDAUgCvk43IN"
      },
      "source": [
        "# Normalize the data\n",
        "from sklearn.preprocessing import MinMaxScaler\n",
        "\n",
        "sc_high = MinMaxScaler(feature_range = (0,1))\n",
        "sc_low = MinMaxScaler(feature_range = (0,1))\n",
        "sc_open = MinMaxScaler(feature_range = (0,1))\n",
        "sc_close = MinMaxScaler(feature_range = (0,1))\n",
        "\n",
        "GOOG_norm = pd.DataFrame()\n",
        "GOOG_norm['High'] = sc_high.fit_transform(GOOG.High.values.reshape(-1,1)).reshape(-1)\n",
        "GOOG_norm['Low'] = sc_low.fit_transform(GOOG.Low.values.reshape(-1,1)).reshape(-1)\n",
        "GOOG_norm['Open'] = sc_open.fit_transform(GOOG.Open.values.reshape(-1,1)).reshape(-1)\n",
        "GOOG_norm['Close'] = sc_close.fit_transform(GOOG.Close.values.reshape(-1,1)).reshape(-1)"
      ],
      "execution_count": 36,
      "outputs": []
    },
    {
      "cell_type": "code",
      "metadata": {
        "id": "tH5zA60887rX",
        "outputId": "67f29397-1092-44fe-a136-c188b9f8a645",
        "colab": {
          "base_uri": "https://localhost:8080/",
          "height": 419
        }
      },
      "source": [
        "GOOG_norm"
      ],
      "execution_count": 37,
      "outputs": [
        {
          "output_type": "execute_result",
          "data": {
            "text/html": [
              "<div>\n",
              "<style scoped>\n",
              "    .dataframe tbody tr th:only-of-type {\n",
              "        vertical-align: middle;\n",
              "    }\n",
              "\n",
              "    .dataframe tbody tr th {\n",
              "        vertical-align: top;\n",
              "    }\n",
              "\n",
              "    .dataframe thead th {\n",
              "        text-align: right;\n",
              "    }\n",
              "</style>\n",
              "<table border=\"1\" class=\"dataframe\">\n",
              "  <thead>\n",
              "    <tr style=\"text-align: right;\">\n",
              "      <th></th>\n",
              "      <th>High</th>\n",
              "      <th>Low</th>\n",
              "      <th>Open</th>\n",
              "      <th>Close</th>\n",
              "    </tr>\n",
              "  </thead>\n",
              "  <tbody>\n",
              "    <tr>\n",
              "      <th>0</th>\n",
              "      <td>0.175400</td>\n",
              "      <td>0.196361</td>\n",
              "      <td>0.191141</td>\n",
              "      <td>0.230627</td>\n",
              "    </tr>\n",
              "    <tr>\n",
              "      <th>1</th>\n",
              "      <td>0.228933</td>\n",
              "      <td>0.243360</td>\n",
              "      <td>0.232148</td>\n",
              "      <td>0.276036</td>\n",
              "    </tr>\n",
              "    <tr>\n",
              "      <th>2</th>\n",
              "      <td>0.249073</td>\n",
              "      <td>0.297710</td>\n",
              "      <td>0.292977</td>\n",
              "      <td>0.286219</td>\n",
              "    </tr>\n",
              "    <tr>\n",
              "      <th>3</th>\n",
              "      <td>0.278620</td>\n",
              "      <td>0.318617</td>\n",
              "      <td>0.308384</td>\n",
              "      <td>0.327341</td>\n",
              "    </tr>\n",
              "    <tr>\n",
              "      <th>4</th>\n",
              "      <td>0.298041</td>\n",
              "      <td>0.343763</td>\n",
              "      <td>0.329516</td>\n",
              "      <td>0.339576</td>\n",
              "    </tr>\n",
              "    <tr>\n",
              "      <th>...</th>\n",
              "      <td>...</td>\n",
              "      <td>...</td>\n",
              "      <td>...</td>\n",
              "      <td>...</td>\n",
              "    </tr>\n",
              "    <tr>\n",
              "      <th>498</th>\n",
              "      <td>0.959221</td>\n",
              "      <td>0.974148</td>\n",
              "      <td>0.961869</td>\n",
              "      <td>0.954254</td>\n",
              "    </tr>\n",
              "    <tr>\n",
              "      <th>499</th>\n",
              "      <td>0.989839</td>\n",
              "      <td>0.978565</td>\n",
              "      <td>0.955887</td>\n",
              "      <td>0.998000</td>\n",
              "    </tr>\n",
              "    <tr>\n",
              "      <th>500</th>\n",
              "      <td>0.998700</td>\n",
              "      <td>0.991217</td>\n",
              "      <td>0.999076</td>\n",
              "      <td>0.975893</td>\n",
              "    </tr>\n",
              "    <tr>\n",
              "      <th>501</th>\n",
              "      <td>0.966801</td>\n",
              "      <td>0.951249</td>\n",
              "      <td>0.965721</td>\n",
              "      <td>0.934979</td>\n",
              "    </tr>\n",
              "    <tr>\n",
              "      <th>502</th>\n",
              "      <td>0.925303</td>\n",
              "      <td>0.938349</td>\n",
              "      <td>0.914649</td>\n",
              "      <td>0.937265</td>\n",
              "    </tr>\n",
              "  </tbody>\n",
              "</table>\n",
              "<p>503 rows × 4 columns</p>\n",
              "</div>"
            ],
            "text/plain": [
              "         High       Low      Open     Close\n",
              "0    0.175400  0.196361  0.191141  0.230627\n",
              "1    0.228933  0.243360  0.232148  0.276036\n",
              "2    0.249073  0.297710  0.292977  0.286219\n",
              "3    0.278620  0.318617  0.308384  0.327341\n",
              "4    0.298041  0.343763  0.329516  0.339576\n",
              "..        ...       ...       ...       ...\n",
              "498  0.959221  0.974148  0.961869  0.954254\n",
              "499  0.989839  0.978565  0.955887  0.998000\n",
              "500  0.998700  0.991217  0.999076  0.975893\n",
              "501  0.966801  0.951249  0.965721  0.934979\n",
              "502  0.925303  0.938349  0.914649  0.937265\n",
              "\n",
              "[503 rows x 4 columns]"
            ]
          },
          "metadata": {
            "tags": []
          },
          "execution_count": 37
        }
      ]
    },
    {
      "cell_type": "code",
      "metadata": {
        "id": "ClfrE4mX95Mr",
        "outputId": "8ea03a8e-1bbe-4f6e-9ff5-b159753bd6a8",
        "colab": {
          "base_uri": "https://localhost:8080/",
          "height": 297
        }
      },
      "source": [
        "GOOG_norm.describe()"
      ],
      "execution_count": 38,
      "outputs": [
        {
          "output_type": "execute_result",
          "data": {
            "text/html": [
              "<div>\n",
              "<style scoped>\n",
              "    .dataframe tbody tr th:only-of-type {\n",
              "        vertical-align: middle;\n",
              "    }\n",
              "\n",
              "    .dataframe tbody tr th {\n",
              "        vertical-align: top;\n",
              "    }\n",
              "\n",
              "    .dataframe thead th {\n",
              "        text-align: right;\n",
              "    }\n",
              "</style>\n",
              "<table border=\"1\" class=\"dataframe\">\n",
              "  <thead>\n",
              "    <tr style=\"text-align: right;\">\n",
              "      <th></th>\n",
              "      <th>High</th>\n",
              "      <th>Low</th>\n",
              "      <th>Open</th>\n",
              "      <th>Close</th>\n",
              "    </tr>\n",
              "  </thead>\n",
              "  <tbody>\n",
              "    <tr>\n",
              "      <th>count</th>\n",
              "      <td>503.000000</td>\n",
              "      <td>503.000000</td>\n",
              "      <td>503.000000</td>\n",
              "      <td>503.000000</td>\n",
              "    </tr>\n",
              "    <tr>\n",
              "      <th>mean</th>\n",
              "      <td>0.436599</td>\n",
              "      <td>0.443668</td>\n",
              "      <td>0.453088</td>\n",
              "      <td>0.453731</td>\n",
              "    </tr>\n",
              "    <tr>\n",
              "      <th>std</th>\n",
              "      <td>0.224984</td>\n",
              "      <td>0.223562</td>\n",
              "      <td>0.213735</td>\n",
              "      <td>0.217572</td>\n",
              "    </tr>\n",
              "    <tr>\n",
              "      <th>min</th>\n",
              "      <td>0.000000</td>\n",
              "      <td>0.000000</td>\n",
              "      <td>0.000000</td>\n",
              "      <td>0.000000</td>\n",
              "    </tr>\n",
              "    <tr>\n",
              "      <th>25%</th>\n",
              "      <td>0.252621</td>\n",
              "      <td>0.270219</td>\n",
              "      <td>0.282244</td>\n",
              "      <td>0.283024</td>\n",
              "    </tr>\n",
              "    <tr>\n",
              "      <th>50%</th>\n",
              "      <td>0.414652</td>\n",
              "      <td>0.426652</td>\n",
              "      <td>0.437925</td>\n",
              "      <td>0.441590</td>\n",
              "    </tr>\n",
              "    <tr>\n",
              "      <th>75%</th>\n",
              "      <td>0.575721</td>\n",
              "      <td>0.591260</td>\n",
              "      <td>0.587547</td>\n",
              "      <td>0.594350</td>\n",
              "    </tr>\n",
              "    <tr>\n",
              "      <th>max</th>\n",
              "      <td>1.000000</td>\n",
              "      <td>1.000000</td>\n",
              "      <td>1.000000</td>\n",
              "      <td>1.000000</td>\n",
              "    </tr>\n",
              "  </tbody>\n",
              "</table>\n",
              "</div>"
            ],
            "text/plain": [
              "             High         Low        Open       Close\n",
              "count  503.000000  503.000000  503.000000  503.000000\n",
              "mean     0.436599    0.443668    0.453088    0.453731\n",
              "std      0.224984    0.223562    0.213735    0.217572\n",
              "min      0.000000    0.000000    0.000000    0.000000\n",
              "25%      0.252621    0.270219    0.282244    0.283024\n",
              "50%      0.414652    0.426652    0.437925    0.441590\n",
              "75%      0.575721    0.591260    0.587547    0.594350\n",
              "max      1.000000    1.000000    1.000000    1.000000"
            ]
          },
          "metadata": {
            "tags": []
          },
          "execution_count": 38
        }
      ]
    },
    {
      "cell_type": "code",
      "metadata": {
        "id": "niT8me1b-VgY"
      },
      "source": [
        "# function to create timestep sequence\n",
        "# X = n steps sequence of data (High, Low, Open, Close)\n",
        "# y = 1 step of Close price\n",
        "\n",
        "def create_sequence(df, n_steps_in, n_steps_out):\n",
        "  data = df.values # convert to numpy array\n",
        "  X = []\n",
        "  y = []\n",
        "  for i in range(n_steps_in, len(data)-n_steps_out+1):\n",
        "    X.append(data[i - n_steps_in:i])\n",
        "    y.append(data[i : i + n_steps_out, -1])\n",
        "  return np.array(X), np.array(y)"
      ],
      "execution_count": 40,
      "outputs": []
    },
    {
      "cell_type": "code",
      "metadata": {
        "id": "J8t35TTGB-Wz",
        "outputId": "9475b752-6934-439b-e748-64cdf111674e",
        "colab": {
          "base_uri": "https://localhost:8080/",
          "height": 51
        }
      },
      "source": [
        "# choose number of timesteps\n",
        "n_steps_in = 10\n",
        "n_steps_out = 1\n",
        "# Create the sequence and the output\n",
        "X, y = create_sequence(GOOG_norm, n_steps_in, n_steps_out)\n",
        "\n",
        "n_features = X.shape[2]\n",
        "print('X shape : ',X.shape)\n",
        "print('y shape : ',y.shape)"
      ],
      "execution_count": 41,
      "outputs": [
        {
          "output_type": "stream",
          "text": [
            "X shape :  (493, 10, 4)\n",
            "y shape :  (493, 1)\n"
          ],
          "name": "stdout"
        }
      ]
    },
    {
      "cell_type": "code",
      "metadata": {
        "id": "Ds3ysrw6CZjp",
        "outputId": "c2e130ca-b1f4-4dd9-e67f-7d35d56fb731",
        "colab": {
          "base_uri": "https://localhost:8080/",
          "height": 187
        }
      },
      "source": [
        "# print example\n",
        "print(X[0], '==>', y[0])"
      ],
      "execution_count": 42,
      "outputs": [
        {
          "output_type": "stream",
          "text": [
            "[[0.17539966 0.19636131 0.19114123 0.23062739]\n",
            " [0.22893282 0.24336042 0.23214802 0.27603582]\n",
            " [0.2490731  0.29771003 0.29297725 0.28621907]\n",
            " [0.27862008 0.31861668 0.30838359 0.32734118]\n",
            " [0.29804137 0.34376304 0.32951591 0.33957643]\n",
            " [0.29610458 0.34274611 0.34792661 0.33781014]\n",
            " [0.27958831 0.32936005 0.31634348 0.32832833]\n",
            " [0.28491407 0.33845661 0.33996672 0.33588784]\n",
            " [0.33406201 0.34253455 0.32997824 0.37937397]\n",
            " [0.37727563 0.3861408  0.40726667 0.3780751 ]] ==> [0.40462393]\n"
          ],
          "name": "stdout"
        }
      ]
    },
    {
      "cell_type": "code",
      "metadata": {
        "id": "PjGYGROfJxyC"
      },
      "source": [
        "# Train-test split\n",
        "from sklearn.model_selection import train_test_split"
      ],
      "execution_count": 43,
      "outputs": []
    },
    {
      "cell_type": "code",
      "metadata": {
        "id": "lmbY5UzwJ_tA"
      },
      "source": [
        "X_train, X_test, y_train, y_test = train_test_split(X, y, test_size=0.2, shuffle=False)"
      ],
      "execution_count": 44,
      "outputs": []
    },
    {
      "cell_type": "code",
      "metadata": {
        "id": "JWcrQw8gKa10",
        "outputId": "f332ee56-28f8-418f-b240-8a72d69d06f1",
        "colab": {
          "base_uri": "https://localhost:8080/",
          "height": 85
        }
      },
      "source": [
        "print('X_train shape : ', X_train.shape)\n",
        "print('y_train shape : ', y_train.shape)\n",
        "print('X_test shape : ', X_test.shape)\n",
        "print('y_test shape : ', y_test.shape)"
      ],
      "execution_count": 45,
      "outputs": [
        {
          "output_type": "stream",
          "text": [
            "X_train shape :  (394, 10, 4)\n",
            "y_train shape :  (394, 1)\n",
            "X_test shape :  (99, 10, 4)\n",
            "y_test shape :  (99, 1)\n"
          ],
          "name": "stdout"
        }
      ]
    },
    {
      "cell_type": "markdown",
      "metadata": {
        "id": "4nNBc6UpK6Yz"
      },
      "source": [
        "## The LSTM model"
      ]
    },
    {
      "cell_type": "code",
      "metadata": {
        "id": "TpMJ2OJBK8ex"
      },
      "source": [
        "# create LSTM\n",
        "from keras.models import Sequential\n",
        "from keras.layers import Dense, LSTM"
      ],
      "execution_count": 46,
      "outputs": []
    },
    {
      "cell_type": "code",
      "metadata": {
        "id": "MFIModX9LHFK"
      },
      "source": [
        "model = Sequential()\n",
        "model.add(LSTM(units=64, activation='relu', return_sequences=True, input_shape=(n_steps_in, n_features)))\n",
        "model.add(LSTM(units=64, activation='relu'))\n",
        "model.add(Dense(units=n_steps_out))"
      ],
      "execution_count": 47,
      "outputs": []
    },
    {
      "cell_type": "code",
      "metadata": {
        "id": "4v76PqxCLndo",
        "outputId": "040a9aa4-7c4b-4dba-e170-d81be1c12b0b",
        "colab": {
          "base_uri": "https://localhost:8080/",
          "height": 255
        }
      },
      "source": [
        "# model summary\n",
        "model.summary()"
      ],
      "execution_count": 48,
      "outputs": [
        {
          "output_type": "stream",
          "text": [
            "Model: \"sequential\"\n",
            "_________________________________________________________________\n",
            "Layer (type)                 Output Shape              Param #   \n",
            "=================================================================\n",
            "lstm (LSTM)                  (None, 10, 64)            17664     \n",
            "_________________________________________________________________\n",
            "lstm_1 (LSTM)                (None, 64)                33024     \n",
            "_________________________________________________________________\n",
            "dense (Dense)                (None, 1)                 65        \n",
            "=================================================================\n",
            "Total params: 50,753\n",
            "Trainable params: 50,753\n",
            "Non-trainable params: 0\n",
            "_________________________________________________________________\n"
          ],
          "name": "stdout"
        }
      ]
    },
    {
      "cell_type": "code",
      "metadata": {
        "id": "dwdz2Y7CLjt3"
      },
      "source": [
        "# compile the model\n",
        "model.compile(optimizer='adam', loss='mse')"
      ],
      "execution_count": 49,
      "outputs": []
    },
    {
      "cell_type": "code",
      "metadata": {
        "id": "BJzS0C6OLjii",
        "outputId": "3915e1bf-5d2a-4de5-fae3-8533c3008d8c",
        "colab": {
          "base_uri": "https://localhost:8080/",
          "height": 1000
        }
      },
      "source": [
        "# fit the model\n",
        "history = model.fit(X_train, y_train, epochs = 200, verbose = 1, validation_split=0.2, shuffle=False)"
      ],
      "execution_count": 50,
      "outputs": [
        {
          "output_type": "stream",
          "text": [
            "Epoch 1/200\n",
            "10/10 [==============================] - 0s 30ms/step - loss: 0.1226 - val_loss: 0.0857\n",
            "Epoch 2/200\n",
            "10/10 [==============================] - 0s 9ms/step - loss: 0.0238 - val_loss: 0.0280\n",
            "Epoch 3/200\n",
            "10/10 [==============================] - 0s 9ms/step - loss: 0.0182 - val_loss: 0.0129\n",
            "Epoch 4/200\n",
            "10/10 [==============================] - 0s 9ms/step - loss: 0.0135 - val_loss: 0.0116\n",
            "Epoch 5/200\n",
            "10/10 [==============================] - 0s 9ms/step - loss: 0.0089 - val_loss: 0.0108\n",
            "Epoch 6/200\n",
            "10/10 [==============================] - 0s 9ms/step - loss: 0.0095 - val_loss: 0.0098\n",
            "Epoch 7/200\n",
            "10/10 [==============================] - 0s 9ms/step - loss: 0.0083 - val_loss: 0.0097\n",
            "Epoch 8/200\n",
            "10/10 [==============================] - 0s 9ms/step - loss: 0.0084 - val_loss: 0.0094\n",
            "Epoch 9/200\n",
            "10/10 [==============================] - 0s 9ms/step - loss: 0.0079 - val_loss: 0.0094\n",
            "Epoch 10/200\n",
            "10/10 [==============================] - 0s 10ms/step - loss: 0.0080 - val_loss: 0.0092\n",
            "Epoch 11/200\n",
            "10/10 [==============================] - 0s 10ms/step - loss: 0.0076 - val_loss: 0.0091\n",
            "Epoch 12/200\n",
            "10/10 [==============================] - 0s 9ms/step - loss: 0.0076 - val_loss: 0.0089\n",
            "Epoch 13/200\n",
            "10/10 [==============================] - 0s 9ms/step - loss: 0.0073 - val_loss: 0.0087\n",
            "Epoch 14/200\n",
            "10/10 [==============================] - 0s 10ms/step - loss: 0.0072 - val_loss: 0.0085\n",
            "Epoch 15/200\n",
            "10/10 [==============================] - 0s 10ms/step - loss: 0.0070 - val_loss: 0.0083\n",
            "Epoch 16/200\n",
            "10/10 [==============================] - 0s 9ms/step - loss: 0.0068 - val_loss: 0.0081\n",
            "Epoch 17/200\n",
            "10/10 [==============================] - 0s 9ms/step - loss: 0.0066 - val_loss: 0.0079\n",
            "Epoch 18/200\n",
            "10/10 [==============================] - 0s 10ms/step - loss: 0.0063 - val_loss: 0.0077\n",
            "Epoch 19/200\n",
            "10/10 [==============================] - 0s 9ms/step - loss: 0.0061 - val_loss: 0.0075\n",
            "Epoch 20/200\n",
            "10/10 [==============================] - 0s 9ms/step - loss: 0.0060 - val_loss: 0.0074\n",
            "Epoch 21/200\n",
            "10/10 [==============================] - 0s 10ms/step - loss: 0.0058 - val_loss: 0.0073\n",
            "Epoch 22/200\n",
            "10/10 [==============================] - 0s 10ms/step - loss: 0.0056 - val_loss: 0.0072\n",
            "Epoch 23/200\n",
            "10/10 [==============================] - 0s 10ms/step - loss: 0.0054 - val_loss: 0.0072\n",
            "Epoch 24/200\n",
            "10/10 [==============================] - 0s 10ms/step - loss: 0.0053 - val_loss: 0.0072\n",
            "Epoch 25/200\n",
            "10/10 [==============================] - 0s 10ms/step - loss: 0.0052 - val_loss: 0.0072\n",
            "Epoch 26/200\n",
            "10/10 [==============================] - 0s 9ms/step - loss: 0.0051 - val_loss: 0.0073\n",
            "Epoch 27/200\n",
            "10/10 [==============================] - 0s 10ms/step - loss: 0.0050 - val_loss: 0.0073\n",
            "Epoch 28/200\n",
            "10/10 [==============================] - 0s 10ms/step - loss: 0.0049 - val_loss: 0.0073\n",
            "Epoch 29/200\n",
            "10/10 [==============================] - 0s 9ms/step - loss: 0.0048 - val_loss: 0.0074\n",
            "Epoch 30/200\n",
            "10/10 [==============================] - 0s 9ms/step - loss: 0.0048 - val_loss: 0.0075\n",
            "Epoch 31/200\n",
            "10/10 [==============================] - 0s 10ms/step - loss: 0.0047 - val_loss: 0.0075\n",
            "Epoch 32/200\n",
            "10/10 [==============================] - 0s 10ms/step - loss: 0.0046 - val_loss: 0.0075\n",
            "Epoch 33/200\n",
            "10/10 [==============================] - 0s 9ms/step - loss: 0.0045 - val_loss: 0.0074\n",
            "Epoch 34/200\n",
            "10/10 [==============================] - 0s 9ms/step - loss: 0.0045 - val_loss: 0.0074\n",
            "Epoch 35/200\n",
            "10/10 [==============================] - 0s 9ms/step - loss: 0.0045 - val_loss: 0.0074\n",
            "Epoch 36/200\n",
            "10/10 [==============================] - 0s 9ms/step - loss: 0.0044 - val_loss: 0.0075\n",
            "Epoch 37/200\n",
            "10/10 [==============================] - 0s 9ms/step - loss: 0.0044 - val_loss: 0.0074\n",
            "Epoch 38/200\n",
            "10/10 [==============================] - 0s 10ms/step - loss: 0.0043 - val_loss: 0.0073\n",
            "Epoch 39/200\n",
            "10/10 [==============================] - 0s 10ms/step - loss: 0.0042 - val_loss: 0.0072\n",
            "Epoch 40/200\n",
            "10/10 [==============================] - 0s 9ms/step - loss: 0.0042 - val_loss: 0.0071\n",
            "Epoch 41/200\n",
            "10/10 [==============================] - 0s 9ms/step - loss: 0.0041 - val_loss: 0.0071\n",
            "Epoch 42/200\n",
            "10/10 [==============================] - 0s 9ms/step - loss: 0.0041 - val_loss: 0.0070\n",
            "Epoch 43/200\n",
            "10/10 [==============================] - 0s 9ms/step - loss: 0.0040 - val_loss: 0.0069\n",
            "Epoch 44/200\n",
            "10/10 [==============================] - 0s 9ms/step - loss: 0.0040 - val_loss: 0.0070\n",
            "Epoch 45/200\n",
            "10/10 [==============================] - 0s 9ms/step - loss: 0.0040 - val_loss: 0.0071\n",
            "Epoch 46/200\n",
            "10/10 [==============================] - 0s 9ms/step - loss: 0.0040 - val_loss: 0.0071\n",
            "Epoch 47/200\n",
            "10/10 [==============================] - 0s 9ms/step - loss: 0.0039 - val_loss: 0.0070\n",
            "Epoch 48/200\n",
            "10/10 [==============================] - 0s 9ms/step - loss: 0.0038 - val_loss: 0.0068\n",
            "Epoch 49/200\n",
            "10/10 [==============================] - 0s 10ms/step - loss: 0.0037 - val_loss: 0.0067\n",
            "Epoch 50/200\n",
            "10/10 [==============================] - 0s 10ms/step - loss: 0.0037 - val_loss: 0.0066\n",
            "Epoch 51/200\n",
            "10/10 [==============================] - 0s 9ms/step - loss: 0.0037 - val_loss: 0.0066\n",
            "Epoch 52/200\n",
            "10/10 [==============================] - 0s 9ms/step - loss: 0.0038 - val_loss: 0.0068\n",
            "Epoch 53/200\n",
            "10/10 [==============================] - 0s 9ms/step - loss: 0.0038 - val_loss: 0.0068\n",
            "Epoch 54/200\n",
            "10/10 [==============================] - 0s 10ms/step - loss: 0.0036 - val_loss: 0.0065\n",
            "Epoch 55/200\n",
            "10/10 [==============================] - 0s 10ms/step - loss: 0.0034 - val_loss: 0.0061\n",
            "Epoch 56/200\n",
            "10/10 [==============================] - 0s 9ms/step - loss: 0.0033 - val_loss: 0.0059\n",
            "Epoch 57/200\n",
            "10/10 [==============================] - 0s 9ms/step - loss: 0.0033 - val_loss: 0.0059\n",
            "Epoch 58/200\n",
            "10/10 [==============================] - 0s 9ms/step - loss: 0.0036 - val_loss: 0.0062\n",
            "Epoch 59/200\n",
            "10/10 [==============================] - 0s 10ms/step - loss: 0.0039 - val_loss: 0.0071\n",
            "Epoch 60/200\n",
            "10/10 [==============================] - 0s 10ms/step - loss: 0.0033 - val_loss: 0.0062\n",
            "Epoch 61/200\n",
            "10/10 [==============================] - 0s 9ms/step - loss: 0.0032 - val_loss: 0.0051\n",
            "Epoch 62/200\n",
            "10/10 [==============================] - 0s 9ms/step - loss: 0.0032 - val_loss: 0.0053\n",
            "Epoch 63/200\n",
            "10/10 [==============================] - 0s 11ms/step - loss: 0.0031 - val_loss: 0.0051\n",
            "Epoch 64/200\n",
            "10/10 [==============================] - 0s 9ms/step - loss: 0.0030 - val_loss: 0.0051\n",
            "Epoch 65/200\n",
            "10/10 [==============================] - 0s 10ms/step - loss: 0.0030 - val_loss: 0.0050\n",
            "Epoch 66/200\n",
            "10/10 [==============================] - 0s 10ms/step - loss: 0.0034 - val_loss: 0.0050\n",
            "Epoch 67/200\n",
            "10/10 [==============================] - 0s 9ms/step - loss: 0.0046 - val_loss: 0.0079\n",
            "Epoch 68/200\n",
            "10/10 [==============================] - 0s 9ms/step - loss: 0.0035 - val_loss: 0.0065\n",
            "Epoch 69/200\n",
            "10/10 [==============================] - 0s 10ms/step - loss: 0.0036 - val_loss: 0.0057\n",
            "Epoch 70/200\n",
            "10/10 [==============================] - 0s 9ms/step - loss: 0.0040 - val_loss: 0.0065\n",
            "Epoch 71/200\n",
            "10/10 [==============================] - 0s 9ms/step - loss: 0.0033 - val_loss: 0.0056\n",
            "Epoch 72/200\n",
            "10/10 [==============================] - 0s 9ms/step - loss: 0.0030 - val_loss: 0.0048\n",
            "Epoch 73/200\n",
            "10/10 [==============================] - 0s 9ms/step - loss: 0.0031 - val_loss: 0.0049\n",
            "Epoch 74/200\n",
            "10/10 [==============================] - 0s 9ms/step - loss: 0.0030 - val_loss: 0.0047\n",
            "Epoch 75/200\n",
            "10/10 [==============================] - 0s 10ms/step - loss: 0.0030 - val_loss: 0.0050\n",
            "Epoch 76/200\n",
            "10/10 [==============================] - 0s 9ms/step - loss: 0.0033 - val_loss: 0.0055\n",
            "Epoch 77/200\n",
            "10/10 [==============================] - 0s 9ms/step - loss: 0.0031 - val_loss: 0.0055\n",
            "Epoch 78/200\n",
            "10/10 [==============================] - 0s 9ms/step - loss: 0.0028 - val_loss: 0.0048\n",
            "Epoch 79/200\n",
            "10/10 [==============================] - 0s 9ms/step - loss: 0.0029 - val_loss: 0.0046\n",
            "Epoch 80/200\n",
            "10/10 [==============================] - 0s 10ms/step - loss: 0.0028 - val_loss: 0.0045\n",
            "Epoch 81/200\n",
            "10/10 [==============================] - 0s 10ms/step - loss: 0.0028 - val_loss: 0.0046\n",
            "Epoch 82/200\n",
            "10/10 [==============================] - 0s 10ms/step - loss: 0.0029 - val_loss: 0.0048\n",
            "Epoch 83/200\n",
            "10/10 [==============================] - 0s 9ms/step - loss: 0.0032 - val_loss: 0.0054\n",
            "Epoch 84/200\n",
            "10/10 [==============================] - 0s 9ms/step - loss: 0.0030 - val_loss: 0.0052\n",
            "Epoch 85/200\n",
            "10/10 [==============================] - 0s 9ms/step - loss: 0.0027 - val_loss: 0.0047\n",
            "Epoch 86/200\n",
            "10/10 [==============================] - 0s 9ms/step - loss: 0.0028 - val_loss: 0.0046\n",
            "Epoch 87/200\n",
            "10/10 [==============================] - 0s 9ms/step - loss: 0.0028 - val_loss: 0.0044\n",
            "Epoch 88/200\n",
            "10/10 [==============================] - 0s 10ms/step - loss: 0.0027 - val_loss: 0.0045\n",
            "Epoch 89/200\n",
            "10/10 [==============================] - 0s 10ms/step - loss: 0.0029 - val_loss: 0.0048\n",
            "Epoch 90/200\n",
            "10/10 [==============================] - 0s 9ms/step - loss: 0.0031 - val_loss: 0.0055\n",
            "Epoch 91/200\n",
            "10/10 [==============================] - 0s 9ms/step - loss: 0.0027 - val_loss: 0.0047\n",
            "Epoch 92/200\n",
            "10/10 [==============================] - 0s 11ms/step - loss: 0.0026 - val_loss: 0.0044\n",
            "Epoch 93/200\n",
            "10/10 [==============================] - 0s 10ms/step - loss: 0.0027 - val_loss: 0.0044\n",
            "Epoch 94/200\n",
            "10/10 [==============================] - 0s 10ms/step - loss: 0.0026 - val_loss: 0.0042\n",
            "Epoch 95/200\n",
            "10/10 [==============================] - 0s 9ms/step - loss: 0.0026 - val_loss: 0.0043\n",
            "Epoch 96/200\n",
            "10/10 [==============================] - 0s 9ms/step - loss: 0.0027 - val_loss: 0.0045\n",
            "Epoch 97/200\n",
            "10/10 [==============================] - 0s 9ms/step - loss: 0.0029 - val_loss: 0.0051\n",
            "Epoch 98/200\n",
            "10/10 [==============================] - 0s 10ms/step - loss: 0.0027 - val_loss: 0.0048\n",
            "Epoch 99/200\n",
            "10/10 [==============================] - 0s 9ms/step - loss: 0.0025 - val_loss: 0.0044\n",
            "Epoch 100/200\n",
            "10/10 [==============================] - 0s 10ms/step - loss: 0.0026 - val_loss: 0.0043\n",
            "Epoch 101/200\n",
            "10/10 [==============================] - 0s 9ms/step - loss: 0.0025 - val_loss: 0.0042\n",
            "Epoch 102/200\n",
            "10/10 [==============================] - 0s 10ms/step - loss: 0.0025 - val_loss: 0.0041\n",
            "Epoch 103/200\n",
            "10/10 [==============================] - 0s 9ms/step - loss: 0.0025 - val_loss: 0.0042\n",
            "Epoch 104/200\n",
            "10/10 [==============================] - 0s 10ms/step - loss: 0.0026 - val_loss: 0.0044\n",
            "Epoch 105/200\n",
            "10/10 [==============================] - 0s 9ms/step - loss: 0.0028 - val_loss: 0.0048\n",
            "Epoch 106/200\n",
            "10/10 [==============================] - 0s 9ms/step - loss: 0.0027 - val_loss: 0.0049\n",
            "Epoch 107/200\n",
            "10/10 [==============================] - 0s 9ms/step - loss: 0.0024 - val_loss: 0.0044\n",
            "Epoch 108/200\n",
            "10/10 [==============================] - 0s 10ms/step - loss: 0.0025 - val_loss: 0.0042\n",
            "Epoch 109/200\n",
            "10/10 [==============================] - 0s 9ms/step - loss: 0.0025 - val_loss: 0.0042\n",
            "Epoch 110/200\n",
            "10/10 [==============================] - 0s 9ms/step - loss: 0.0024 - val_loss: 0.0041\n",
            "Epoch 111/200\n",
            "10/10 [==============================] - 0s 10ms/step - loss: 0.0024 - val_loss: 0.0042\n",
            "Epoch 112/200\n",
            "10/10 [==============================] - 0s 9ms/step - loss: 0.0025 - val_loss: 0.0043\n",
            "Epoch 113/200\n",
            "10/10 [==============================] - 0s 10ms/step - loss: 0.0026 - val_loss: 0.0046\n",
            "Epoch 114/200\n",
            "10/10 [==============================] - 0s 9ms/step - loss: 0.0026 - val_loss: 0.0048\n",
            "Epoch 115/200\n",
            "10/10 [==============================] - 0s 9ms/step - loss: 0.0024 - val_loss: 0.0043\n",
            "Epoch 116/200\n",
            "10/10 [==============================] - 0s 9ms/step - loss: 0.0023 - val_loss: 0.0042\n",
            "Epoch 117/200\n",
            "10/10 [==============================] - 0s 10ms/step - loss: 0.0024 - val_loss: 0.0041\n",
            "Epoch 118/200\n",
            "10/10 [==============================] - 0s 9ms/step - loss: 0.0024 - val_loss: 0.0042\n",
            "Epoch 119/200\n",
            "10/10 [==============================] - 0s 9ms/step - loss: 0.0023 - val_loss: 0.0041\n",
            "Epoch 120/200\n",
            "10/10 [==============================] - 0s 9ms/step - loss: 0.0023 - val_loss: 0.0041\n",
            "Epoch 121/200\n",
            "10/10 [==============================] - 0s 11ms/step - loss: 0.0024 - val_loss: 0.0042\n",
            "Epoch 122/200\n",
            "10/10 [==============================] - 0s 9ms/step - loss: 0.0026 - val_loss: 0.0045\n",
            "Epoch 123/200\n",
            "10/10 [==============================] - 0s 9ms/step - loss: 0.0027 - val_loss: 0.0049\n",
            "Epoch 124/200\n",
            "10/10 [==============================] - 0s 9ms/step - loss: 0.0025 - val_loss: 0.0046\n",
            "Epoch 125/200\n",
            "10/10 [==============================] - 0s 9ms/step - loss: 0.0023 - val_loss: 0.0042\n",
            "Epoch 126/200\n",
            "10/10 [==============================] - 0s 10ms/step - loss: 0.0023 - val_loss: 0.0041\n",
            "Epoch 127/200\n",
            "10/10 [==============================] - 0s 10ms/step - loss: 0.0023 - val_loss: 0.0042\n",
            "Epoch 128/200\n",
            "10/10 [==============================] - 0s 10ms/step - loss: 0.0022 - val_loss: 0.0041\n",
            "Epoch 129/200\n",
            "10/10 [==============================] - 0s 9ms/step - loss: 0.0022 - val_loss: 0.0041\n",
            "Epoch 130/200\n",
            "10/10 [==============================] - 0s 9ms/step - loss: 0.0022 - val_loss: 0.0042\n",
            "Epoch 131/200\n",
            "10/10 [==============================] - 0s 9ms/step - loss: 0.0023 - val_loss: 0.0042\n",
            "Epoch 132/200\n",
            "10/10 [==============================] - 0s 9ms/step - loss: 0.0023 - val_loss: 0.0043\n",
            "Epoch 133/200\n",
            "10/10 [==============================] - 0s 10ms/step - loss: 0.0022 - val_loss: 0.0043\n",
            "Epoch 134/200\n",
            "10/10 [==============================] - 0s 9ms/step - loss: 0.0022 - val_loss: 0.0043\n",
            "Epoch 135/200\n",
            "10/10 [==============================] - 0s 9ms/step - loss: 0.0022 - val_loss: 0.0042\n",
            "Epoch 136/200\n",
            "10/10 [==============================] - 0s 9ms/step - loss: 0.0022 - val_loss: 0.0042\n",
            "Epoch 137/200\n",
            "10/10 [==============================] - 0s 9ms/step - loss: 0.0021 - val_loss: 0.0042\n",
            "Epoch 138/200\n",
            "10/10 [==============================] - 0s 9ms/step - loss: 0.0021 - val_loss: 0.0041\n",
            "Epoch 139/200\n",
            "10/10 [==============================] - 0s 10ms/step - loss: 0.0021 - val_loss: 0.0042\n",
            "Epoch 140/200\n",
            "10/10 [==============================] - 0s 10ms/step - loss: 0.0021 - val_loss: 0.0042\n",
            "Epoch 141/200\n",
            "10/10 [==============================] - 0s 9ms/step - loss: 0.0021 - val_loss: 0.0042\n",
            "Epoch 142/200\n",
            "10/10 [==============================] - 0s 10ms/step - loss: 0.0021 - val_loss: 0.0042\n",
            "Epoch 143/200\n",
            "10/10 [==============================] - 0s 10ms/step - loss: 0.0021 - val_loss: 0.0042\n",
            "Epoch 144/200\n",
            "10/10 [==============================] - 0s 10ms/step - loss: 0.0021 - val_loss: 0.0042\n",
            "Epoch 145/200\n",
            "10/10 [==============================] - 0s 10ms/step - loss: 0.0021 - val_loss: 0.0042\n",
            "Epoch 146/200\n",
            "10/10 [==============================] - 0s 9ms/step - loss: 0.0021 - val_loss: 0.0042\n",
            "Epoch 147/200\n",
            "10/10 [==============================] - 0s 9ms/step - loss: 0.0021 - val_loss: 0.0042\n",
            "Epoch 148/200\n",
            "10/10 [==============================] - 0s 10ms/step - loss: 0.0021 - val_loss: 0.0042\n",
            "Epoch 149/200\n",
            "10/10 [==============================] - 0s 10ms/step - loss: 0.0021 - val_loss: 0.0042\n",
            "Epoch 150/200\n",
            "10/10 [==============================] - 0s 9ms/step - loss: 0.0021 - val_loss: 0.0042\n",
            "Epoch 151/200\n",
            "10/10 [==============================] - 0s 10ms/step - loss: 0.0021 - val_loss: 0.0042\n",
            "Epoch 152/200\n",
            "10/10 [==============================] - 0s 9ms/step - loss: 0.0021 - val_loss: 0.0043\n",
            "Epoch 153/200\n",
            "10/10 [==============================] - 0s 9ms/step - loss: 0.0021 - val_loss: 0.0043\n",
            "Epoch 154/200\n",
            "10/10 [==============================] - 0s 9ms/step - loss: 0.0021 - val_loss: 0.0043\n",
            "Epoch 155/200\n",
            "10/10 [==============================] - 0s 9ms/step - loss: 0.0020 - val_loss: 0.0043\n",
            "Epoch 156/200\n",
            "10/10 [==============================] - 0s 10ms/step - loss: 0.0020 - val_loss: 0.0043\n",
            "Epoch 157/200\n",
            "10/10 [==============================] - 0s 9ms/step - loss: 0.0021 - val_loss: 0.0044\n",
            "Epoch 158/200\n",
            "10/10 [==============================] - 0s 10ms/step - loss: 0.0021 - val_loss: 0.0043\n",
            "Epoch 159/200\n",
            "10/10 [==============================] - 0s 9ms/step - loss: 0.0021 - val_loss: 0.0043\n",
            "Epoch 160/200\n",
            "10/10 [==============================] - 0s 10ms/step - loss: 0.0021 - val_loss: 0.0043\n",
            "Epoch 161/200\n",
            "10/10 [==============================] - 0s 10ms/step - loss: 0.0020 - val_loss: 0.0043\n",
            "Epoch 162/200\n",
            "10/10 [==============================] - 0s 9ms/step - loss: 0.0020 - val_loss: 0.0044\n",
            "Epoch 163/200\n",
            "10/10 [==============================] - 0s 9ms/step - loss: 0.0020 - val_loss: 0.0044\n",
            "Epoch 164/200\n",
            "10/10 [==============================] - 0s 10ms/step - loss: 0.0020 - val_loss: 0.0043\n",
            "Epoch 165/200\n",
            "10/10 [==============================] - 0s 10ms/step - loss: 0.0020 - val_loss: 0.0044\n",
            "Epoch 166/200\n",
            "10/10 [==============================] - 0s 10ms/step - loss: 0.0021 - val_loss: 0.0045\n",
            "Epoch 167/200\n",
            "10/10 [==============================] - 0s 9ms/step - loss: 0.0021 - val_loss: 0.0043\n",
            "Epoch 168/200\n",
            "10/10 [==============================] - 0s 10ms/step - loss: 0.0020 - val_loss: 0.0044\n",
            "Epoch 169/200\n",
            "10/10 [==============================] - 0s 9ms/step - loss: 0.0020 - val_loss: 0.0044\n",
            "Epoch 170/200\n",
            "10/10 [==============================] - 0s 10ms/step - loss: 0.0021 - val_loss: 0.0043\n",
            "Epoch 171/200\n",
            "10/10 [==============================] - 0s 9ms/step - loss: 0.0020 - val_loss: 0.0045\n",
            "Epoch 172/200\n",
            "10/10 [==============================] - 0s 9ms/step - loss: 0.0020 - val_loss: 0.0045\n",
            "Epoch 173/200\n",
            "10/10 [==============================] - 0s 9ms/step - loss: 0.0020 - val_loss: 0.0044\n",
            "Epoch 174/200\n",
            "10/10 [==============================] - 0s 10ms/step - loss: 0.0020 - val_loss: 0.0045\n",
            "Epoch 175/200\n",
            "10/10 [==============================] - 0s 11ms/step - loss: 0.0020 - val_loss: 0.0045\n",
            "Epoch 176/200\n",
            "10/10 [==============================] - 0s 9ms/step - loss: 0.0021 - val_loss: 0.0044\n",
            "Epoch 177/200\n",
            "10/10 [==============================] - 0s 10ms/step - loss: 0.0020 - val_loss: 0.0045\n",
            "Epoch 178/200\n",
            "10/10 [==============================] - 0s 9ms/step - loss: 0.0020 - val_loss: 0.0045\n",
            "Epoch 179/200\n",
            "10/10 [==============================] - 0s 10ms/step - loss: 0.0020 - val_loss: 0.0044\n",
            "Epoch 180/200\n",
            "10/10 [==============================] - 0s 10ms/step - loss: 0.0020 - val_loss: 0.0045\n",
            "Epoch 181/200\n",
            "10/10 [==============================] - 0s 10ms/step - loss: 0.0020 - val_loss: 0.0045\n",
            "Epoch 182/200\n",
            "10/10 [==============================] - 0s 10ms/step - loss: 0.0020 - val_loss: 0.0045\n",
            "Epoch 183/200\n",
            "10/10 [==============================] - 0s 10ms/step - loss: 0.0020 - val_loss: 0.0044\n",
            "Epoch 184/200\n",
            "10/10 [==============================] - 0s 10ms/step - loss: 0.0020 - val_loss: 0.0046\n",
            "Epoch 185/200\n",
            "10/10 [==============================] - 0s 9ms/step - loss: 0.0022 - val_loss: 0.0046\n",
            "Epoch 186/200\n",
            "10/10 [==============================] - 0s 11ms/step - loss: 0.0021 - val_loss: 0.0044\n",
            "Epoch 187/200\n",
            "10/10 [==============================] - 0s 10ms/step - loss: 0.0022 - val_loss: 0.0046\n",
            "Epoch 188/200\n",
            "10/10 [==============================] - 0s 10ms/step - loss: 0.0023 - val_loss: 0.0047\n",
            "Epoch 189/200\n",
            "10/10 [==============================] - 0s 10ms/step - loss: 0.0024 - val_loss: 0.0049\n",
            "Epoch 190/200\n",
            "10/10 [==============================] - 0s 10ms/step - loss: 0.0027 - val_loss: 0.0055\n",
            "Epoch 191/200\n",
            "10/10 [==============================] - 0s 10ms/step - loss: 0.0025 - val_loss: 0.0051\n",
            "Epoch 192/200\n",
            "10/10 [==============================] - 0s 9ms/step - loss: 0.0023 - val_loss: 0.0050\n",
            "Epoch 193/200\n",
            "10/10 [==============================] - 0s 10ms/step - loss: 0.0022 - val_loss: 0.0050\n",
            "Epoch 194/200\n",
            "10/10 [==============================] - 0s 10ms/step - loss: 0.0020 - val_loss: 0.0045\n",
            "Epoch 195/200\n",
            "10/10 [==============================] - 0s 10ms/step - loss: 0.0021 - val_loss: 0.0050\n",
            "Epoch 196/200\n",
            "10/10 [==============================] - 0s 9ms/step - loss: 0.0020 - val_loss: 0.0044\n",
            "Epoch 197/200\n",
            "10/10 [==============================] - 0s 10ms/step - loss: 0.0021 - val_loss: 0.0045\n",
            "Epoch 198/200\n",
            "10/10 [==============================] - 0s 9ms/step - loss: 0.0021 - val_loss: 0.0044\n",
            "Epoch 199/200\n",
            "10/10 [==============================] - 0s 9ms/step - loss: 0.0021 - val_loss: 0.0046\n",
            "Epoch 200/200\n",
            "10/10 [==============================] - 0s 10ms/step - loss: 0.0020 - val_loss: 0.0045\n"
          ],
          "name": "stdout"
        }
      ]
    },
    {
      "cell_type": "markdown",
      "metadata": {
        "id": "1HbTw6bCNbg3"
      },
      "source": [
        "## Learning Curve"
      ]
    },
    {
      "cell_type": "code",
      "metadata": {
        "id": "qwWfHXm_N3xF",
        "outputId": "807567ae-0679-4f31-b765-40aeee4113df",
        "colab": {
          "base_uri": "https://localhost:8080/",
          "height": 34
        }
      },
      "source": [
        "history.history.keys()"
      ],
      "execution_count": 51,
      "outputs": [
        {
          "output_type": "execute_result",
          "data": {
            "text/plain": [
              "dict_keys(['loss', 'val_loss'])"
            ]
          },
          "metadata": {
            "tags": []
          },
          "execution_count": 51
        }
      ]
    },
    {
      "cell_type": "code",
      "metadata": {
        "id": "ZQGiwK9vNdi7",
        "outputId": "868464df-5fc1-49ef-bd89-b33637556b86",
        "colab": {
          "base_uri": "https://localhost:8080/",
          "height": 312
        }
      },
      "source": [
        "score = history.history['loss'][0]\n",
        "print('training loss : ', score)\n",
        "\n",
        "plt.plot(history.history['loss'], color='blue', label='train')\n",
        "plt.plot(history.history['val_loss'], color='orange', label='val')\n",
        "plt.title('Training MSE')\n",
        "plt.xlabel('epochs')\n",
        "plt.ylabel('mse')\n",
        "plt.ylim(0,0.03)\n",
        "plt.show()"
      ],
      "execution_count": 52,
      "outputs": [
        {
          "output_type": "stream",
          "text": [
            "training loss :  0.12260092049837112\n"
          ],
          "name": "stdout"
        },
        {
          "output_type": "display_data",
          "data": {
            "image/png": "[encoded data removed]",
            "text/plain": [
              "<Figure size 432x288 with 1 Axes>"
            ]
          },
          "metadata": {
            "tags": [],
            "needs_background": "light"
          }
        }
      ]
    },
    {
      "cell_type": "markdown",
      "metadata": {
        "id": "yK_ecrVgPAyP"
      },
      "source": [
        "## Save the model"
      ]
    },
    {
      "cell_type": "code",
      "metadata": {
        "id": "vwCCZ7qxPDh4"
      },
      "source": [
        "model.save('GOOG_LSTM.h5')"
      ],
      "execution_count": 53,
      "outputs": []
    },
    {
      "cell_type": "markdown",
      "metadata": {
        "id": "KcB-FOzxPKey"
      },
      "source": [
        "## model evaluation"
      ]
    },
    {
      "cell_type": "code",
      "metadata": {
        "id": "JeIM2BaVPI54"
      },
      "source": [
        "# load the model\n",
        "from keras.models import load_model\n",
        "model = load_model('GOOG_LSTM.h5')"
      ],
      "execution_count": 54,
      "outputs": []
    },
    {
      "cell_type": "code",
      "metadata": {
        "id": "ED7NwguiPUlG",
        "outputId": "e35613d4-fac2-4d9d-b959-ede4cf36875f",
        "colab": {
          "base_uri": "https://localhost:8080/",
          "height": 51
        }
      },
      "source": [
        "# evaluation\n",
        "model.evaluate(X_test, y_test)"
      ],
      "execution_count": 55,
      "outputs": [
        {
          "output_type": "stream",
          "text": [
            "4/4 [==============================] - 0s 2ms/step - loss: 0.0019\n"
          ],
          "name": "stdout"
        },
        {
          "output_type": "execute_result",
          "data": {
            "text/plain": [
              "0.0019134895410388708"
            ]
          },
          "metadata": {
            "tags": []
          },
          "execution_count": 55
        }
      ]
    },
    {
      "cell_type": "markdown",
      "metadata": {
        "id": "SIMU1wLRPc5W"
      },
      "source": [
        "## make prediction on test set"
      ]
    },
    {
      "cell_type": "code",
      "metadata": {
        "id": "GxRurREzPfSx",
        "outputId": "1d1951e5-9f34-4c65-ca9b-4ce989e14bf8",
        "colab": {
          "base_uri": "https://localhost:8080/",
          "height": 187
        }
      },
      "source": [
        "# make prediction\n",
        "y_pred = model.predict(X_test)\n",
        "\n",
        "# print 10 examples of prediction\n",
        "y_pred[:10]"
      ],
      "execution_count": 56,
      "outputs": [
        {
          "output_type": "execute_result",
          "data": {
            "text/plain": [
              "array([[0.5417015 ],\n",
              "       [0.5156896 ],\n",
              "       [0.5973738 ],\n",
              "       [0.45887366],\n",
              "       [0.5223182 ],\n",
              "       [0.5446675 ],\n",
              "       [0.6115503 ],\n",
              "       [0.5327482 ],\n",
              "       [0.5891935 ],\n",
              "       [0.5574095 ]], dtype=float32)"
            ]
          },
          "metadata": {
            "tags": []
          },
          "execution_count": 56
        }
      ]
    },
    {
      "cell_type": "code",
      "metadata": {
        "id": "kffQpVm5Pnv5"
      },
      "source": [
        "# rescale y_test and y_pred\n",
        "close_price = sc_close.inverse_transform(y_test)\n",
        "close_prediction = sc_close.inverse_transform(y_pred)"
      ],
      "execution_count": 57,
      "outputs": []
    },
    {
      "cell_type": "code",
      "metadata": {
        "id": "MVxy4bsyQQ6e",
        "outputId": "1cd2be4e-4b2b-437e-872d-7f8ed94c94f6",
        "colab": {
          "base_uri": "https://localhost:8080/",
          "height": 350
        }
      },
      "source": [
        "# plot the result\n",
        "plt.figure(figsize=(10,5))\n",
        "plt.plot(close_price, label='Close')\n",
        "plt.plot(close_prediction, label='Prediction')\n",
        "plt.legend(loc='best')\n",
        "plt.title('GOOG prediction with LSTM')\n",
        "plt.xlabel('time [days]')\n",
        "plt.ylabel('price')\n",
        "plt.show()"
      ],
      "execution_count": 58,
      "outputs": [
        {
          "output_type": "display_data",
          "data": {
            "image/png": "[encoded data removed]",
            "text/plain": [
              "<Figure size 720x360 with 1 Axes>"
            ]
          },
          "metadata": {
            "tags": [],
            "needs_background": "light"
          }
        }
      ]
    }
  ]
}