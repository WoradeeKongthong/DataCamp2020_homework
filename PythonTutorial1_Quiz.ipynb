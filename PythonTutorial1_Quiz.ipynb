{
 "cells": [
  {
   "cell_type": "markdown",
   "metadata": {},
   "source": [
    "Quiz 1"
   ]
  },
  {
   "cell_type": "markdown",
   "metadata": {},
   "source": [
    "คำนวณหาเศษเหลือจากการหาร 2345 ด้วย 13"
   ]
  },
  {
   "cell_type": "code",
   "execution_count": 6,
   "metadata": {},
   "outputs": [
    {
     "data": {
      "text/plain": [
       "5"
      ]
     },
     "execution_count": 6,
     "metadata": {},
     "output_type": "execute_result"
    }
   ],
   "source": [
    "2345 % 13"
   ]
  },
  {
   "cell_type": "markdown",
   "metadata": {},
   "source": [
    "หาคำตอบจากการหาร 1567 ด้วย 17 โดยไม่เอาเศษ"
   ]
  },
  {
   "cell_type": "code",
   "execution_count": 7,
   "metadata": {},
   "outputs": [
    {
     "data": {
      "text/plain": [
       "92"
      ]
     },
     "execution_count": 7,
     "metadata": {},
     "output_type": "execute_result"
    }
   ],
   "source": [
    "1567 // 17"
   ]
  },
  {
   "cell_type": "markdown",
   "metadata": {},
   "source": [
    "FirstName กับ Firstname เป็นตัวแปรเดียวกันหรือไม่ <br>\n",
    "Ans: ไม่เป็น"
   ]
  },
  {
   "cell_type": "code",
   "execution_count": 8,
   "metadata": {},
   "outputs": [
    {
     "data": {
      "text/plain": [
       "False"
      ]
     },
     "execution_count": 8,
     "metadata": {},
     "output_type": "execute_result"
    }
   ],
   "source": [
    "'FirstName' == 'Firstname'"
   ]
  },
  {
   "cell_type": "markdown",
   "metadata": {},
   "source": [
    "13Friday เป็นตัวแปรที่ถูกต้องหรือไม่ <br>\n",
    "Ans: ไม่ถูกต้อง ตัวแปรต้องไม่ขึ้นต้นด้วยตัวเลขหรืออักขระพิเศษ"
   ]
  },
  {
   "cell_type": "code",
   "execution_count": 9,
   "metadata": {},
   "outputs": [
    {
     "ename": "SyntaxError",
     "evalue": "invalid syntax (<ipython-input-9-6b32abf85c76>, line 1)",
     "output_type": "error",
     "traceback": [
      "\u001b[0;36m  File \u001b[0;32m\"<ipython-input-9-6b32abf85c76>\"\u001b[0;36m, line \u001b[0;32m1\u001b[0m\n\u001b[0;31m    13Friday =1\u001b[0m\n\u001b[0m           ^\u001b[0m\n\u001b[0;31mSyntaxError\u001b[0m\u001b[0;31m:\u001b[0m invalid syntax\n"
     ]
    }
   ],
   "source": [
    "13Friday = 1"
   ]
  },
  {
   "cell_type": "markdown",
   "metadata": {},
   "source": [
    "print ผลลัพธ์ข้อ 1,2 โดยใช้คำสั่ง .format()"
   ]
  },
  {
   "cell_type": "code",
   "execution_count": 10,
   "metadata": {},
   "outputs": [
    {
     "name": "stdout",
     "output_type": "stream",
     "text": [
      "ผลลัพธ์ข้อ 1 คือ 5 และผลลัพธ์ข้อ 2 คือ 92\n"
     ]
    }
   ],
   "source": [
    "print('ผลลัพธ์ข้อ 1 คือ {} และผลลัพธ์ข้อ 2 คือ {}'.format(2345 % 13,1567 // 17))"
   ]
  },
  {
   "cell_type": "markdown",
   "metadata": {},
   "source": [
    "Quiz 2"
   ]
  },
  {
   "cell_type": "markdown",
   "metadata": {},
   "source": [
    "เขียนฟังก์ชันไม่มีชื่อให้รับพารามิเตอร์ 1 ตัวและปริ้นท์ค่านั้น หารด้วย 3"
   ]
  },
  {
   "cell_type": "code",
   "execution_count": 11,
   "metadata": {},
   "outputs": [],
   "source": [
    "result1 = lambda x : x / 3"
   ]
  },
  {
   "cell_type": "code",
   "execution_count": 13,
   "metadata": {},
   "outputs": [
    {
     "name": "stdout",
     "output_type": "stream",
     "text": [
      "1.3333333333333333\n"
     ]
    }
   ],
   "source": [
    "print(result1(4))"
   ]
  },
  {
   "cell_type": "markdown",
   "metadata": {},
   "source": [
    "เขียนฟังก์ชันธรรมดารับค่า 4 พารามิเตอร์ และหาค่าเฉลี่ย"
   ]
  },
  {
   "cell_type": "code",
   "execution_count": 14,
   "metadata": {},
   "outputs": [],
   "source": [
    "def find_avg(x1,x2,x3,x4):\n",
    "    return (x1+x2+x3+x4)/4"
   ]
  },
  {
   "cell_type": "code",
   "execution_count": 17,
   "metadata": {},
   "outputs": [
    {
     "data": {
      "text/plain": [
       "3.5"
      ]
     },
     "execution_count": 17,
     "metadata": {},
     "output_type": "execute_result"
    }
   ],
   "source": [
    "find_avg(2,3,4,5)"
   ]
  },
  {
   "cell_type": "markdown",
   "metadata": {},
   "source": [
    "เขียนฟังก์ชั่นไม่มีชื่อรับพารามิเตอร์ 3 ตัวและหาค่าเฉลี่ย"
   ]
  },
  {
   "cell_type": "code",
   "execution_count": 18,
   "metadata": {},
   "outputs": [],
   "source": [
    "result3 = lambda x1,x2,x3 : (x1+x2+x3)/3"
   ]
  },
  {
   "cell_type": "code",
   "execution_count": 19,
   "metadata": {},
   "outputs": [
    {
     "data": {
      "text/plain": [
       "3.0"
      ]
     },
     "execution_count": 19,
     "metadata": {},
     "output_type": "execute_result"
    }
   ],
   "source": [
    "result3(2,3,4)"
   ]
  },
  {
   "cell_type": "markdown",
   "metadata": {},
   "source": [
    "Quiz 3"
   ]
  },
  {
   "cell_type": "markdown",
   "metadata": {},
   "source": [
    "สร้างลิสต์ระบุชื่อ นามสกุล อายุ ตัวเอง"
   ]
  },
  {
   "cell_type": "code",
   "execution_count": 34,
   "metadata": {},
   "outputs": [],
   "source": [
    "lst1 = ['Woradee', 'Kongthong', 32]"
   ]
  },
  {
   "cell_type": "markdown",
   "metadata": {},
   "source": [
    "ลบอายุออกจากลิสต์"
   ]
  },
  {
   "cell_type": "code",
   "execution_count": 35,
   "metadata": {},
   "outputs": [
    {
     "name": "stdout",
     "output_type": "stream",
     "text": [
      "['Woradee', 'Kongthong']\n"
     ]
    }
   ],
   "source": [
    "del lst1[2]\n",
    "print(lst1)"
   ]
  },
  {
   "cell_type": "markdown",
   "metadata": {},
   "source": [
    "ลดอายุตัวเอง 10 ปี และแทรกไว้หน้าสุดของลิสต์"
   ]
  },
  {
   "cell_type": "code",
   "execution_count": 36,
   "metadata": {},
   "outputs": [
    {
     "name": "stdout",
     "output_type": "stream",
     "text": [
      "[22, 'Woradee', 'Kongthong']\n"
     ]
    }
   ],
   "source": [
    "lst1.insert(0,22)\n",
    "print(lst1)"
   ]
  },
  {
   "cell_type": "markdown",
   "metadata": {},
   "source": [
    "เพิ่มส่วนสูง น้ำหนัก ลงในลิสต์ โดยไปต่อท้าย"
   ]
  },
  {
   "cell_type": "code",
   "execution_count": 37,
   "metadata": {},
   "outputs": [
    {
     "name": "stdout",
     "output_type": "stream",
     "text": [
      "[22, 'Woradee', 'Kongthong', 160, 48]\n"
     ]
    }
   ],
   "source": [
    "lst1.append(160)\n",
    "lst1.append(48)\n",
    "print(lst1)"
   ]
  },
  {
   "cell_type": "markdown",
   "metadata": {},
   "source": [
    "ปริ้นท์สมาชิกในลิสต์ตัวที่ 3 ถึงตัวสุดท้าย"
   ]
  },
  {
   "cell_type": "code",
   "execution_count": 39,
   "metadata": {},
   "outputs": [
    {
     "name": "stdout",
     "output_type": "stream",
     "text": [
      "['Kongthong', 160, 48]\n"
     ]
    }
   ],
   "source": [
    "print(lst1[2:])"
   ]
  },
  {
   "cell_type": "markdown",
   "metadata": {},
   "source": [
    "Quiz 4"
   ]
  },
  {
   "cell_type": "markdown",
   "metadata": {},
   "source": [
    "a = [[[1,3],[3,4]],[5,[5,6],[7,8]]] แล้ว a[1][1][1] คือค่าใด"
   ]
  },
  {
   "cell_type": "code",
   "execution_count": 40,
   "metadata": {},
   "outputs": [
    {
     "data": {
      "text/plain": [
       "6"
      ]
     },
     "execution_count": 40,
     "metadata": {},
     "output_type": "execute_result"
    }
   ],
   "source": [
    "a = [[[1,3],[3,4]],[5,[5,6],[7,8]]]\n",
    "a[1][1][1]"
   ]
  },
  {
   "cell_type": "markdown",
   "metadata": {},
   "source": [
    "เขียนชื่อ นามสกุล อายุ อยู่ในลิสต์เดียวของคน 4 คน แล้วใส่ใน nested list และ แสดงผล"
   ]
  },
  {
   "cell_type": "code",
   "execution_count": 41,
   "metadata": {},
   "outputs": [
    {
     "name": "stdout",
     "output_type": "stream",
     "text": [
      "[['Emma', 'Smith', 30], ['Olivia', 'Johnson', 28], ['Isabella', 'Williams', 24], ['Sophia', 'Brown', 20]]\n"
     ]
    }
   ],
   "source": [
    "human1 = ['Emma','Smith', 30]\n",
    "human2 = ['Olivia', 'Johnson', 28]\n",
    "human3 = ['Isabella', 'Williams', 24]\n",
    "human4 = ['Sophia', 'Brown', 20]\n",
    "humans = [human1, human2, human3, human4]\n",
    "print(humans)"
   ]
  },
  {
   "cell_type": "markdown",
   "metadata": {},
   "source": [
    "ลบคนสุดท้ายของลิสต์ออกและแสดงผล"
   ]
  },
  {
   "cell_type": "code",
   "execution_count": 43,
   "metadata": {},
   "outputs": [
    {
     "name": "stdout",
     "output_type": "stream",
     "text": [
      "[['Emma', 'Smith', 30], ['Olivia', 'Johnson', 28], ['Isabella', 'Williams', 24]]\n"
     ]
    }
   ],
   "source": [
    "del humans[-1]\n",
    "print(humans)"
   ]
  },
  {
   "cell_type": "markdown",
   "metadata": {},
   "source": [
    "เพิ่มคนที่ 5 เป็นคนแรกใน nested list และแสดงผล"
   ]
  },
  {
   "cell_type": "code",
   "execution_count": 45,
   "metadata": {},
   "outputs": [
    {
     "name": "stdout",
     "output_type": "stream",
     "text": [
      "[['Charlotte', 'Jones', 29], ['Emma', 'Smith', 30], ['Olivia', 'Johnson', 28], ['Isabella', 'Williams', 24]]\n"
     ]
    }
   ],
   "source": [
    "human5 = ['Charlotte', 'Jones', 29]\n",
    "humans.insert(0,human5)\n",
    "print(humans)"
   ]
  },
  {
   "cell_type": "markdown",
   "metadata": {},
   "source": [
    "เพิ่มอายุคนที่ 2 อีก 10 ปี"
   ]
  },
  {
   "cell_type": "code",
   "execution_count": 46,
   "metadata": {},
   "outputs": [
    {
     "name": "stdout",
     "output_type": "stream",
     "text": [
      "[['Charlotte', 'Jones', 29], ['Emma', 'Smith', 40], ['Olivia', 'Johnson', 28], ['Isabella', 'Williams', 24]]\n"
     ]
    }
   ],
   "source": [
    "humans[1][2] += 10\n",
    "print(humans)"
   ]
  },
  {
   "cell_type": "markdown",
   "metadata": {},
   "source": [
    "Quiz 5"
   ]
  },
  {
   "cell_type": "markdown",
   "metadata": {},
   "source": [
    "กำหนดให้ lst=[1,2,3,4,5,6,7,8,9,10] จงเขียน map เพื่อหาเลขยกกำลังสามทั้งหมดของ lst ในรูปแบบ lambda function และ ฟังก์ชั่นธรรมดา"
   ]
  },
  {
   "cell_type": "code",
   "execution_count": 47,
   "metadata": {},
   "outputs": [],
   "source": [
    "lst=[1,2,3,4,5,6,7,8,9,10]"
   ]
  },
  {
   "cell_type": "code",
   "execution_count": 52,
   "metadata": {},
   "outputs": [
    {
     "name": "stdout",
     "output_type": "stream",
     "text": [
      "[1, 8, 27, 64, 125, 216, 343, 512, 729, 1000]\n"
     ]
    }
   ],
   "source": [
    "result4 = map(lambda x:x**3, lst)\n",
    "print(list(result4))"
   ]
  },
  {
   "cell_type": "code",
   "execution_count": 54,
   "metadata": {},
   "outputs": [
    {
     "name": "stdout",
     "output_type": "stream",
     "text": [
      "[1, 8, 27, 64, 125, 216, 343, 512, 729, 1000]\n"
     ]
    }
   ],
   "source": [
    "def cube_x(x):\n",
    "    return x**3\n",
    "result5 = map(cube_x,lst)\n",
    "print(list(result5))"
   ]
  },
  {
   "cell_type": "markdown",
   "metadata": {},
   "source": [
    "กำหนดให้ lst=[1,2,3,4,5,6,7,8,9,10] จงเขียน filter เพื่อหาเลขใดในลิสต์เมื่อยกกำลังสองแล้วหารสองไม่ลงตัวในรูปแบบ lambda function และ ฟังก์ชันธรรมดา"
   ]
  },
  {
   "cell_type": "code",
   "execution_count": 56,
   "metadata": {},
   "outputs": [
    {
     "name": "stdout",
     "output_type": "stream",
     "text": [
      "[1, 3, 5, 7, 9]\n"
     ]
    }
   ],
   "source": [
    "result6 = filter(lambda x: (x**2)%2 != 0, lst)\n",
    "print(list(result6))"
   ]
  },
  {
   "cell_type": "code",
   "execution_count": 67,
   "metadata": {},
   "outputs": [
    {
     "name": "stdout",
     "output_type": "stream",
     "text": [
      "[1, 3, 5, 7, 9]\n"
     ]
    }
   ],
   "source": [
    "def func1(x):\n",
    "    return (x**2) % 2 != 0\n",
    "result7 = filter(func1, lst)\n",
    "print(list(result7))"
   ]
  },
  {
   "cell_type": "markdown",
   "metadata": {},
   "source": [
    "Quiz 6"
   ]
  },
  {
   "cell_type": "markdown",
   "metadata": {},
   "source": [
    "กำหนดให้ lst=[1,2,3,4,5] จงเขียน list comprehension เพื่อนำทุกตัวใน lst ไปคูณกับ 2 และลบด้วย 1 พร้อมกับแสดงผล"
   ]
  },
  {
   "cell_type": "code",
   "execution_count": 68,
   "metadata": {},
   "outputs": [],
   "source": [
    "lst = [1,2,3,4,5]"
   ]
  },
  {
   "cell_type": "code",
   "execution_count": 70,
   "metadata": {},
   "outputs": [
    {
     "name": "stdout",
     "output_type": "stream",
     "text": [
      "[1, 3, 5, 7, 9]\n"
     ]
    }
   ],
   "source": [
    "result8 = [x * 2 - 1 for x in lst]\n",
    "print(result8)"
   ]
  },
  {
   "cell_type": "markdown",
   "metadata": {},
   "source": [
    "กำหนดให้ lst=[1,2,3,4,5,6,7,8,9,10,11,12,13] จงเขียน list comprehension เพื่อหาตัวที่หาร 3 ไม่ลงตัว และนำผลลัพธ์นั้นยกกำลังสาม พร้อมกับแสดงผล"
   ]
  },
  {
   "cell_type": "code",
   "execution_count": 73,
   "metadata": {},
   "outputs": [],
   "source": [
    "lst=[1,2,3,4,5,6,7,8,9,10,11,12,13]"
   ]
  },
  {
   "cell_type": "code",
   "execution_count": 75,
   "metadata": {},
   "outputs": [
    {
     "name": "stdout",
     "output_type": "stream",
     "text": [
      "[1, 8, 64, 125, 343, 512, 1000, 1331, 2197]\n"
     ]
    }
   ],
   "source": [
    "result9 = [x**3 for x in list(filter(lambda x: x%3 != 0, lst))]\n",
    "print(result9)"
   ]
  },
  {
   "cell_type": "markdown",
   "metadata": {},
   "source": [
    "Quiz 7"
   ]
  },
  {
   "cell_type": "markdown",
   "metadata": {},
   "source": [
    "จงเขียนโปรแกรมตรวจสอบคะแนนเด็กนักเรียน ถ้าเด็กได้คะแนนมากกว่า 80 เกรด A, มากกว่า 70 เกรด B, มากกว่า 60 เกรด C, มากกว่า 50 เกรด D, และต่ำกว่า 50 เกรด F"
   ]
  },
  {
   "cell_type": "code",
   "execution_count": 79,
   "metadata": {},
   "outputs": [],
   "source": [
    "score = 75"
   ]
  },
  {
   "cell_type": "code",
   "execution_count": 82,
   "metadata": {},
   "outputs": [
    {
     "name": "stdout",
     "output_type": "stream",
     "text": [
      "Grade : B\n"
     ]
    }
   ],
   "source": [
    "if score > 80:\n",
    "    print('Grade : A')\n",
    "elif score > 70:\n",
    "    print('Grade : B')\n",
    "elif score > 60:\n",
    "    print('Grade : C')\n",
    "elif score > 50:\n",
    "    print('Grade : D')\n",
    "else:\n",
    "    print('Grade : F')"
   ]
  },
  {
   "cell_type": "markdown",
   "metadata": {},
   "source": [
    "Quiz 8"
   ]
  },
  {
   "cell_type": "markdown",
   "metadata": {},
   "source": [
    "กำหนดให้ A=[1,2,3,4,5] และ B=[2,3,1,3,2] จงเขียน map แบบ multiple-list operations โดยให้ B ยกกำลังด้วย A พร้อมกับแสดงผล"
   ]
  },
  {
   "cell_type": "code",
   "execution_count": 83,
   "metadata": {},
   "outputs": [],
   "source": [
    "A=[1,2,3,4,5]\n",
    "B=[2,3,1,3,2]"
   ]
  },
  {
   "cell_type": "code",
   "execution_count": 84,
   "metadata": {},
   "outputs": [
    {
     "name": "stdout",
     "output_type": "stream",
     "text": [
      "[2, 9, 1, 81, 32]\n"
     ]
    }
   ],
   "source": [
    "result10 = map(lambda a, b : b ** a , A, B)\n",
    "print(list(result10))"
   ]
  },
  {
   "cell_type": "markdown",
   "metadata": {},
   "source": [
    "จงเขียนชื่อนักเรียน เลขที่ และคำแนนสอบไฟนอล พร้อมกับใช้คำสั่ง zip() ในการจับคู่พร้อมกับแสดงผลลัพธ์ที่ถูกต้อง"
   ]
  },
  {
   "cell_type": "code",
   "execution_count": 85,
   "metadata": {},
   "outputs": [
    {
     "name": "stdout",
     "output_type": "stream",
     "text": [
      "[('Alex', '200201', 78), ('Bob', '200202', 87), ('David', '200203', 89)]\n"
     ]
    }
   ],
   "source": [
    "student = ['Alex', 'Bob', 'David']\n",
    "studentId = ['200201','200202','200203']\n",
    "finalScore = [78, 87, 89]\n",
    "result11 = list(zip(student, studentId, finalScore))\n",
    "print(result11)"
   ]
  },
  {
   "cell_type": "markdown",
   "metadata": {},
   "source": [
    "Quiz 9"
   ]
  },
  {
   "cell_type": "markdown",
   "metadata": {},
   "source": [
    "กำหนดให้ lst = [5,2,1,3,2] จงเขียนฟังก์ชัน reduce เพื่อหาผลลัพธ์สุดท้ายของการดำเนินการแบบเลขยกกำลัง"
   ]
  },
  {
   "cell_type": "code",
   "execution_count": 86,
   "metadata": {},
   "outputs": [],
   "source": [
    "lst = [5,2,1,3,2]"
   ]
  },
  {
   "cell_type": "code",
   "execution_count": 90,
   "metadata": {},
   "outputs": [
    {
     "name": "stdout",
     "output_type": "stream",
     "text": [
      "244140625\n"
     ]
    }
   ],
   "source": [
    "from functools import reduce\n",
    "result12 = reduce(lambda x,y : x**y, lst)\n",
    "print(result12)"
   ]
  },
  {
   "cell_type": "markdown",
   "metadata": {},
   "source": [
    "กำหนดให้ lst = [1,2,3,4,5,6,7,8,9,10] จงเขียนฟังก์ชัน reduce เพื่อหาผลลัพธ์สุดท้ายของการดำเนินการแบบการคูณ"
   ]
  },
  {
   "cell_type": "code",
   "execution_count": 91,
   "metadata": {},
   "outputs": [],
   "source": [
    "lst = [1,2,3,4,5,6,7,8,9,10]"
   ]
  },
  {
   "cell_type": "code",
   "execution_count": 92,
   "metadata": {},
   "outputs": [
    {
     "name": "stdout",
     "output_type": "stream",
     "text": [
      "3628800\n"
     ]
    }
   ],
   "source": [
    "result13 = reduce(lambda x,y : x*y, lst)\n",
    "print(result13)"
   ]
  }
 ],
 "metadata": {
  "kernelspec": {
   "display_name": "Python 3",
   "language": "python",
   "name": "python3"
  },
  "language_info": {
   "codemirror_mode": {
    "name": "ipython",
    "version": 3
   },
   "file_extension": ".py",
   "mimetype": "text/x-python",
   "name": "python",
   "nbconvert_exporter": "python",
   "pygments_lexer": "ipython3",
   "version": "3.7.4"
  }
 },
 "nbformat": 4,
 "nbformat_minor": 2
}
