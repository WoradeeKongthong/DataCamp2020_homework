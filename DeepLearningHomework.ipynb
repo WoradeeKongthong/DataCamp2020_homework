{
  "nbformat": 4,
  "nbformat_minor": 0,
  "metadata": {
    "colab": {
      "name": "DeepLearningHomework.ipynb",
      "provenance": [],
      "collapsed_sections": [],
      "authorship_tag": "ABX9TyOObpXm01aglG44cA/PwEwV",
      "include_colab_link": true
    },
    "kernelspec": {
      "name": "python3",
      "display_name": "Python 3"
    }
  },
  "cells": [
    {
      "cell_type": "markdown",
      "metadata": {
        "id": "view-in-github",
        "colab_type": "text"
      },
      "source": [
        "<a href=\"https://colab.research.google.com/github/WoradeeKongthong/DataCamp2020_homework/blob/master/DeepLearningHomework.ipynb\" target=\"_parent\"><img src=\"https://colab.research.google.com/assets/colab-badge.svg\" alt=\"Open In Colab\"/></a>"
      ]
    },
    {
      "cell_type": "markdown",
      "metadata": {
        "id": "AsW2FWgeMIkw"
      },
      "source": [
        "# Homework 1 : predict คนไข้ว่าเป็นเบาหวานหรือไม่  \n",
        "data type : structured data  \n",
        "model : ANN\n",
        " "
      ]
    },
    {
      "cell_type": "code",
      "metadata": {
        "id": "LjJjf46iMmTp"
      },
      "source": [
        "import numpy as np\n",
        "import pandas as pd\n",
        "import keras\n",
        "import matplotlib.pyplot as plt"
      ],
      "execution_count": 69,
      "outputs": []
    },
    {
      "cell_type": "markdown",
      "metadata": {
        "id": "hPAnXWGiMdkH"
      },
      "source": [
        "## Load dataset ของ Pima Indians"
      ]
    },
    {
      "cell_type": "code",
      "metadata": {
        "id": "oh_p6SOyL5Ro",
        "outputId": "2ff07a7c-8b60-4588-e03c-13be715f4153",
        "colab": {
          "base_uri": "https://localhost:8080/",
          "height": 419
        }
      },
      "source": [
        "df = pd.read_csv('https://raw.githubusercontent.com/jbrownlee/Datasets/master/pima-indians-diabetes.data.csv', \n",
        "                 header=None, \n",
        "                 names=['num_of_pregnant','plasma_glucose_conc','blood_pressure','triceps_skin_food_thickness','2hrs_insulin','bmi','diab_pedigree_fn','age','diabetes'])\n",
        "df"
      ],
      "execution_count": 178,
      "outputs": [
        {
          "output_type": "execute_result",
          "data": {
            "text/html": [
              "<div>\n",
              "<style scoped>\n",
              "    .dataframe tbody tr th:only-of-type {\n",
              "        vertical-align: middle;\n",
              "    }\n",
              "\n",
              "    .dataframe tbody tr th {\n",
              "        vertical-align: top;\n",
              "    }\n",
              "\n",
              "    .dataframe thead th {\n",
              "        text-align: right;\n",
              "    }\n",
              "</style>\n",
              "<table border=\"1\" class=\"dataframe\">\n",
              "  <thead>\n",
              "    <tr style=\"text-align: right;\">\n",
              "      <th></th>\n",
              "      <th>num_of_pregnant</th>\n",
              "      <th>plasma_glucose_conc</th>\n",
              "      <th>blood_pressure</th>\n",
              "      <th>triceps_skin_food_thickness</th>\n",
              "      <th>2hrs_insulin</th>\n",
              "      <th>bmi</th>\n",
              "      <th>diab_pedigree_fn</th>\n",
              "      <th>age</th>\n",
              "      <th>diabetes</th>\n",
              "    </tr>\n",
              "  </thead>\n",
              "  <tbody>\n",
              "    <tr>\n",
              "      <th>0</th>\n",
              "      <td>6</td>\n",
              "      <td>148</td>\n",
              "      <td>72</td>\n",
              "      <td>35</td>\n",
              "      <td>0</td>\n",
              "      <td>33.6</td>\n",
              "      <td>0.627</td>\n",
              "      <td>50</td>\n",
              "      <td>1</td>\n",
              "    </tr>\n",
              "    <tr>\n",
              "      <th>1</th>\n",
              "      <td>1</td>\n",
              "      <td>85</td>\n",
              "      <td>66</td>\n",
              "      <td>29</td>\n",
              "      <td>0</td>\n",
              "      <td>26.6</td>\n",
              "      <td>0.351</td>\n",
              "      <td>31</td>\n",
              "      <td>0</td>\n",
              "    </tr>\n",
              "    <tr>\n",
              "      <th>2</th>\n",
              "      <td>8</td>\n",
              "      <td>183</td>\n",
              "      <td>64</td>\n",
              "      <td>0</td>\n",
              "      <td>0</td>\n",
              "      <td>23.3</td>\n",
              "      <td>0.672</td>\n",
              "      <td>32</td>\n",
              "      <td>1</td>\n",
              "    </tr>\n",
              "    <tr>\n",
              "      <th>3</th>\n",
              "      <td>1</td>\n",
              "      <td>89</td>\n",
              "      <td>66</td>\n",
              "      <td>23</td>\n",
              "      <td>94</td>\n",
              "      <td>28.1</td>\n",
              "      <td>0.167</td>\n",
              "      <td>21</td>\n",
              "      <td>0</td>\n",
              "    </tr>\n",
              "    <tr>\n",
              "      <th>4</th>\n",
              "      <td>0</td>\n",
              "      <td>137</td>\n",
              "      <td>40</td>\n",
              "      <td>35</td>\n",
              "      <td>168</td>\n",
              "      <td>43.1</td>\n",
              "      <td>2.288</td>\n",
              "      <td>33</td>\n",
              "      <td>1</td>\n",
              "    </tr>\n",
              "    <tr>\n",
              "      <th>...</th>\n",
              "      <td>...</td>\n",
              "      <td>...</td>\n",
              "      <td>...</td>\n",
              "      <td>...</td>\n",
              "      <td>...</td>\n",
              "      <td>...</td>\n",
              "      <td>...</td>\n",
              "      <td>...</td>\n",
              "      <td>...</td>\n",
              "    </tr>\n",
              "    <tr>\n",
              "      <th>763</th>\n",
              "      <td>10</td>\n",
              "      <td>101</td>\n",
              "      <td>76</td>\n",
              "      <td>48</td>\n",
              "      <td>180</td>\n",
              "      <td>32.9</td>\n",
              "      <td>0.171</td>\n",
              "      <td>63</td>\n",
              "      <td>0</td>\n",
              "    </tr>\n",
              "    <tr>\n",
              "      <th>764</th>\n",
              "      <td>2</td>\n",
              "      <td>122</td>\n",
              "      <td>70</td>\n",
              "      <td>27</td>\n",
              "      <td>0</td>\n",
              "      <td>36.8</td>\n",
              "      <td>0.340</td>\n",
              "      <td>27</td>\n",
              "      <td>0</td>\n",
              "    </tr>\n",
              "    <tr>\n",
              "      <th>765</th>\n",
              "      <td>5</td>\n",
              "      <td>121</td>\n",
              "      <td>72</td>\n",
              "      <td>23</td>\n",
              "      <td>112</td>\n",
              "      <td>26.2</td>\n",
              "      <td>0.245</td>\n",
              "      <td>30</td>\n",
              "      <td>0</td>\n",
              "    </tr>\n",
              "    <tr>\n",
              "      <th>766</th>\n",
              "      <td>1</td>\n",
              "      <td>126</td>\n",
              "      <td>60</td>\n",
              "      <td>0</td>\n",
              "      <td>0</td>\n",
              "      <td>30.1</td>\n",
              "      <td>0.349</td>\n",
              "      <td>47</td>\n",
              "      <td>1</td>\n",
              "    </tr>\n",
              "    <tr>\n",
              "      <th>767</th>\n",
              "      <td>1</td>\n",
              "      <td>93</td>\n",
              "      <td>70</td>\n",
              "      <td>31</td>\n",
              "      <td>0</td>\n",
              "      <td>30.4</td>\n",
              "      <td>0.315</td>\n",
              "      <td>23</td>\n",
              "      <td>0</td>\n",
              "    </tr>\n",
              "  </tbody>\n",
              "</table>\n",
              "<p>768 rows × 9 columns</p>\n",
              "</div>"
            ],
            "text/plain": [
              "     num_of_pregnant  plasma_glucose_conc  ...  age  diabetes\n",
              "0                  6                  148  ...   50         1\n",
              "1                  1                   85  ...   31         0\n",
              "2                  8                  183  ...   32         1\n",
              "3                  1                   89  ...   21         0\n",
              "4                  0                  137  ...   33         1\n",
              "..               ...                  ...  ...  ...       ...\n",
              "763               10                  101  ...   63         0\n",
              "764                2                  122  ...   27         0\n",
              "765                5                  121  ...   30         0\n",
              "766                1                  126  ...   47         1\n",
              "767                1                   93  ...   23         0\n",
              "\n",
              "[768 rows x 9 columns]"
            ]
          },
          "metadata": {
            "tags": []
          },
          "execution_count": 178
        }
      ]
    },
    {
      "cell_type": "markdown",
      "metadata": {
        "id": "UuBOAZZlSrtN"
      },
      "source": [
        "## Explore the dataset"
      ]
    },
    {
      "cell_type": "code",
      "metadata": {
        "id": "3RLE8D5k5HOS",
        "outputId": "ab600673-f2a6-4efe-cf10-4df93b1cd8fe",
        "colab": {
          "base_uri": "https://localhost:8080/",
          "height": 289
        }
      },
      "source": [
        "df.info()"
      ],
      "execution_count": 179,
      "outputs": [
        {
          "output_type": "stream",
          "text": [
            "<class 'pandas.core.frame.DataFrame'>\n",
            "RangeIndex: 768 entries, 0 to 767\n",
            "Data columns (total 9 columns):\n",
            " #   Column                       Non-Null Count  Dtype  \n",
            "---  ------                       --------------  -----  \n",
            " 0   num_of_pregnant              768 non-null    int64  \n",
            " 1   plasma_glucose_conc          768 non-null    int64  \n",
            " 2   blood_pressure               768 non-null    int64  \n",
            " 3   triceps_skin_food_thickness  768 non-null    int64  \n",
            " 4   2hrs_insulin                 768 non-null    int64  \n",
            " 5   bmi                          768 non-null    float64\n",
            " 6   diab_pedigree_fn             768 non-null    float64\n",
            " 7   age                          768 non-null    int64  \n",
            " 8   diabetes                     768 non-null    int64  \n",
            "dtypes: float64(2), int64(7)\n",
            "memory usage: 54.1 KB\n"
          ],
          "name": "stdout"
        }
      ]
    },
    {
      "cell_type": "markdown",
      "metadata": {
        "id": "Xr1a4mlu6wYq"
      },
      "source": [
        "Note : There is no missing value"
      ]
    },
    {
      "cell_type": "code",
      "metadata": {
        "id": "09ZwsAQr49k0",
        "outputId": "e78e233b-f6be-409a-b8a3-131358fb17aa",
        "colab": {
          "base_uri": "https://localhost:8080/",
          "height": 317
        }
      },
      "source": [
        "df.describe()"
      ],
      "execution_count": 180,
      "outputs": [
        {
          "output_type": "execute_result",
          "data": {
            "text/html": [
              "<div>\n",
              "<style scoped>\n",
              "    .dataframe tbody tr th:only-of-type {\n",
              "        vertical-align: middle;\n",
              "    }\n",
              "\n",
              "    .dataframe tbody tr th {\n",
              "        vertical-align: top;\n",
              "    }\n",
              "\n",
              "    .dataframe thead th {\n",
              "        text-align: right;\n",
              "    }\n",
              "</style>\n",
              "<table border=\"1\" class=\"dataframe\">\n",
              "  <thead>\n",
              "    <tr style=\"text-align: right;\">\n",
              "      <th></th>\n",
              "      <th>num_of_pregnant</th>\n",
              "      <th>plasma_glucose_conc</th>\n",
              "      <th>blood_pressure</th>\n",
              "      <th>triceps_skin_food_thickness</th>\n",
              "      <th>2hrs_insulin</th>\n",
              "      <th>bmi</th>\n",
              "      <th>diab_pedigree_fn</th>\n",
              "      <th>age</th>\n",
              "      <th>diabetes</th>\n",
              "    </tr>\n",
              "  </thead>\n",
              "  <tbody>\n",
              "    <tr>\n",
              "      <th>count</th>\n",
              "      <td>768.000000</td>\n",
              "      <td>768.000000</td>\n",
              "      <td>768.000000</td>\n",
              "      <td>768.000000</td>\n",
              "      <td>768.000000</td>\n",
              "      <td>768.000000</td>\n",
              "      <td>768.000000</td>\n",
              "      <td>768.000000</td>\n",
              "      <td>768.000000</td>\n",
              "    </tr>\n",
              "    <tr>\n",
              "      <th>mean</th>\n",
              "      <td>3.845052</td>\n",
              "      <td>120.894531</td>\n",
              "      <td>69.105469</td>\n",
              "      <td>20.536458</td>\n",
              "      <td>79.799479</td>\n",
              "      <td>31.992578</td>\n",
              "      <td>0.471876</td>\n",
              "      <td>33.240885</td>\n",
              "      <td>0.348958</td>\n",
              "    </tr>\n",
              "    <tr>\n",
              "      <th>std</th>\n",
              "      <td>3.369578</td>\n",
              "      <td>31.972618</td>\n",
              "      <td>19.355807</td>\n",
              "      <td>15.952218</td>\n",
              "      <td>115.244002</td>\n",
              "      <td>7.884160</td>\n",
              "      <td>0.331329</td>\n",
              "      <td>11.760232</td>\n",
              "      <td>0.476951</td>\n",
              "    </tr>\n",
              "    <tr>\n",
              "      <th>min</th>\n",
              "      <td>0.000000</td>\n",
              "      <td>0.000000</td>\n",
              "      <td>0.000000</td>\n",
              "      <td>0.000000</td>\n",
              "      <td>0.000000</td>\n",
              "      <td>0.000000</td>\n",
              "      <td>0.078000</td>\n",
              "      <td>21.000000</td>\n",
              "      <td>0.000000</td>\n",
              "    </tr>\n",
              "    <tr>\n",
              "      <th>25%</th>\n",
              "      <td>1.000000</td>\n",
              "      <td>99.000000</td>\n",
              "      <td>62.000000</td>\n",
              "      <td>0.000000</td>\n",
              "      <td>0.000000</td>\n",
              "      <td>27.300000</td>\n",
              "      <td>0.243750</td>\n",
              "      <td>24.000000</td>\n",
              "      <td>0.000000</td>\n",
              "    </tr>\n",
              "    <tr>\n",
              "      <th>50%</th>\n",
              "      <td>3.000000</td>\n",
              "      <td>117.000000</td>\n",
              "      <td>72.000000</td>\n",
              "      <td>23.000000</td>\n",
              "      <td>30.500000</td>\n",
              "      <td>32.000000</td>\n",
              "      <td>0.372500</td>\n",
              "      <td>29.000000</td>\n",
              "      <td>0.000000</td>\n",
              "    </tr>\n",
              "    <tr>\n",
              "      <th>75%</th>\n",
              "      <td>6.000000</td>\n",
              "      <td>140.250000</td>\n",
              "      <td>80.000000</td>\n",
              "      <td>32.000000</td>\n",
              "      <td>127.250000</td>\n",
              "      <td>36.600000</td>\n",
              "      <td>0.626250</td>\n",
              "      <td>41.000000</td>\n",
              "      <td>1.000000</td>\n",
              "    </tr>\n",
              "    <tr>\n",
              "      <th>max</th>\n",
              "      <td>17.000000</td>\n",
              "      <td>199.000000</td>\n",
              "      <td>122.000000</td>\n",
              "      <td>99.000000</td>\n",
              "      <td>846.000000</td>\n",
              "      <td>67.100000</td>\n",
              "      <td>2.420000</td>\n",
              "      <td>81.000000</td>\n",
              "      <td>1.000000</td>\n",
              "    </tr>\n",
              "  </tbody>\n",
              "</table>\n",
              "</div>"
            ],
            "text/plain": [
              "       num_of_pregnant  plasma_glucose_conc  ...         age    diabetes\n",
              "count       768.000000           768.000000  ...  768.000000  768.000000\n",
              "mean          3.845052           120.894531  ...   33.240885    0.348958\n",
              "std           3.369578            31.972618  ...   11.760232    0.476951\n",
              "min           0.000000             0.000000  ...   21.000000    0.000000\n",
              "25%           1.000000            99.000000  ...   24.000000    0.000000\n",
              "50%           3.000000           117.000000  ...   29.000000    0.000000\n",
              "75%           6.000000           140.250000  ...   41.000000    1.000000\n",
              "max          17.000000           199.000000  ...   81.000000    1.000000\n",
              "\n",
              "[8 rows x 9 columns]"
            ]
          },
          "metadata": {
            "tags": []
          },
          "execution_count": 180
        }
      ]
    },
    {
      "cell_type": "code",
      "metadata": {
        "id": "7938GAMZSt7X",
        "outputId": "0724250c-d4c9-4922-dfa6-4e10b4cdf000",
        "colab": {
          "base_uri": "https://localhost:8080/",
          "height": 68
        }
      },
      "source": [
        "# explore the label \n",
        "df['diabetes'].value_counts()"
      ],
      "execution_count": 181,
      "outputs": [
        {
          "output_type": "execute_result",
          "data": {
            "text/plain": [
              "0    500\n",
              "1    268\n",
              "Name: diabetes, dtype: int64"
            ]
          },
          "metadata": {
            "tags": []
          },
          "execution_count": 181
        }
      ]
    },
    {
      "cell_type": "markdown",
      "metadata": {
        "id": "EUK9tVmCObY4"
      },
      "source": [
        "## Create train, test dataset"
      ]
    },
    {
      "cell_type": "code",
      "metadata": {
        "id": "wJ8A_rnEOkt_"
      },
      "source": [
        "from sklearn.model_selection import train_test_split"
      ],
      "execution_count": 79,
      "outputs": []
    },
    {
      "cell_type": "code",
      "metadata": {
        "id": "c7IKNxKROx-5"
      },
      "source": [
        "# choose X and y\n",
        "X = df.drop(['diabetes'], axis=1).copy()\n",
        "y = df['diabetes'].copy()"
      ],
      "execution_count": 182,
      "outputs": []
    },
    {
      "cell_type": "code",
      "metadata": {
        "id": "baZ7f5qlPgOo",
        "outputId": "1d290823-f1af-4fe1-a680-701e7b683100",
        "colab": {
          "base_uri": "https://localhost:8080/",
          "height": 85
        }
      },
      "source": [
        "# create train-test split\n",
        "X_train, X_test, y_train, y_test = train_test_split(X, y, test_size=0.2)\n",
        "\n",
        "print('X_train shape = ', X_train.shape)\n",
        "print('y_train shape = ', y_train.shape)\n",
        "print('X_test shape = ', X_test.shape)\n",
        "print('y_test shape = ', y_test.shape)"
      ],
      "execution_count": 183,
      "outputs": [
        {
          "output_type": "stream",
          "text": [
            "X_train shape =  (614, 8)\n",
            "y_train shape =  (614,)\n",
            "X_test shape =  (154, 8)\n",
            "y_test shape =  (154,)\n"
          ],
          "name": "stdout"
        }
      ]
    },
    {
      "cell_type": "markdown",
      "metadata": {
        "id": "hoDxnm9uQGxJ"
      },
      "source": [
        "## The model"
      ]
    },
    {
      "cell_type": "code",
      "metadata": {
        "id": "0e-DyuQ8PhZS"
      },
      "source": [
        "from keras.models import Sequential\n",
        "from keras.layers import Dense"
      ],
      "execution_count": 83,
      "outputs": []
    },
    {
      "cell_type": "code",
      "metadata": {
        "id": "rYiBd6PjQU2b"
      },
      "source": [
        "# create the model\n",
        "model = Sequential()\n",
        "model.add(Dense(units=16, activation='relu', input_shape=(X_train.shape[1],)))\n",
        "model.add(Dense(units=32, activation='relu'))\n",
        "model.add(Dense(units=16, activation='relu'))\n",
        "model.add(Dense(units=1, activation='sigmoid'))"
      ],
      "execution_count": 184,
      "outputs": []
    },
    {
      "cell_type": "code",
      "metadata": {
        "id": "nqITkDJMRMUG"
      },
      "source": [
        "# compile the model\n",
        "model.compile(optimizer='sgd', loss='binary_crossentropy', metrics=['accuracy'])"
      ],
      "execution_count": 185,
      "outputs": []
    },
    {
      "cell_type": "code",
      "metadata": {
        "id": "mZFwr1OO8NP6",
        "outputId": "c15f0d9e-9602-47ae-b382-167675dd5b87",
        "colab": {
          "base_uri": "https://localhost:8080/",
          "height": 289
        }
      },
      "source": [
        "# print model summary\n",
        "model.summary()"
      ],
      "execution_count": 186,
      "outputs": [
        {
          "output_type": "stream",
          "text": [
            "Model: \"sequential_11\"\n",
            "_________________________________________________________________\n",
            "Layer (type)                 Output Shape              Param #   \n",
            "=================================================================\n",
            "dense_23 (Dense)             (None, 16)                144       \n",
            "_________________________________________________________________\n",
            "dense_24 (Dense)             (None, 32)                544       \n",
            "_________________________________________________________________\n",
            "dense_25 (Dense)             (None, 16)                528       \n",
            "_________________________________________________________________\n",
            "dense_26 (Dense)             (None, 1)                 17        \n",
            "=================================================================\n",
            "Total params: 1,233\n",
            "Trainable params: 1,233\n",
            "Non-trainable params: 0\n",
            "_________________________________________________________________\n"
          ],
          "name": "stdout"
        }
      ]
    },
    {
      "cell_type": "code",
      "metadata": {
        "id": "KiDbCV7rRcPp"
      },
      "source": [
        "# fit the model\n",
        "history = model.fit(X_train, y_train, batch_size=32, epochs=200, validation_split=0.2, verbose=0)"
      ],
      "execution_count": 187,
      "outputs": []
    },
    {
      "cell_type": "markdown",
      "metadata": {
        "id": "HIF0Ijs5W7q9"
      },
      "source": [
        "## Plot the learning curve"
      ]
    },
    {
      "cell_type": "code",
      "metadata": {
        "id": "JXELnAd8W_D7",
        "outputId": "5bbc0d0e-a8b5-49f9-b20e-01b097ce177e",
        "colab": {
          "base_uri": "https://localhost:8080/",
          "height": 404
        }
      },
      "source": [
        "plt.figure(figsize=(20,6))\n",
        "\n",
        "plt.subplot(121)\n",
        "plt.plot(history.history['loss'])\n",
        "plt.plot(history.history['val_loss'])\n",
        "plt.title('Model loss')\n",
        "plt.ylabel('Loss')\n",
        "plt.xlabel('Epoch')\n",
        "plt.legend(['Train', 'Val'], loc='upper right')\n",
        "plt.ylim((0,2))\n",
        "\n",
        "plt.subplot(122)\n",
        "plt.plot(history.history['accuracy'])\n",
        "plt.plot(history.history['val_accuracy'])\n",
        "plt.title('Model accuracy')\n",
        "plt.ylabel('Accuracy')\n",
        "plt.xlabel('Epoch')\n",
        "plt.legend(['Train','Val'], loc='lower right')\n",
        "plt.show()"
      ],
      "execution_count": 188,
      "outputs": [
        {
          "output_type": "display_data",
          "data": {
            "image/png": "[encoded data removed]",
            "text/plain": [
              "<Figure size 1440x432 with 2 Axes>"
            ]
          },
          "metadata": {
            "tags": [],
            "needs_background": "light"
          }
        }
      ]
    },
    {
      "cell_type": "markdown",
      "metadata": {
        "id": "xwob6TEbIFlR"
      },
      "source": [
        "## Save the model"
      ]
    },
    {
      "cell_type": "code",
      "metadata": {
        "id": "DUl1US-oIIPK"
      },
      "source": [
        "model.save('diabetes_classifier.h5')"
      ],
      "execution_count": 189,
      "outputs": []
    },
    {
      "cell_type": "code",
      "metadata": {
        "id": "K_HFWMYF-z3s"
      },
      "source": [
        "from keras.models import load_model"
      ],
      "execution_count": 122,
      "outputs": []
    },
    {
      "cell_type": "markdown",
      "metadata": {
        "id": "n8LT6cuPZy5K"
      },
      "source": [
        "## Prediction on test set"
      ]
    },
    {
      "cell_type": "code",
      "metadata": {
        "id": "SLbRTcoEIhWx"
      },
      "source": [
        "model = load_model('diabetes_classifier.h5')"
      ],
      "execution_count": 190,
      "outputs": []
    },
    {
      "cell_type": "code",
      "metadata": {
        "id": "pMk-pZ8hY0Mz"
      },
      "source": [
        "y_pred = model.predict(X_test)"
      ],
      "execution_count": 193,
      "outputs": []
    },
    {
      "cell_type": "code",
      "metadata": {
        "id": "uqjwnhbfbJuW",
        "outputId": "d3d3c95b-9171-4d18-a681-2f7ee158ef76",
        "colab": {
          "base_uri": "https://localhost:8080/",
          "height": 419
        }
      },
      "source": [
        "result_df = pd.DataFrame()\n",
        "result_df['y_test'] = y_test\n",
        "result_df['y_pred'] = y_pred.round()\n",
        "result_df"
      ],
      "execution_count": 194,
      "outputs": [
        {
          "output_type": "execute_result",
          "data": {
            "text/html": [
              "<div>\n",
              "<style scoped>\n",
              "    .dataframe tbody tr th:only-of-type {\n",
              "        vertical-align: middle;\n",
              "    }\n",
              "\n",
              "    .dataframe tbody tr th {\n",
              "        vertical-align: top;\n",
              "    }\n",
              "\n",
              "    .dataframe thead th {\n",
              "        text-align: right;\n",
              "    }\n",
              "</style>\n",
              "<table border=\"1\" class=\"dataframe\">\n",
              "  <thead>\n",
              "    <tr style=\"text-align: right;\">\n",
              "      <th></th>\n",
              "      <th>y_test</th>\n",
              "      <th>y_pred</th>\n",
              "    </tr>\n",
              "  </thead>\n",
              "  <tbody>\n",
              "    <tr>\n",
              "      <th>560</th>\n",
              "      <td>1</td>\n",
              "      <td>1.0</td>\n",
              "    </tr>\n",
              "    <tr>\n",
              "      <th>689</th>\n",
              "      <td>1</td>\n",
              "      <td>1.0</td>\n",
              "    </tr>\n",
              "    <tr>\n",
              "      <th>410</th>\n",
              "      <td>0</td>\n",
              "      <td>0.0</td>\n",
              "    </tr>\n",
              "    <tr>\n",
              "      <th>536</th>\n",
              "      <td>0</td>\n",
              "      <td>0.0</td>\n",
              "    </tr>\n",
              "    <tr>\n",
              "      <th>150</th>\n",
              "      <td>0</td>\n",
              "      <td>1.0</td>\n",
              "    </tr>\n",
              "    <tr>\n",
              "      <th>...</th>\n",
              "      <td>...</td>\n",
              "      <td>...</td>\n",
              "    </tr>\n",
              "    <tr>\n",
              "      <th>215</th>\n",
              "      <td>1</td>\n",
              "      <td>1.0</td>\n",
              "    </tr>\n",
              "    <tr>\n",
              "      <th>231</th>\n",
              "      <td>1</td>\n",
              "      <td>0.0</td>\n",
              "    </tr>\n",
              "    <tr>\n",
              "      <th>452</th>\n",
              "      <td>0</td>\n",
              "      <td>0.0</td>\n",
              "    </tr>\n",
              "    <tr>\n",
              "      <th>401</th>\n",
              "      <td>0</td>\n",
              "      <td>0.0</td>\n",
              "    </tr>\n",
              "    <tr>\n",
              "      <th>470</th>\n",
              "      <td>0</td>\n",
              "      <td>1.0</td>\n",
              "    </tr>\n",
              "  </tbody>\n",
              "</table>\n",
              "<p>154 rows × 2 columns</p>\n",
              "</div>"
            ],
            "text/plain": [
              "     y_test  y_pred\n",
              "560       1     1.0\n",
              "689       1     1.0\n",
              "410       0     0.0\n",
              "536       0     0.0\n",
              "150       0     1.0\n",
              "..      ...     ...\n",
              "215       1     1.0\n",
              "231       1     0.0\n",
              "452       0     0.0\n",
              "401       0     0.0\n",
              "470       0     1.0\n",
              "\n",
              "[154 rows x 2 columns]"
            ]
          },
          "metadata": {
            "tags": []
          },
          "execution_count": 194
        }
      ]
    },
    {
      "cell_type": "markdown",
      "metadata": {
        "id": "4xorcoK3cUBy"
      },
      "source": [
        "## Model Evaluation"
      ]
    },
    {
      "cell_type": "code",
      "metadata": {
        "id": "tHOx1IzxcLMK",
        "outputId": "d40d4bf1-2fa0-4f9c-da34-6f8a4698e880",
        "colab": {
          "base_uri": "https://localhost:8080/",
          "height": 51
        }
      },
      "source": [
        "model.evaluate(X_test, y_test)"
      ],
      "execution_count": 191,
      "outputs": [
        {
          "output_type": "stream",
          "text": [
            "5/5 [==============================] - 0s 2ms/step - loss: 0.7152 - accuracy: 0.6364\n"
          ],
          "name": "stdout"
        },
        {
          "output_type": "execute_result",
          "data": {
            "text/plain": [
              "[0.715233325958252, 0.6363636255264282]"
            ]
          },
          "metadata": {
            "tags": []
          },
          "execution_count": 191
        }
      ]
    },
    {
      "cell_type": "code",
      "metadata": {
        "id": "9h59k5zTcZj4"
      },
      "source": [
        "from sklearn import metrics"
      ],
      "execution_count": 103,
      "outputs": []
    },
    {
      "cell_type": "code",
      "metadata": {
        "id": "XP4juaAqce2p",
        "outputId": "09936737-d81b-4563-9f19-7c22052ec3a5",
        "colab": {
          "base_uri": "https://localhost:8080/",
          "height": 51
        }
      },
      "source": [
        "# confusion metrix\n",
        "cm = metrics.confusion_matrix(y_test, y_pred.round())\n",
        "cm"
      ],
      "execution_count": 195,
      "outputs": [
        {
          "output_type": "execute_result",
          "data": {
            "text/plain": [
              "array([[61, 37],\n",
              "       [19, 37]])"
            ]
          },
          "metadata": {
            "tags": []
          },
          "execution_count": 195
        }
      ]
    },
    {
      "cell_type": "markdown",
      "metadata": {
        "id": "NYP6iWdyduNF"
      },
      "source": [
        "# Homework 2 : MNIST dataset  \n",
        "input type : 28x28 pixels, 1 channel  \n",
        "model : CNN"
      ]
    },
    {
      "cell_type": "markdown",
      "metadata": {
        "id": "6H_-7jmhd8WH"
      },
      "source": [
        "## Load the dataset (Train-test datasets)"
      ]
    },
    {
      "cell_type": "code",
      "metadata": {
        "id": "NFHRjdd4dw7G",
        "outputId": "1552b2c1-7d85-4bb6-a8da-b154be6f189d",
        "colab": {
          "base_uri": "https://localhost:8080/",
          "height": 85
        }
      },
      "source": [
        "from keras.datasets import mnist\n",
        "(X_train, y_train), (X_test, y_test) = mnist.load_data()\n",
        "print('X_train shape = ', X_train.shape)\n",
        "print('y_train shape = ', y_train.shape)\n",
        "print('X_test shape = ', X_test.shape)\n",
        "print('y_test shape = ', y_test.shape)"
      ],
      "execution_count": 105,
      "outputs": [
        {
          "output_type": "stream",
          "text": [
            "X_train shape =  (60000, 28, 28)\n",
            "y_train shape =  (60000,)\n",
            "X_test shape =  (10000, 28, 28)\n",
            "y_test shape =  (10000,)\n"
          ],
          "name": "stdout"
        }
      ]
    },
    {
      "cell_type": "code",
      "metadata": {
        "id": "9hsQTOGlfrTA",
        "outputId": "ec51c52d-96bb-41a4-df47-97ac1183e9cf",
        "colab": {
          "base_uri": "https://localhost:8080/",
          "height": 282
        }
      },
      "source": [
        "# data example\n",
        "randnum = np.random.randint(0, X_train.shape[0])\n",
        "plt.imshow(X_train[randnum])\n",
        "print('label = ', y_train[randnum])"
      ],
      "execution_count": 109,
      "outputs": [
        {
          "output_type": "stream",
          "text": [
            "label =  9\n"
          ],
          "name": "stdout"
        },
        {
          "output_type": "display_data",
          "data": {
            "image/png": "[encoded data removed]",
            "text/plain": [
              "<Figure size 432x288 with 1 Axes>"
            ]
          },
          "metadata": {
            "tags": [],
            "needs_background": "light"
          }
        }
      ]
    },
    {
      "cell_type": "markdown",
      "metadata": {
        "id": "mvg9DSYwfr_Q"
      },
      "source": [
        "## Data Preparation"
      ]
    },
    {
      "cell_type": "code",
      "metadata": {
        "id": "jC8d9RvXlAzG",
        "outputId": "9cd8643a-bc00-46a0-99c1-cc2de7acd6b7",
        "colab": {
          "base_uri": "https://localhost:8080/",
          "height": 85
        }
      },
      "source": [
        "# convert the data (X_train and X_test) to be 3D picture with 1 channel \n",
        "X_train = np.expand_dims(X_train, 3)\n",
        "X_test = np.expand_dims(X_test, 3)\n",
        "\n",
        "print('X_train shape = ', X_train.shape)\n",
        "print('y_train shape = ', y_train.shape)\n",
        "print('X_test shape = ', X_test.shape)\n",
        "print('y_test shape = ', y_test.shape)"
      ],
      "execution_count": 110,
      "outputs": [
        {
          "output_type": "stream",
          "text": [
            "X_train shape =  (60000, 28, 28, 1)\n",
            "y_train shape =  (60000,)\n",
            "X_test shape =  (10000, 28, 28, 1)\n",
            "y_test shape =  (10000,)\n"
          ],
          "name": "stdout"
        }
      ]
    },
    {
      "cell_type": "code",
      "metadata": {
        "id": "MV7lpWNbpqAP",
        "outputId": "eae51617-077e-44b7-d6db-83476390ebd9",
        "colab": {
          "base_uri": "https://localhost:8080/",
          "height": 85
        }
      },
      "source": [
        "# convert the label (y_train and y_test) to be categorical \n",
        "y_train = keras.utils.to_categorical(y_train, num_classes=10)\n",
        "y_test = keras.utils.to_categorical(y_test, num_classes=10)\n",
        "\n",
        "print('X_train shape = ', X_train.shape)\n",
        "print('y_train shape = ', y_train.shape)\n",
        "print('X_test shape = ', X_test.shape)\n",
        "print('y_test shape = ', y_test.shape)"
      ],
      "execution_count": 111,
      "outputs": [
        {
          "output_type": "stream",
          "text": [
            "X_train shape =  (60000, 28, 28, 1)\n",
            "y_train shape =  (60000, 10)\n",
            "X_test shape =  (10000, 28, 28, 1)\n",
            "y_test shape =  (10000, 10)\n"
          ],
          "name": "stdout"
        }
      ]
    },
    {
      "cell_type": "code",
      "metadata": {
        "id": "dipRrNuBzANc",
        "outputId": "41027d17-8104-4108-98c5-c5af09d783e9",
        "colab": {
          "base_uri": "https://localhost:8080/",
          "height": 68
        }
      },
      "source": [
        "# check X_train data type\n",
        "print(X_train.dtype)\n",
        "print(X_train.min())\n",
        "print(X_train.max())"
      ],
      "execution_count": 112,
      "outputs": [
        {
          "output_type": "stream",
          "text": [
            "uint8\n",
            "0\n",
            "255\n"
          ],
          "name": "stdout"
        }
      ]
    },
    {
      "cell_type": "code",
      "metadata": {
        "id": "MfvV_IItzgsp"
      },
      "source": [
        "# change the data type to float32 and normalize the data\n",
        "X_train = X_train.astype('float32')/255\n",
        "X_test = X_test.astype('float32')/255"
      ],
      "execution_count": 113,
      "outputs": []
    },
    {
      "cell_type": "code",
      "metadata": {
        "id": "hBSq82TK14Ad",
        "outputId": "ee70c627-e108-49e3-d464-b14619171772",
        "colab": {
          "base_uri": "https://localhost:8080/",
          "height": 68
        }
      },
      "source": [
        "# check X_train data type\n",
        "print(X_train.dtype)\n",
        "print(X_train.min())\n",
        "print(X_train.max())"
      ],
      "execution_count": 114,
      "outputs": [
        {
          "output_type": "stream",
          "text": [
            "float32\n",
            "0.0\n",
            "1.0\n"
          ],
          "name": "stdout"
        }
      ]
    },
    {
      "cell_type": "markdown",
      "metadata": {
        "id": "-Ec_Ax2pfmBA"
      },
      "source": [
        "## The model"
      ]
    },
    {
      "cell_type": "code",
      "metadata": {
        "id": "zP1_b26Afo42"
      },
      "source": [
        "from keras.layers import Conv2D, MaxPooling2D, Flatten\n",
        "from keras.optimizers import SGD"
      ],
      "execution_count": 115,
      "outputs": []
    },
    {
      "cell_type": "code",
      "metadata": {
        "id": "QfpbPXl9kOL4"
      },
      "source": [
        "# create the CNN model\n",
        "model = Sequential()\n",
        "model.add(Conv2D(32, (3,3), activation='relu', input_shape=(28,28,1)))\n",
        "model.add(MaxPooling2D((2,2)))\n",
        "model.add(Flatten())\n",
        "model.add(Dense(100, activation='relu'))\n",
        "model.add(Dense(10, activation='softmax'))"
      ],
      "execution_count": 116,
      "outputs": []
    },
    {
      "cell_type": "code",
      "metadata": {
        "id": "GBZeQVgMnZ7s"
      },
      "source": [
        "# compile model\n",
        "opt = SGD(lr=0.01, momentum=0.9)\n",
        "model.compile(optimizer=opt, loss='categorical_crossentropy', metrics=['accuracy'])"
      ],
      "execution_count": 117,
      "outputs": []
    },
    {
      "cell_type": "code",
      "metadata": {
        "id": "fmLqeb_Snywd",
        "outputId": "f0d5d584-dc02-425d-82c0-960f41280bde",
        "colab": {
          "base_uri": "https://localhost:8080/",
          "height": 323
        }
      },
      "source": [
        "# print model summary\n",
        "model.summary()"
      ],
      "execution_count": 118,
      "outputs": [
        {
          "output_type": "stream",
          "text": [
            "Model: \"sequential_10\"\n",
            "_________________________________________________________________\n",
            "Layer (type)                 Output Shape              Param #   \n",
            "=================================================================\n",
            "conv2d_12 (Conv2D)           (None, 26, 26, 32)        320       \n",
            "_________________________________________________________________\n",
            "max_pooling2d_12 (MaxPooling (None, 13, 13, 32)        0         \n",
            "_________________________________________________________________\n",
            "flatten_7 (Flatten)          (None, 5408)              0         \n",
            "_________________________________________________________________\n",
            "dense_21 (Dense)             (None, 100)               540900    \n",
            "_________________________________________________________________\n",
            "dense_22 (Dense)             (None, 10)                1010      \n",
            "=================================================================\n",
            "Total params: 542,230\n",
            "Trainable params: 542,230\n",
            "Non-trainable params: 0\n",
            "_________________________________________________________________\n"
          ],
          "name": "stdout"
        }
      ]
    },
    {
      "cell_type": "code",
      "metadata": {
        "id": "Vyojm9b4nwIr",
        "outputId": "80f73263-df2f-4b8b-8741-caa7d7331137",
        "colab": {
          "base_uri": "https://localhost:8080/",
          "height": 1000
        }
      },
      "source": [
        "# fit the model\n",
        "history = model.fit(X_train, y_train, epochs=30, batch_size=64, verbose=1, validation_split=0.2)"
      ],
      "execution_count": 119,
      "outputs": [
        {
          "output_type": "stream",
          "text": [
            "Epoch 1/30\n",
            "750/750 [==============================] - 23s 30ms/step - loss: 0.3447 - accuracy: 0.8990 - val_loss: 0.1568 - val_accuracy: 0.9545\n",
            "Epoch 2/30\n",
            "750/750 [==============================] - 23s 30ms/step - loss: 0.1432 - accuracy: 0.9573 - val_loss: 0.1090 - val_accuracy: 0.9684\n",
            "Epoch 3/30\n",
            "750/750 [==============================] - 23s 30ms/step - loss: 0.0980 - accuracy: 0.9699 - val_loss: 0.0960 - val_accuracy: 0.9714\n",
            "Epoch 4/30\n",
            "750/750 [==============================] - 23s 30ms/step - loss: 0.0754 - accuracy: 0.9766 - val_loss: 0.0821 - val_accuracy: 0.9752\n",
            "Epoch 5/30\n",
            "750/750 [==============================] - 23s 30ms/step - loss: 0.0573 - accuracy: 0.9827 - val_loss: 0.0673 - val_accuracy: 0.9808\n",
            "Epoch 6/30\n",
            "750/750 [==============================] - 23s 30ms/step - loss: 0.0459 - accuracy: 0.9862 - val_loss: 0.0630 - val_accuracy: 0.9822\n",
            "Epoch 7/30\n",
            "750/750 [==============================] - 24s 32ms/step - loss: 0.0371 - accuracy: 0.9888 - val_loss: 0.0582 - val_accuracy: 0.9825\n",
            "Epoch 8/30\n",
            "750/750 [==============================] - 24s 32ms/step - loss: 0.0308 - accuracy: 0.9902 - val_loss: 0.0612 - val_accuracy: 0.9823\n",
            "Epoch 9/30\n",
            "750/750 [==============================] - 23s 30ms/step - loss: 0.0252 - accuracy: 0.9921 - val_loss: 0.0583 - val_accuracy: 0.9834\n",
            "Epoch 10/30\n",
            "750/750 [==============================] - 23s 31ms/step - loss: 0.0217 - accuracy: 0.9931 - val_loss: 0.0634 - val_accuracy: 0.9822\n",
            "Epoch 11/30\n",
            "750/750 [==============================] - 23s 30ms/step - loss: 0.0169 - accuracy: 0.9952 - val_loss: 0.0553 - val_accuracy: 0.9848\n",
            "Epoch 12/30\n",
            "750/750 [==============================] - 23s 31ms/step - loss: 0.0147 - accuracy: 0.9958 - val_loss: 0.0586 - val_accuracy: 0.9842\n",
            "Epoch 13/30\n",
            "750/750 [==============================] - 26s 34ms/step - loss: 0.0120 - accuracy: 0.9968 - val_loss: 0.0619 - val_accuracy: 0.9832\n",
            "Epoch 14/30\n",
            "750/750 [==============================] - 23s 30ms/step - loss: 0.0106 - accuracy: 0.9970 - val_loss: 0.0600 - val_accuracy: 0.9836\n",
            "Epoch 15/30\n",
            "750/750 [==============================] - 23s 31ms/step - loss: 0.0085 - accuracy: 0.9980 - val_loss: 0.0638 - val_accuracy: 0.9829\n",
            "Epoch 16/30\n",
            "750/750 [==============================] - 23s 31ms/step - loss: 0.0065 - accuracy: 0.9988 - val_loss: 0.0635 - val_accuracy: 0.9851\n",
            "Epoch 17/30\n",
            "750/750 [==============================] - 23s 30ms/step - loss: 0.0052 - accuracy: 0.9990 - val_loss: 0.0594 - val_accuracy: 0.9855\n",
            "Epoch 18/30\n",
            "750/750 [==============================] - 23s 31ms/step - loss: 0.0046 - accuracy: 0.9991 - val_loss: 0.0596 - val_accuracy: 0.9858\n",
            "Epoch 19/30\n",
            "750/750 [==============================] - 23s 31ms/step - loss: 0.0035 - accuracy: 0.9994 - val_loss: 0.0620 - val_accuracy: 0.9856\n",
            "Epoch 20/30\n",
            "750/750 [==============================] - 23s 30ms/step - loss: 0.0028 - accuracy: 0.9996 - val_loss: 0.0646 - val_accuracy: 0.9853\n",
            "Epoch 21/30\n",
            "750/750 [==============================] - 24s 32ms/step - loss: 0.0022 - accuracy: 0.9998 - val_loss: 0.0637 - val_accuracy: 0.9854\n",
            "Epoch 22/30\n",
            "750/750 [==============================] - 24s 32ms/step - loss: 0.0017 - accuracy: 0.9999 - val_loss: 0.0647 - val_accuracy: 0.9862\n",
            "Epoch 23/30\n",
            "750/750 [==============================] - 23s 31ms/step - loss: 0.0015 - accuracy: 0.9999 - val_loss: 0.0663 - val_accuracy: 0.9847\n",
            "Epoch 24/30\n",
            "750/750 [==============================] - 23s 30ms/step - loss: 0.0013 - accuracy: 0.9999 - val_loss: 0.0649 - val_accuracy: 0.9858\n",
            "Epoch 25/30\n",
            "750/750 [==============================] - 23s 30ms/step - loss: 0.0011 - accuracy: 1.0000 - val_loss: 0.0658 - val_accuracy: 0.9858\n",
            "Epoch 26/30\n",
            "750/750 [==============================] - 24s 32ms/step - loss: 9.1500e-04 - accuracy: 0.9999 - val_loss: 0.0682 - val_accuracy: 0.9852\n",
            "Epoch 27/30\n",
            "750/750 [==============================] - 23s 31ms/step - loss: 9.2374e-04 - accuracy: 1.0000 - val_loss: 0.0687 - val_accuracy: 0.9856\n",
            "Epoch 28/30\n",
            "750/750 [==============================] - 23s 31ms/step - loss: 8.7230e-04 - accuracy: 0.9999 - val_loss: 0.0691 - val_accuracy: 0.9856\n",
            "Epoch 29/30\n",
            "750/750 [==============================] - 23s 30ms/step - loss: 7.2420e-04 - accuracy: 1.0000 - val_loss: 0.0695 - val_accuracy: 0.9858\n",
            "Epoch 30/30\n",
            "750/750 [==============================] - 23s 31ms/step - loss: 6.3672e-04 - accuracy: 1.0000 - val_loss: 0.0695 - val_accuracy: 0.9859\n"
          ],
          "name": "stdout"
        }
      ]
    },
    {
      "cell_type": "markdown",
      "metadata": {
        "id": "VGVORRjd3i8w"
      },
      "source": [
        "## Plot the learning curve"
      ]
    },
    {
      "cell_type": "code",
      "metadata": {
        "id": "EkNaRdnj3i8y",
        "outputId": "22e034e0-961c-4cf3-dd5c-b319241f51eb",
        "colab": {
          "base_uri": "https://localhost:8080/",
          "height": 404
        }
      },
      "source": [
        "plt.figure(figsize=(20,6))\n",
        "\n",
        "plt.subplot(121)\n",
        "plt.plot(history.history['loss'])\n",
        "plt.plot(history.history['val_loss'])\n",
        "plt.title('Model loss')\n",
        "plt.ylabel('Loss')\n",
        "plt.xlabel('Epoch')\n",
        "plt.legend(['Train', 'Val'], loc='upper right')\n",
        "#plt.ylim((0,2))\n",
        "\n",
        "plt.subplot(122)\n",
        "plt.plot(history.history['accuracy'])\n",
        "plt.plot(history.history['val_accuracy'])\n",
        "plt.title('Model accuracy')\n",
        "plt.ylabel('Accuracy')\n",
        "plt.xlabel('Epoch')\n",
        "plt.legend(['Train','Val'], loc='lower right')\n",
        "plt.show()"
      ],
      "execution_count": 120,
      "outputs": [
        {
          "output_type": "display_data",
          "data": {
            "image/png": "[encoded data removed]",
            "text/plain": [
              "<Figure size 1440x432 with 2 Axes>"
            ]
          },
          "metadata": {
            "tags": [],
            "needs_background": "light"
          }
        }
      ]
    },
    {
      "cell_type": "markdown",
      "metadata": {
        "id": "w75U6As0CGHx"
      },
      "source": [
        "## Save the model"
      ]
    },
    {
      "cell_type": "code",
      "metadata": {
        "id": "f0DX0H_GCIFt"
      },
      "source": [
        "model.save('mnist_classifier.h5')"
      ],
      "execution_count": 121,
      "outputs": []
    },
    {
      "cell_type": "markdown",
      "metadata": {
        "id": "hpJQ7IB9-vZz"
      },
      "source": [
        "## Model evaluation"
      ]
    },
    {
      "cell_type": "code",
      "metadata": {
        "id": "sh7Kgr9uCkK2"
      },
      "source": [
        "# load the saved model\n",
        "model = load_model('mnist_classifier.h5')"
      ],
      "execution_count": 123,
      "outputs": []
    },
    {
      "cell_type": "code",
      "metadata": {
        "id": "F53I5epgCq6_",
        "outputId": "9b393925-2e3d-4d40-e9ff-773b65a58146",
        "colab": {
          "base_uri": "https://localhost:8080/",
          "height": 1000
        }
      },
      "source": [
        "# explore the model\n",
        "model.get_weights()"
      ],
      "execution_count": 125,
      "outputs": [
        {
          "output_type": "execute_result",
          "data": {
            "text/plain": [
              "[array([[[[-0.13711753,  0.23560114, -0.0165977 ,  0.44876915,\n",
              "           -0.71041113, -0.01704282,  0.3212862 ,  0.31927076,\n",
              "            0.43422174,  0.08596599, -0.05367735, -0.13391604,\n",
              "            0.73363614,  0.33009434, -0.2721905 , -0.51836574,\n",
              "            0.35015118, -0.43162763,  0.6704617 ,  0.2926449 ,\n",
              "            0.55474025,  0.02424624, -0.05097394,  0.03785509,\n",
              "            0.14046083, -0.2756967 ,  0.35496867,  0.2909248 ,\n",
              "            0.4282401 ,  0.04052971,  0.78031856, -0.08871648]],\n",
              " \n",
              "         [[-0.17090094,  0.414901  , -0.23921506, -0.35857037,\n",
              "           -0.05158871, -0.1492244 , -0.12423915,  0.00700513,\n",
              "            0.21074075,  0.6733833 ,  0.31158763,  0.28114772,\n",
              "           -0.11313049,  0.42320073, -0.3488487 , -0.12428838,\n",
              "            0.3083562 ,  0.42102054,  1.183154  ,  0.70283794,\n",
              "            0.55445045,  0.13692865,  0.21730945,  0.0560438 ,\n",
              "            0.1230134 , -0.7742723 ,  0.48231483,  0.17164424,\n",
              "            0.55050546,  0.44776213,  1.0527761 ,  0.05871591]],\n",
              " \n",
              "         [[-0.27148828,  0.03579023, -0.20647778, -0.6123941 ,\n",
              "            0.42018288,  0.07095083, -0.5838421 , -0.23573133,\n",
              "           -0.3467007 ,  0.4918683 ,  0.08150589, -0.10743634,\n",
              "           -0.6728241 ,  0.55572736,  0.65640813,  0.5197222 ,\n",
              "           -0.15756294,  0.5625337 ,  1.2268578 , -0.2183062 ,\n",
              "           -0.18285328,  0.4884669 ,  0.43930793,  0.2905636 ,\n",
              "            0.20668602, -0.82036555, -0.20066223,  0.25508234,\n",
              "            0.16224639,  0.29213813,  1.0251331 , -0.04912885]]],\n",
              " \n",
              " \n",
              "        [[[-0.24410117,  0.03396505, -0.22755262,  0.60433245,\n",
              "           -0.1013929 , -0.09126659,  0.22234324,  0.12065396,\n",
              "            0.5578267 ,  0.7433926 ,  0.28245068, -0.04623006,\n",
              "            0.75256985,  0.4470885 , -0.5157672 , -0.5628812 ,\n",
              "            0.24534968,  0.3082763 , -0.609482  ,  0.69021004,\n",
              "            0.4201081 ,  0.35367855, -0.4865798 ,  0.4285387 ,\n",
              "            0.13153358,  0.11762672,  0.65589046,  0.13343626,\n",
              "           -0.06508112, -0.00672906, -0.36935407, -0.09867462]],\n",
              " \n",
              "         [[-0.16339834,  0.31058398, -0.06970995,  0.16855687,\n",
              "            0.76859856, -0.03637866,  0.47121266,  0.55276304,\n",
              "            0.63408154,  0.4572267 ,  0.14052248,  0.6915196 ,\n",
              "           -0.24699086,  0.37147537, -0.3565733 , -0.02025478,\n",
              "           -0.04083899,  0.52965903, -0.04987638,  0.23497741,\n",
              "            0.316976  ,  0.42735174, -0.6144817 ,  0.5278912 ,\n",
              "            0.0041007 , -0.01323963,  0.7008309 ,  0.03529548,\n",
              "            0.2854149 ,  0.13330227, -0.11931071, -0.13255619]],\n",
              " \n",
              "         [[-0.07175211,  0.19398867, -0.16957541, -0.2081902 ,\n",
              "            0.1485455 ,  0.18842201,  0.14349502,  0.2393596 ,\n",
              "            0.36970034, -0.06476352,  0.28842762,  0.5070798 ,\n",
              "           -0.54680735,  0.07123604,  0.8754426 ,  0.507672  ,\n",
              "           -0.3408735 ,  0.41867745,  0.33360457, -0.741515  ,\n",
              "           -0.04347974,  0.14537996, -0.45481458, -0.08078821,\n",
              "           -0.2028601 , -0.35279778, -0.04062222, -0.09208569,\n",
              "            0.48277673,  0.4429057 , -0.03366154, -0.10542114]]],\n",
              " \n",
              " \n",
              "        [[[-0.0317776 , -0.63205016, -0.21095127,  0.21401696,\n",
              "            0.30448598, -0.05907287,  0.15502377, -0.09815632,\n",
              "           -0.0209127 ,  0.29980886, -0.20834489,  0.04436947,\n",
              "            0.70248526, -0.7679    , -0.6587637 , -0.19399588,\n",
              "            0.10918409,  0.32481003, -1.1489918 ,  0.162496  ,\n",
              "            0.29927617,  0.22719549,  0.50661606,  0.16473956,\n",
              "            0.18390559,  0.68938005,  0.08937277,  0.02369683,\n",
              "           -0.666927  , -0.1500743 , -0.90863204, -0.06842513]],\n",
              " \n",
              "         [[ 0.3255037 , -0.274124  , -0.09824865,  0.34490627,\n",
              "            0.5694646 , -0.10353388,  0.27013117,  0.12201107,\n",
              "            0.31261277, -0.35886052, -0.43829754,  0.6659244 ,\n",
              "           -0.08582882, -0.7847308 , -0.27835488,  0.32500696,\n",
              "           -0.26231194,  0.3120671 , -1.0821366 , -0.5019403 ,\n",
              "            0.41902792, -0.38161266,  0.31232908, -0.08705117,\n",
              "            0.0278497 ,  0.83732426,  0.2973128 ,  0.16180745,\n",
              "           -0.10672931, -0.10249025, -0.8762225 ,  0.08345146]],\n",
              " \n",
              "         [[ 0.467484  ,  0.17430808,  0.4417309 ,  0.27559176,\n",
              "           -0.25153798, -0.18749076,  0.4137259 ,  0.45743564,\n",
              "            0.45104367, -0.7359889 , -0.3559932 ,  0.35250378,\n",
              "           -0.51751965, -0.61153626,  0.8426807 ,  0.4409767 ,\n",
              "           -0.2531827 , -0.03043058, -0.8942284 , -0.6063675 ,\n",
              "            0.15488084, -0.5462889 , -0.05828016,  0.06514306,\n",
              "           -0.21161422,  0.78789884, -0.10556296, -0.3043159 ,\n",
              "            0.3277402 ,  0.35886475, -0.5137007 , -0.03068707]]]],\n",
              "       dtype=float32),\n",
              " array([ 3.6005010e-03, -1.4690523e-01,  2.6785055e-01, -2.3785746e-01,\n",
              "        -1.1719910e-01,  1.7164972e-01, -1.6204467e-01, -1.3598245e-01,\n",
              "        -3.3419192e-01, -5.7989307e-02,  3.6380102e-04, -1.2423694e-01,\n",
              "         2.7015903e-07, -5.1997928e-04, -1.4431149e-04, -4.9974352e-02,\n",
              "         6.8998226e-04, -3.1236011e-01, -4.8122209e-04,  9.4749476e-04,\n",
              "        -2.5245944e-01, -4.3934070e-02,  9.8634221e-02, -6.7585953e-02,\n",
              "        -5.5519104e-02,  4.1082583e-04, -6.1034128e-02, -3.1230211e-02,\n",
              "        -3.0521211e-01, -1.8548615e-01, -1.1442213e-03, -3.4674153e-02],\n",
              "       dtype=float32),\n",
              " array([[-0.01174636,  0.01154167, -0.01591733, ..., -0.00957721,\n",
              "          0.03278262,  0.00462914],\n",
              "        [ 0.00144789,  0.00214364,  0.02031842, ...,  0.02172147,\n",
              "         -0.01273386, -0.0250415 ],\n",
              "        [-0.02838537, -0.00517431,  0.00370793, ..., -0.01587543,\n",
              "          0.01799637, -0.02337859],\n",
              "        ...,\n",
              "        [-0.00715333,  0.01501624,  0.02752365, ...,  0.02080073,\n",
              "         -0.01167744,  0.02377029],\n",
              "        [ 0.01297288, -0.01360617,  0.015577  , ..., -0.02341887,\n",
              "          0.01743929,  0.02904042],\n",
              "        [-0.001545  , -0.01392243,  0.02595249, ...,  0.01341357,\n",
              "         -0.00021902, -0.01241786]], dtype=float32),\n",
              " array([ 0.00195327,  0.0086601 , -0.02944173,  0.04246704, -0.00316275,\n",
              "        -0.00486727, -0.01279322,  0.0401905 , -0.0134599 , -0.03380462,\n",
              "        -0.03638032,  0.08356421,  0.03232029,  0.02907753,  0.00480482,\n",
              "         0.05878506,  0.01191988, -0.03274246,  0.054362  , -0.02441157,\n",
              "        -0.00201952,  0.00406092, -0.02773195, -0.00552405,  0.00972297,\n",
              "        -0.04695266,  0.0206057 ,  0.05605942,  0.10204171, -0.01083051,\n",
              "         0.014411  ,  0.0242874 ,  0.01028419,  0.0776768 , -0.0015713 ,\n",
              "        -0.00888894, -0.02635159, -0.00361018, -0.0082114 ,  0.07330921,\n",
              "         0.02055341, -0.01342688,  0.05568006, -0.01394695,  0.06296019,\n",
              "         0.04895988,  0.06705276, -0.00392875,  0.00993921, -0.04295574,\n",
              "        -0.00162349,  0.0378619 ,  0.00070649, -0.00951771,  0.01109518,\n",
              "         0.06849664,  0.03209935, -0.01780039,  0.05797968, -0.05932895,\n",
              "        -0.01499256, -0.01076563,  0.02680853,  0.01569303, -0.01701834,\n",
              "        -0.0487666 , -0.01706738, -0.00225525,  0.01831886,  0.01216573,\n",
              "         0.04622538,  0.02638192, -0.0115395 ,  0.03382459, -0.00033455,\n",
              "        -0.00925661, -0.03692118, -0.01165184,  0.00527221, -0.0610822 ,\n",
              "        -0.04097907, -0.0470366 , -0.00179249, -0.08886088, -0.00608395,\n",
              "        -0.00081064, -0.00687593,  0.01847646, -0.05848937, -0.00128248,\n",
              "        -0.00520547, -0.00312522, -0.02761229, -0.00562884,  0.04339695,\n",
              "         0.02112081,  0.01077853,  0.02638579,  0.04129678, -0.01057682],\n",
              "       dtype=float32),\n",
              " array([[-1.91401929e-01,  1.54824540e-01, -2.03326851e-01,\n",
              "         -5.16237505e-02,  2.51216769e-01,  1.94559321e-01,\n",
              "          1.56027719e-01, -2.46924520e-01,  1.75747141e-01,\n",
              "          8.88617486e-02],\n",
              "        [ 6.35174438e-02,  6.29224852e-02, -6.07608818e-02,\n",
              "          6.21464729e-01,  4.25298586e-02,  2.35832721e-01,\n",
              "         -1.85899213e-01, -3.93273234e-01, -2.06236392e-01,\n",
              "         -2.76004136e-01],\n",
              "        [-6.66541383e-02, -7.96747282e-02,  5.51256873e-02,\n",
              "         -2.11935878e-01,  1.30524278e-01, -4.24727380e-01,\n",
              "          1.17790848e-01, -9.67370570e-02,  2.46597633e-01,\n",
              "          5.27883530e-01],\n",
              "        [-3.20350230e-01, -2.11877018e-01, -2.43874699e-01,\n",
              "         -3.80864888e-01, -6.18990004e-01,  3.62052709e-01,\n",
              "         -4.86623794e-02,  5.15665650e-01, -1.21425293e-01,\n",
              "          3.10689121e-01],\n",
              "        [-1.43217653e-01,  1.23876572e-01,  1.34838283e-01,\n",
              "          1.84929445e-01,  3.96159142e-02,  7.77455047e-03,\n",
              "          1.77109569e-01, -1.88228920e-01,  1.93561599e-01,\n",
              "          8.44406188e-02],\n",
              "        [-1.50260348e-02, -2.26660788e-01,  4.12034104e-03,\n",
              "         -1.20322987e-01,  2.86664460e-02,  2.18410984e-01,\n",
              "         -2.15049773e-01,  1.62955955e-01,  1.83837824e-02,\n",
              "         -9.19806287e-02],\n",
              "        [-4.29755002e-01, -2.12187424e-01, -3.04832280e-01,\n",
              "          1.61287323e-01,  2.74422765e-01,  4.19497341e-01,\n",
              "         -1.72497392e-01, -2.45817184e-01,  7.22174495e-02,\n",
              "         -9.94876400e-02],\n",
              "        [-4.44464684e-01, -1.18705489e-01,  1.63559720e-01,\n",
              "         -2.65618004e-02,  8.71660188e-02,  5.97871184e-01,\n",
              "         -5.05503893e-01, -2.29112044e-01, -2.01748669e-01,\n",
              "          4.29096013e-01],\n",
              "        [-3.17030519e-01, -2.12837569e-02, -3.36146265e-01,\n",
              "          2.30207592e-01,  4.31975335e-01,  2.72799969e-01,\n",
              "         -3.07771385e-01, -3.57371420e-01, -2.44622126e-01,\n",
              "          4.60320354e-01],\n",
              "        [-2.79597610e-01, -1.63802385e-01, -3.05847496e-01,\n",
              "          7.28833005e-02,  7.56578147e-02,  7.32535571e-02,\n",
              "         -2.46339783e-01,  6.06657704e-03,  2.41036668e-01,\n",
              "          1.86079949e-01],\n",
              "        [ 5.08524105e-02, -2.35264793e-01,  2.20012009e-01,\n",
              "          3.47728580e-01, -3.92002493e-01, -4.92986478e-02,\n",
              "          5.16655296e-02, -3.66829485e-02, -8.23754296e-02,\n",
              "          6.37545437e-02],\n",
              "        [-5.12864292e-01,  4.16002989e-01, -7.18645528e-02,\n",
              "         -2.50697613e-01,  2.00728983e-01,  2.63055205e-01,\n",
              "         -6.44957125e-02,  2.76481569e-01,  9.17711854e-02,\n",
              "         -3.44754755e-01],\n",
              "        [ 3.92492324e-01,  4.81366552e-02,  1.98602930e-01,\n",
              "          2.05357924e-01, -4.30282801e-01,  4.35653329e-01,\n",
              "         -3.43282968e-01, -1.03016887e-02, -4.72988397e-01,\n",
              "          6.38344511e-02],\n",
              "        [ 2.76322544e-01,  4.56307888e-01, -5.33220589e-01,\n",
              "          2.59217113e-01,  3.83149266e-01, -1.89458951e-01,\n",
              "         -1.43071353e-01, -3.13053541e-02, -2.27923896e-02,\n",
              "          1.72169745e-01],\n",
              "        [ 4.67206329e-01, -3.55656415e-01, -3.45840007e-01,\n",
              "          4.96232510e-02,  2.20695794e-01, -2.22528294e-01,\n",
              "          1.44769505e-01,  9.45658386e-02, -1.16392262e-01,\n",
              "         -3.38600576e-01],\n",
              "        [-4.30459753e-02,  9.84871611e-02, -8.59554589e-01,\n",
              "          1.09741494e-01,  4.48389262e-01,  2.88060158e-01,\n",
              "         -1.88890710e-01,  1.58517897e-01, -4.48121876e-02,\n",
              "          4.45730299e-01],\n",
              "        [-3.00728112e-01, -1.66061550e-01,  3.75359565e-01,\n",
              "          1.36757120e-01,  2.03726605e-01,  3.65932375e-01,\n",
              "         -3.08928818e-01,  6.87106326e-02, -6.21941447e-01,\n",
              "          3.79778713e-01],\n",
              "        [ 1.50757983e-01, -3.14738005e-01,  1.29067749e-01,\n",
              "          3.46634656e-01, -1.85110256e-01,  2.94346094e-01,\n",
              "          5.64014260e-03, -2.65502423e-01,  9.46192667e-02,\n",
              "         -1.08409487e-01],\n",
              "        [-9.01981667e-02,  3.00909191e-01,  3.85458171e-02,\n",
              "         -3.38777490e-02, -6.83017820e-02,  5.56808636e-02,\n",
              "          7.22206756e-02,  6.36793733e-01, -1.08301006e-01,\n",
              "         -7.41382897e-01],\n",
              "        [-4.26817685e-02,  3.43745649e-02,  1.05630510e-01,\n",
              "          2.06535071e-01,  1.64623812e-01, -7.08801270e-01,\n",
              "         -4.71146315e-01,  3.22923034e-01, -8.20428059e-02,\n",
              "          2.00440437e-01],\n",
              "        [-5.47564179e-02, -1.73959881e-01, -1.83779791e-01,\n",
              "         -2.15053305e-01,  1.73059434e-01,  1.37720406e-01,\n",
              "          2.20357766e-03,  1.43049106e-01,  8.57047215e-02,\n",
              "         -6.13500886e-02],\n",
              "        [ 2.46025205e-01, -1.45343259e-01,  2.73566157e-01,\n",
              "          9.19963196e-02, -2.31177807e-02,  2.05766633e-01,\n",
              "         -2.16372296e-01, -1.63297027e-01,  3.79568115e-02,\n",
              "         -1.16421171e-01],\n",
              "        [ 8.21875930e-02, -6.41674846e-02,  1.22405872e-01,\n",
              "         -6.51482344e-01,  3.02656144e-01, -7.80988187e-02,\n",
              "          2.06300050e-01, -5.08529544e-02,  3.90440702e-01,\n",
              "         -4.95271504e-01],\n",
              "        [-1.29378159e-02, -1.49297282e-01, -7.25391954e-02,\n",
              "          2.08658338e-01, -1.70682654e-01, -2.32756853e-01,\n",
              "          2.07759097e-01, -2.10931540e-01,  8.13425705e-03,\n",
              "          4.59832326e-02],\n",
              "        [-3.22625130e-01, -8.11446342e-04, -2.45525390e-01,\n",
              "          1.15444593e-03,  7.22394437e-02, -9.44044963e-02,\n",
              "         -2.78089702e-01,  4.70949918e-01, -1.27701998e-01,\n",
              "         -8.91223103e-02],\n",
              "        [ 3.91659081e-01, -2.84137696e-01,  2.63852507e-01,\n",
              "          5.75822368e-02,  2.77325124e-01, -1.75733089e-01,\n",
              "          3.88874918e-01, -4.88650471e-01,  1.91761076e-01,\n",
              "         -1.05608277e-01],\n",
              "        [ 4.38810848e-02,  2.67513901e-01,  1.47045270e-01,\n",
              "         -1.09348431e-01, -1.72765926e-01,  2.09997505e-01,\n",
              "          1.10536873e-01, -3.26434910e-01,  3.33255291e-01,\n",
              "         -2.17938632e-01],\n",
              "        [-3.50162566e-01,  2.10596219e-01,  3.36069226e-01,\n",
              "         -1.26805857e-01, -5.67553997e-01,  2.56552041e-01,\n",
              "          5.08710802e-01, -2.51052737e-01,  2.74350286e-01,\n",
              "         -4.32951093e-01],\n",
              "        [ 6.27474561e-02, -3.26466896e-02, -2.69474775e-01,\n",
              "         -1.00337103e-01,  1.09731592e-01,  3.26701254e-01,\n",
              "          9.40394476e-02,  7.98553646e-01, -3.15895677e-01,\n",
              "         -5.98552763e-01],\n",
              "        [ 1.41416520e-01, -1.07163481e-01, -1.94244146e-01,\n",
              "          4.52523112e-01, -3.40281636e-01,  1.55497864e-01,\n",
              "         -3.64742041e-01, -8.99879821e-03, -2.43464589e-01,\n",
              "          4.79783446e-01],\n",
              "        [-5.74492849e-02, -3.02160829e-01, -1.02932557e-01,\n",
              "         -2.46341214e-01,  1.20053910e-01,  3.54701690e-02,\n",
              "          4.65941787e-01, -3.33528548e-01,  7.56194815e-02,\n",
              "         -2.74253964e-01],\n",
              "        [ 3.52928072e-01, -2.41739988e-01, -1.36634111e-01,\n",
              "          2.73174465e-01, -2.82971531e-01,  2.54652619e-01,\n",
              "         -1.47535443e-01,  1.13025568e-01, -2.19773307e-01,\n",
              "         -2.87530106e-02],\n",
              "        [ 2.22482011e-01, -2.41868511e-01,  4.35496941e-02,\n",
              "          2.80099679e-02,  3.57427716e-01,  2.63228804e-01,\n",
              "         -2.10453123e-01,  1.33121952e-01,  4.44715887e-01,\n",
              "         -5.41178510e-03],\n",
              "        [-3.98905799e-02,  7.32068002e-01, -4.94450122e-01,\n",
              "         -3.81901801e-01,  2.85757661e-01,  7.97508005e-03,\n",
              "         -9.29268673e-02,  4.71976131e-01, -5.60277343e-01,\n",
              "          4.16827083e-01],\n",
              "        [ 2.92739093e-01, -8.95086210e-03, -3.11195284e-01,\n",
              "          2.60804653e-01, -4.56591845e-02,  1.01021275e-01,\n",
              "         -2.04740718e-01, -4.06098478e-02, -2.99453530e-02,\n",
              "         -3.90739031e-02],\n",
              "        [ 1.69074759e-01, -7.12520406e-02, -9.81306955e-02,\n",
              "         -4.78751481e-01,  4.88766283e-02,  5.43795973e-02,\n",
              "          1.86863631e-01, -2.10457027e-01,  2.07508534e-01,\n",
              "          1.12450063e-01],\n",
              "        [ 2.20823035e-01, -3.25834066e-01,  2.04090595e-01,\n",
              "         -1.58410251e-01,  2.13685483e-01,  3.89298685e-02,\n",
              "         -5.68189263e-01,  1.79808930e-01,  5.70474803e-01,\n",
              "          3.52411926e-01],\n",
              "        [-3.39875519e-02, -2.15016797e-01, -2.18209937e-01,\n",
              "          1.16127521e-01, -2.07640618e-01, -1.40898019e-01,\n",
              "          1.63596869e-01,  2.18084082e-01,  5.74927479e-02,\n",
              "          7.29580745e-02],\n",
              "        [ 1.30078807e-01, -9.20082852e-02, -1.78383753e-01,\n",
              "         -2.06820741e-01, -9.26485658e-02, -2.93595511e-02,\n",
              "          3.08469147e-03, -1.23429611e-01, -1.57949969e-01,\n",
              "         -1.85883269e-01],\n",
              "        [ 3.73956740e-01,  2.01327696e-01,  3.63432258e-01,\n",
              "         -2.45773941e-01, -9.88255218e-02,  3.67551327e-01,\n",
              "          1.86357439e-01, -1.40294135e-01, -2.77854383e-01,\n",
              "         -3.87500286e-01],\n",
              "        [-5.96096031e-02,  5.75327454e-03,  2.94644892e-01,\n",
              "         -1.36092320e-01,  3.08172792e-01, -1.20610043e-01,\n",
              "         -6.41286224e-02,  5.76485455e-01, -4.35993880e-01,\n",
              "         -4.31512922e-01],\n",
              "        [-1.29520938e-01,  2.61331163e-02, -2.94537783e-01,\n",
              "          2.87635148e-01,  6.03195839e-02, -4.79204834e-01,\n",
              "         -1.54780746e-01,  3.76256078e-01,  1.51417330e-01,\n",
              "          8.61393586e-02],\n",
              "        [ 3.07333827e-01,  2.01110765e-01,  4.58105475e-01,\n",
              "         -2.88538724e-01,  2.83924192e-01, -1.94138110e-01,\n",
              "          2.18656406e-01, -1.47002459e-01, -7.93616354e-01,\n",
              "          2.00679004e-01],\n",
              "        [-1.55976757e-01,  2.69875765e-01,  4.05366659e-01,\n",
              "         -1.88190248e-02, -1.21306531e-01, -3.44192982e-01,\n",
              "          1.67032912e-01, -4.57135081e-01,  3.98875952e-01,\n",
              "          2.10305110e-01],\n",
              "        [-1.08111478e-01,  4.37350422e-01,  3.48142296e-01,\n",
              "          1.83598831e-01,  4.66305651e-02, -9.31707025e-01,\n",
              "         -2.75602967e-01,  5.44884019e-02, -1.65330008e-01,\n",
              "         -2.57122759e-02],\n",
              "        [ 1.44108981e-01,  4.07872051e-01, -4.14342463e-01,\n",
              "          1.00385763e-01, -5.98914564e-01,  6.12022638e-01,\n",
              "          3.33231628e-01, -4.29345034e-02, -1.85007825e-02,\n",
              "         -1.82094395e-01],\n",
              "        [-5.52301228e-01,  1.38753459e-01, -2.78312325e-01,\n",
              "          1.70260608e-01, -1.38418302e-01,  3.70132983e-01,\n",
              "         -4.69750650e-02,  8.18149298e-02,  2.68048227e-01,\n",
              "         -2.10635707e-01],\n",
              "        [ 4.62644286e-02, -2.86520347e-02,  1.41683027e-01,\n",
              "          3.93147618e-01,  1.20768853e-01, -2.62061954e-01,\n",
              "         -2.51899082e-02,  3.12885456e-02, -2.42506221e-01,\n",
              "          9.18498859e-02],\n",
              "        [ 3.08291644e-01,  6.17425237e-03, -3.32305878e-02,\n",
              "         -1.74358159e-01,  1.63825769e-02,  3.62383634e-01,\n",
              "          4.92720842e-01, -1.51104450e-01, -8.33922718e-03,\n",
              "          3.69326472e-01],\n",
              "        [-3.25517058e-01, -2.34541878e-01,  6.11057699e-01,\n",
              "          3.25715512e-01, -2.71031111e-01,  8.82846564e-02,\n",
              "         -4.21210140e-01,  1.48123592e-01,  3.36623877e-01,\n",
              "          1.06772557e-01],\n",
              "        [-1.93589956e-01, -2.53590167e-01,  1.88003421e-01,\n",
              "         -1.17253676e-01, -1.18371984e-02, -7.15034306e-02,\n",
              "         -1.81975037e-01,  7.85337910e-02,  1.13569628e-02,\n",
              "          2.65654385e-01],\n",
              "        [ 2.28757575e-01,  4.76751506e-01, -1.54532328e-01,\n",
              "         -3.81929100e-01, -1.13015890e-01, -1.45922706e-01,\n",
              "         -1.43480659e-01,  4.39970821e-01, -5.11947274e-01,\n",
              "         -4.85075682e-01],\n",
              "        [-5.55527806e-02,  4.90393117e-02,  2.41480485e-01,\n",
              "         -8.76211077e-02, -2.04702958e-01, -2.35068232e-01,\n",
              "         -7.61366263e-02, -3.23751345e-02,  5.70560098e-01,\n",
              "         -5.57198584e-01],\n",
              "        [-2.39915669e-01, -4.98211309e-02, -2.31516629e-01,\n",
              "          7.18601823e-01, -1.09223336e-01, -2.40741566e-01,\n",
              "         -6.86791986e-02, -1.16158582e-01, -2.42134169e-01,\n",
              "         -4.21237573e-03],\n",
              "        [ 1.37973398e-01,  4.84863132e-01, -4.29938167e-01,\n",
              "          4.03295159e-01, -3.26858461e-03, -3.08140367e-01,\n",
              "         -9.08213183e-02, -1.74754038e-01, -2.68519223e-01,\n",
              "          8.71786848e-02],\n",
              "        [ 3.30623537e-01, -1.23676650e-01,  7.65988082e-02,\n",
              "          1.49137124e-01, -5.23601472e-01,  2.86685854e-01,\n",
              "          1.30694732e-01,  3.41940850e-01, -1.08335748e-01,\n",
              "         -2.49883771e-01],\n",
              "        [ 1.71223372e-01,  5.45091212e-01,  3.74954671e-01,\n",
              "         -6.83564916e-02,  1.83134913e-01, -5.41119650e-03,\n",
              "         -1.47373369e-03,  6.85412735e-02, -6.18272781e-01,\n",
              "         -1.99553296e-01],\n",
              "        [-4.04297173e-01, -1.12180717e-01, -3.61751318e-02,\n",
              "          3.21421891e-01, -1.24066405e-01, -1.00578569e-01,\n",
              "          4.92437966e-02,  4.99467134e-01,  3.39724243e-01,\n",
              "         -3.47498536e-01],\n",
              "        [-3.04266244e-01,  4.12220061e-01,  4.28513050e-01,\n",
              "         -3.32721114e-01, -1.66073471e-01,  9.29185525e-02,\n",
              "         -5.99167049e-02,  3.67074281e-01, -3.15162301e-01,\n",
              "         -4.19864535e-01],\n",
              "        [ 4.61706854e-02, -2.30574131e-01,  3.97109181e-01,\n",
              "          2.58692056e-01, -8.87767732e-01,  3.35296214e-01,\n",
              "         -3.78305465e-02,  4.89739746e-01,  1.94255993e-01,\n",
              "          3.55493069e-01],\n",
              "        [-6.94066659e-02, -2.34699607e-01,  1.37437120e-01,\n",
              "          3.00979125e-03,  2.25553811e-01,  2.46534213e-01,\n",
              "         -1.22980945e-01, -3.52850318e-01,  1.96628630e-01,\n",
              "          1.87581480e-02],\n",
              "        [-7.65681714e-02, -1.58214301e-01,  2.09277257e-01,\n",
              "          5.89434132e-02, -1.04854770e-01, -2.65148352e-03,\n",
              "          2.16467559e-01,  3.54074836e-02,  7.94786662e-02,\n",
              "         -1.40787527e-01],\n",
              "        [ 1.19392656e-01,  4.53217119e-01,  2.62648702e-01,\n",
              "          1.76730946e-01, -1.17849596e-01,  3.38233449e-02,\n",
              "          1.24703571e-01, -1.98561028e-01, -4.42735732e-01,\n",
              "          5.79111427e-02],\n",
              "        [ 3.30027133e-01, -1.65098011e-01,  9.55046043e-02,\n",
              "         -2.39129681e-02, -4.78092253e-01, -2.42259279e-01,\n",
              "          4.76955861e-01,  2.56996810e-01, -3.71363193e-01,\n",
              "          2.79230565e-01],\n",
              "        [ 1.15920708e-01, -3.53751555e-02, -1.40318930e-01,\n",
              "         -4.85782117e-01,  2.20429137e-01,  2.55031824e-01,\n",
              "          5.46305716e-01, -3.82211566e-01,  2.22176090e-01,\n",
              "          1.79544240e-01],\n",
              "        [-3.22790265e-01, -1.10879876e-01,  5.58947399e-02,\n",
              "         -6.43248856e-02,  2.56740361e-01, -2.70478696e-01,\n",
              "         -2.06091300e-01, -4.17867899e-02,  3.32053065e-01,\n",
              "         -3.02026093e-01],\n",
              "        [ 1.09973095e-01, -8.72704461e-02,  1.54881954e-01,\n",
              "         -1.47490710e-01, -6.64710924e-02,  1.37809664e-01,\n",
              "         -2.11846262e-01, -1.48878500e-01,  1.65331855e-01,\n",
              "          4.34777252e-02],\n",
              "        [-4.22664076e-01, -1.51275277e-01,  5.45824826e-01,\n",
              "          3.78044218e-01, -2.90375333e-02,  9.27320719e-02,\n",
              "         -1.53105259e-01, -1.55734435e-01,  2.73122098e-02,\n",
              "         -5.96602857e-01],\n",
              "        [ 3.06220025e-01, -3.60600166e-02,  1.86583251e-01,\n",
              "         -3.81626129e-01,  7.30844319e-01, -3.91727477e-01,\n",
              "          2.18954846e-01, -8.32157582e-02, -5.36040187e-01,\n",
              "          4.39644396e-01],\n",
              "        [-2.61064708e-01,  3.34329993e-01, -2.08549142e-01,\n",
              "          1.54842557e-02,  3.95464957e-01,  1.15033373e-01,\n",
              "         -1.82037547e-01,  9.29157995e-03, -1.07680932e-01,\n",
              "         -3.37980837e-01],\n",
              "        [ 1.40510589e-01,  2.27753386e-01,  2.07784429e-01,\n",
              "         -9.89161059e-02, -1.02712878e-03, -9.43908747e-03,\n",
              "         -4.52219665e-01,  2.85269290e-01, -4.76224333e-01,\n",
              "          3.51773918e-01],\n",
              "        [-1.78751752e-01,  3.33204955e-01, -1.24941193e-01,\n",
              "         -4.41225469e-01, -1.06261775e-01,  4.35444303e-02,\n",
              "         -9.54516884e-03,  1.37550533e-01,  2.11923644e-02,\n",
              "          3.73218387e-01],\n",
              "        [ 1.15119457e-01, -2.74092257e-01, -4.40831095e-01,\n",
              "         -7.47165561e-01,  1.70328870e-01,  3.76799285e-01,\n",
              "          5.39466321e-01, -4.47084643e-02,  2.38619372e-01,\n",
              "          2.90818751e-01],\n",
              "        [ 1.98225752e-01,  3.11284840e-01,  1.17467262e-01,\n",
              "         -6.39472842e-01,  4.88259792e-01, -4.27961648e-01,\n",
              "          2.21924797e-01,  1.50870815e-01,  2.25995407e-01,\n",
              "         -3.95051569e-01],\n",
              "        [ 2.79304266e-01, -9.15215239e-02,  5.52207410e-01,\n",
              "         -1.34576485e-01, -3.44538301e-01, -3.53028148e-01,\n",
              "         -3.06050807e-01, -2.83696264e-01, -3.73309642e-01,\n",
              "         -2.00693868e-02],\n",
              "        [ 2.06223115e-01, -2.74138581e-02, -1.98579282e-02,\n",
              "          1.97223768e-01, -9.83759388e-02,  2.29556963e-01,\n",
              "          2.08532751e-01,  1.28515214e-01,  1.13576173e-03,\n",
              "         -7.49987662e-02],\n",
              "        [ 1.96908657e-02,  1.81162521e-01,  8.00409913e-02,\n",
              "          4.25588965e-01, -5.08882284e-01,  1.01353511e-01,\n",
              "          1.93802416e-01, -2.09018096e-01,  1.70959592e-01,\n",
              "          1.96227103e-01],\n",
              "        [-3.56925011e-01, -7.66494200e-02, -1.52060568e-01,\n",
              "          3.85279566e-01,  1.15872249e-01,  3.50183100e-01,\n",
              "          8.55438411e-02,  4.57076401e-01, -2.35186308e-03,\n",
              "         -6.14982963e-01],\n",
              "        [ 2.26062745e-01,  1.02254800e-01,  9.44484323e-02,\n",
              "         -3.67782414e-01,  3.64778370e-01, -2.30013385e-01,\n",
              "         -3.96352321e-01, -1.79422915e-01, -4.47549343e-01,\n",
              "          8.98451433e-02],\n",
              "        [ 1.91232815e-01, -3.51895869e-01, -2.80709058e-01,\n",
              "          2.83112258e-01, -3.16438854e-01,  2.78712422e-01,\n",
              "          3.15329224e-01, -2.59116739e-01,  3.08423519e-01,\n",
              "          3.81226569e-01],\n",
              "        [ 5.94516337e-01, -2.68680096e-01,  6.68355167e-01,\n",
              "         -8.42548162e-02, -3.33931059e-01, -4.08581704e-01,\n",
              "         -1.43707201e-01, -4.41729017e-02,  1.95503801e-01,\n",
              "          4.59556207e-02],\n",
              "        [-4.88165915e-01, -3.49663883e-01, -4.90688175e-01,\n",
              "          2.98203439e-01,  4.58010286e-01,  2.33927712e-01,\n",
              "         -2.86183000e-01, -1.49069324e-01,  2.39896595e-01,\n",
              "          3.96158040e-01],\n",
              "        [-4.00117114e-02, -2.06486601e-02, -1.15071377e-02,\n",
              "          1.66099772e-01,  3.73016372e-02,  1.90256312e-01,\n",
              "          1.00067064e-01, -1.98056176e-01,  2.27196231e-01,\n",
              "         -5.56564815e-02],\n",
              "        [-3.04603189e-01, -3.04814935e-01, -9.05066952e-02,\n",
              "          3.58205825e-01,  3.01695585e-01, -2.52568811e-01,\n",
              "          2.48752460e-01, -2.42415041e-01,  1.44875959e-01,\n",
              "          1.11600161e-01],\n",
              "        [-5.86450174e-02, -1.42218828e-01,  4.52235490e-01,\n",
              "          1.74484447e-01, -1.38938457e-01, -5.31078577e-01,\n",
              "          1.05107769e-01,  3.40179026e-01,  7.88245574e-02,\n",
              "         -1.04268983e-01],\n",
              "        [ 1.19375072e-01,  2.88218409e-01,  4.00149554e-01,\n",
              "         -5.99797904e-01, -6.12998940e-02, -2.69170672e-01,\n",
              "          1.47386879e-01, -1.46200642e-01,  4.00662720e-01,\n",
              "         -2.37737387e-01],\n",
              "        [ 4.95758951e-01,  4.79160994e-02, -1.70708477e-01,\n",
              "         -1.35905417e-02, -9.15309507e-03, -4.86056387e-01,\n",
              "         -2.15499173e-03,  3.07781965e-01,  9.93148014e-02,\n",
              "          3.71794790e-01],\n",
              "        [-3.15191299e-01, -7.22520202e-02, -7.52504840e-02,\n",
              "         -1.67513013e-01,  6.20924592e-01, -5.54633021e-01,\n",
              "          1.35231063e-01,  4.48279917e-01, -3.08401406e-01,\n",
              "          3.27421039e-01],\n",
              "        [ 2.79766858e-01,  1.13701865e-01,  3.32607120e-01,\n",
              "          3.87125760e-01, -6.83918953e-01, -5.77100754e-01,\n",
              "         -4.50339139e-01,  3.19062680e-01,  2.41162166e-01,\n",
              "          2.84121092e-02],\n",
              "        [ 1.93268657e-02,  2.00338103e-02,  3.51491421e-01,\n",
              "          5.91078997e-01, -1.49776995e-01,  3.36086154e-01,\n",
              "         -4.70892072e-01, -3.35427411e-02, -1.32165492e-01,\n",
              "         -2.42788106e-01],\n",
              "        [-1.85753003e-01, -2.10633092e-02,  1.58909261e-01,\n",
              "         -4.40818928e-02,  9.92211550e-02, -1.45887926e-01,\n",
              "          1.83053881e-01, -1.07522346e-01,  1.73743933e-01,\n",
              "         -7.01144934e-02],\n",
              "        [-1.37091979e-01, -1.55842304e-01,  1.21451288e-01,\n",
              "         -5.67293204e-02,  1.46017849e-01,  1.15688659e-01,\n",
              "         -4.14275415e-02, -5.83262183e-02,  7.04725878e-03,\n",
              "          1.00131959e-01],\n",
              "        [ 1.82275519e-01,  1.52410390e-02, -2.28758827e-01,\n",
              "          3.42483521e-01, -4.45158273e-01, -2.16459334e-02,\n",
              "          2.08629787e-01, -2.65182942e-01,  4.03905660e-01,\n",
              "         -2.88408726e-01],\n",
              "        [ 4.46375869e-02, -1.00843117e-01, -5.57757854e-01,\n",
              "         -2.85410225e-01, -4.95613515e-01,  3.70471984e-01,\n",
              "          7.12345064e-01, -6.89812526e-02, -4.79531363e-02,\n",
              "          7.20729157e-02],\n",
              "        [-1.79490060e-01,  2.64179528e-01,  3.55120420e-01,\n",
              "         -2.31981158e-01,  2.67043620e-01, -5.69809265e-02,\n",
              "          9.45300460e-02, -2.84295976e-01, -1.94767669e-01,\n",
              "         -6.32948697e-01],\n",
              "        [ 1.27200156e-01,  1.56762660e-01,  1.89455643e-01,\n",
              "          6.22981265e-02, -6.18876755e-01,  1.69577897e-01,\n",
              "         -2.48804063e-01, -8.51609632e-02, -1.07360967e-01,\n",
              "          2.24090040e-01],\n",
              "        [ 1.51338086e-01, -4.53209272e-03, -3.54632139e-01,\n",
              "          2.36519977e-01,  2.39047170e-01,  2.85951346e-01,\n",
              "          3.59460592e-01,  1.98204398e-01, -6.42779768e-01,\n",
              "          8.95889010e-03],\n",
              "        [ 1.20729335e-01,  3.13286036e-01, -2.78050244e-01,\n",
              "          2.93663293e-01, -4.81563341e-03,  5.78724504e-01,\n",
              "         -1.46099702e-01, -3.73909742e-01, -3.29311967e-01,\n",
              "          3.62814665e-01],\n",
              "        [-4.46620077e-01,  6.24932766e-01,  9.34196711e-02,\n",
              "          1.32677868e-01,  2.40496278e-01,  3.33665013e-01,\n",
              "          1.61332320e-02, -2.24435389e-01, -1.44397423e-01,\n",
              "          1.88757315e-01],\n",
              "        [ 2.25658696e-02, -8.65041167e-02, -3.31865758e-01,\n",
              "          1.92046508e-01,  2.53252804e-01,  4.09125179e-01,\n",
              "         -2.57081330e-01, -4.58380938e-01,  2.24334508e-01,\n",
              "          3.94982606e-01]], dtype=float32),\n",
              " array([-0.07903282,  0.24192768, -0.04586679, -0.10859649, -0.0224115 ,\n",
              "         0.07374697, -0.07523577,  0.08285877, -0.01655509, -0.05084492],\n",
              "       dtype=float32)]"
            ]
          },
          "metadata": {
            "tags": []
          },
          "execution_count": 125
        }
      ]
    },
    {
      "cell_type": "code",
      "metadata": {
        "id": "IhCOOeS6C1vZ",
        "outputId": "28fb3cf4-415a-45c7-f7e2-78787267bad6",
        "colab": {
          "base_uri": "https://localhost:8080/",
          "height": 51
        }
      },
      "source": [
        "model.evaluate(X_test, y_test, batch_size=32)"
      ],
      "execution_count": 126,
      "outputs": [
        {
          "output_type": "stream",
          "text": [
            "313/313 [==============================] - 2s 7ms/step - loss: 0.0540 - accuracy: 0.9865\n"
          ],
          "name": "stdout"
        },
        {
          "output_type": "execute_result",
          "data": {
            "text/plain": [
              "[0.0540384016931057, 0.9865000247955322]"
            ]
          },
          "metadata": {
            "tags": []
          },
          "execution_count": 126
        }
      ]
    },
    {
      "cell_type": "markdown",
      "metadata": {
        "id": "itcUCTV3Dien"
      },
      "source": [
        "## Make prediction on test set"
      ]
    },
    {
      "cell_type": "code",
      "metadata": {
        "id": "bkGHGj1DDFBx",
        "outputId": "e509f600-3ef6-4377-8454-1673aaf19acf",
        "colab": {
          "base_uri": "https://localhost:8080/",
          "height": 102
        }
      },
      "source": [
        "y_pred = model.predict(X_test)\n",
        "\n",
        "# example output\n",
        "print('y_pred shape : ', y_pred.shape)\n",
        "print('example : \\n', y_pred[0])"
      ],
      "execution_count": 151,
      "outputs": [
        {
          "output_type": "stream",
          "text": [
            "y_pred shape :  (10000, 10)\n",
            "example : \n",
            " [1.61928000e-14 8.44638855e-12 4.16288358e-12 2.46902886e-07\n",
            " 1.03566026e-20 5.72187697e-15 1.59468004e-18 9.99999762e-01\n",
            " 1.21996174e-12 1.76544321e-10]\n"
          ],
          "name": "stdout"
        }
      ]
    },
    {
      "cell_type": "code",
      "metadata": {
        "id": "qJqis-jZEIT8",
        "outputId": "5552e3a9-1258-4aa6-8269-67c031bbd5cf",
        "colab": {
          "base_uri": "https://localhost:8080/",
          "height": 68
        }
      },
      "source": [
        "# convert y_test and y_pred to integer label\n",
        "label_test = list(map(np.argmax, y_test))\n",
        "label_pred = list(map(np.argmax, y_pred))\n",
        "\n",
        "print('first 10 example')\n",
        "print('label_test : ', label_test[:10])\n",
        "print('label_pred : ', label_pred[:10])"
      ],
      "execution_count": 152,
      "outputs": [
        {
          "output_type": "stream",
          "text": [
            "first 10 example\n",
            "label_test :  [7, 2, 1, 0, 4, 1, 4, 9, 5, 9]\n",
            "label_pred :  [7, 2, 1, 0, 4, 1, 4, 9, 5, 9]\n"
          ],
          "name": "stdout"
        }
      ]
    },
    {
      "cell_type": "code",
      "metadata": {
        "id": "R4RjMGsSG_XN",
        "outputId": "f0eeac37-1d65-4250-9a4e-68430fe9c875",
        "colab": {
          "base_uri": "https://localhost:8080/",
          "height": 34
        }
      },
      "source": [
        ""
      ],
      "execution_count": 162,
      "outputs": [
        {
          "output_type": "execute_result",
          "data": {
            "text/plain": [
              "(28, 28, 1)"
            ]
          },
          "metadata": {
            "tags": []
          },
          "execution_count": 162
        }
      ]
    },
    {
      "cell_type": "code",
      "metadata": {
        "id": "vBHli2BIGkPb",
        "outputId": "c1b70c22-2728-4e33-c2f3-2299e4c36a1e",
        "colab": {
          "base_uri": "https://localhost:8080/",
          "height": 282
        }
      },
      "source": [
        "# example of image and prediction\n",
        "randnum = np.random.randint(0,len(y_test))\n",
        "plt.imshow(np.reshape(X_test[randnum]*255, (28,28)))\n",
        "print('Prediction : ', label_pred[randnum])"
      ],
      "execution_count": 177,
      "outputs": [
        {
          "output_type": "stream",
          "text": [
            "Prediction :  0\n"
          ],
          "name": "stdout"
        },
        {
          "output_type": "display_data",
          "data": {
            "image/png": "[encoded data removed]",
            "text/plain": [
              "<Figure size 432x288 with 1 Axes>"
            ]
          },
          "metadata": {
            "tags": [],
            "needs_background": "light"
          }
        }
      ]
    },
    {
      "cell_type": "code",
      "metadata": {
        "id": "t-422YSCDUGp",
        "outputId": "b80de7c7-440f-4f76-bea2-7f3b807a9ec7",
        "colab": {
          "base_uri": "https://localhost:8080/",
          "height": 187
        }
      },
      "source": [
        "# Confusion matrix\n",
        "cm = metrics.confusion_matrix(label_test, label_pred)\n",
        "cm"
      ],
      "execution_count": 155,
      "outputs": [
        {
          "output_type": "execute_result",
          "data": {
            "text/plain": [
              "array([[ 969,    0,    2,    0,    1,    1,    2,    2,    3,    0],\n",
              "       [   0, 1129,    2,    1,    0,    0,    1,    0,    2,    0],\n",
              "       [   3,    2, 1015,    1,    2,    0,    1,    5,    3,    0],\n",
              "       [   2,    0,    4,  996,    0,    3,    0,    1,    2,    2],\n",
              "       [   0,    0,    0,    0,  973,    0,    3,    1,    0,    5],\n",
              "       [   1,    0,    0,    6,    0,  881,    3,    0,    1,    0],\n",
              "       [   5,    3,    2,    1,    3,    2,  942,    0,    0,    0],\n",
              "       [   1,    1,    5,    1,    0,    0,    0, 1015,    1,    4],\n",
              "       [   2,    0,    2,    4,    0,    2,    0,    1,  960,    3],\n",
              "       [   1,    3,    0,    3,   10,    2,    0,    5,    0,  985]])"
            ]
          },
          "metadata": {
            "tags": []
          },
          "execution_count": 155
        }
      ]
    }
  ]
}