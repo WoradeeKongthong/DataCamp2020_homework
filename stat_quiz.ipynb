{
  "nbformat": 4,
  "nbformat_minor": 0,
  "metadata": {
    "colab": {
      "name": "stat_quiz.ipynb",
      "provenance": [],
      "authorship_tag": "ABX9TyOcDffSKShhNgawItYGQ0vu",
      "include_colab_link": true
    },
    "kernelspec": {
      "name": "python3",
      "display_name": "Python 3"
    }
  },
  "cells": [
    {
      "cell_type": "markdown",
      "metadata": {
        "id": "view-in-github",
        "colab_type": "text"
      },
      "source": [
        "<a href=\"https://colab.research.google.com/github/WoradeeKongthong/DataCamp2020_homework/blob/master/stat_quiz.ipynb\" target=\"_parent\"><img src=\"https://colab.research.google.com/assets/colab-badge.svg\" alt=\"Open In Colab\"/></a>"
      ]
    },
    {
      "cell_type": "code",
      "metadata": {
        "id": "2SsKp4OtKCqa",
        "colab_type": "code",
        "colab": {}
      },
      "source": [
        "import numpy as np\n",
        "from scipy.stats import mode\n",
        "import matplotlib.pyplot as plt\n",
        "import math"
      ],
      "execution_count": 0,
      "outputs": []
    },
    {
      "cell_type": "markdown",
      "metadata": {
        "id": "UuPxWY0hXRFm",
        "colab_type": "text"
      },
      "source": [
        "# ชุดข้อมูลที่ 1 และ 2"
      ]
    },
    {
      "cell_type": "code",
      "metadata": {
        "id": "p3kMrLnvIvmz",
        "colab_type": "code",
        "outputId": "d7a74692-19d2-417d-b6bd-d0ab8828b2be",
        "colab": {
          "base_uri": "https://localhost:8080/",
          "height": 119
        }
      },
      "source": [
        "pop1=np.array([10,20,50,70,90,110,15,66,20,33])\n",
        "mean_pop1 = np.mean(pop1)\n",
        "mode_pop1 = mode(pop1)[0]\n",
        "median_pop1 = np.median(pop1)\n",
        "var_pop1 = np.var(pop1)\n",
        "sd_pop1 = np.std(pop1)\n",
        "print(f\"population 1 : {pop1}\")\n",
        "print(f\"mean = {mean_pop1}\\nmode = {mode_pop1}\\nmedian = {median_pop1}\\n\\\n",
        "variance = {var_pop1}\\nstd = {sd_pop1}\")"
      ],
      "execution_count": 0,
      "outputs": [
        {
          "output_type": "stream",
          "text": [
            "population 1 : [ 10  20  50  70  90 110  15  66  20  33]\n",
            "mean = 48.4\n",
            "mode = [20]\n",
            "median = 41.5\n",
            "variance = 1074.44\n",
            "std = 32.77865158910598\n"
          ],
          "name": "stdout"
        }
      ]
    },
    {
      "cell_type": "code",
      "metadata": {
        "id": "HgPU6XRXKM0e",
        "colab_type": "code",
        "outputId": "6b14ad08-a428-4999-a111-fa5c1cd990f9",
        "colab": {
          "base_uri": "https://localhost:8080/",
          "height": 119
        }
      },
      "source": [
        "pop2=np.array([33,16,73,44,67,134,99,11,13,16])\n",
        "mean_pop2 = np.mean(pop2)\n",
        "mode_pop2 = mode(pop2)[0]\n",
        "median_pop2 = np.median(pop2)\n",
        "var_pop2 = np.var(pop2)\n",
        "sd_pop2 = np.std(pop2)\n",
        "print(f\"population 2 : {pop2}\")\n",
        "print(f\"mean = {mean_pop2}\\nmode = {mode_pop2}\\nmedian = {median_pop2}\\n\\\n",
        "variance = {var_pop2}\\nstd = {sd_pop2}\")"
      ],
      "execution_count": 0,
      "outputs": [
        {
          "output_type": "stream",
          "text": [
            "population 2 : [ 33  16  73  44  67 134  99  11  13  16]\n",
            "mean = 50.6\n",
            "mode = [16]\n",
            "median = 38.5\n",
            "variance = 1579.8400000000001\n",
            "std = 39.747201159326934\n"
          ],
          "name": "stdout"
        }
      ]
    },
    {
      "cell_type": "code",
      "metadata": {
        "id": "7c-Ce7FtNyAA",
        "colab_type": "code",
        "outputId": "5aedff62-8f55-4e40-8bf7-1b8c8c48e58e",
        "colab": {
          "base_uri": "https://localhost:8080/",
          "height": 204
        }
      },
      "source": [
        "COV_pop1 = sd_pop1/mean_pop1\n",
        "COV_pop2 = sd_pop2/mean_pop2\n",
        "covariance_matrix = np.cov(pop1,pop2)\n",
        "correlation_coef = np.corrcoef(pop1,pop2)\n",
        "print(f\"COV of population 1 = {COV_pop1}\\nCOV of population 2 = {COV_pop2}\")\n",
        "print(\"Coefficient Of Variation of population1 LESS than of population 2\")\n",
        "print(f\"\\ncovariance matrix of population 1 and 2 = \\n{covariance_matrix}\")\n",
        "print(f\"\\ncorrelation coefficient of population 1 and 2 = \\n{correlation_coef}\")"
      ],
      "execution_count": 0,
      "outputs": [
        {
          "output_type": "stream",
          "text": [
            "COV of population 1 = 0.6772448675435121\n",
            "COV of population 2 = 0.7855178094728643\n",
            "Coefficient Of Variation of population1 LESS than of population 2\n",
            "\n",
            "covariance matrix of population 1 and 2 = \n",
            "[[1193.82222222  739.84444444]\n",
            " [ 739.84444444 1755.37777778]]\n",
            "\n",
            "correlation coefficient of population 1 and 2 = \n",
            "[[1.         0.51107577]\n",
            " [0.51107577 1.        ]]\n"
          ],
          "name": "stdout"
        }
      ]
    },
    {
      "cell_type": "markdown",
      "metadata": {
        "id": "zARmzrOfXfxo",
        "colab_type": "text"
      },
      "source": [
        "# ชุดข้อมูลที่ 3"
      ]
    },
    {
      "cell_type": "code",
      "metadata": {
        "id": "52wd34T3RsC0",
        "colab_type": "code",
        "outputId": "d748390d-510a-4c0f-9364-4578495cb6b7",
        "colab": {
          "base_uri": "https://localhost:8080/",
          "height": 221
        }
      },
      "source": [
        "X = np.array([35.54,49.93,58.09,21.47,30.64,44.78,40.64,51.1,34.77,40.77,\\\n",
        "              43.62,46.72,43.69,34.47,41.49,47.67,24.97,38.58,48.97,39.67,\\\n",
        "              44.29,42.56,48.26,37.1,22.28,39.2,45.73,39.13,32.91,46.75])\n",
        "X_mean = np.mean(X)\n",
        "X_std = np.std(X)\n",
        "Z = (X-X_mean)/X_std\n",
        "print(f\"X : {X}\\nmean = {X_mean}\\nstd = {X_std}\\n\")\n",
        "print(f\"Standardized value (Z) = \\n{Z}\")"
      ],
      "execution_count": 0,
      "outputs": [
        {
          "output_type": "stream",
          "text": [
            "X : [35.54 49.93 58.09 21.47 30.64 44.78 40.64 51.1  34.77 40.77 43.62 46.72\n",
            " 43.69 34.47 41.49 47.67 24.97 38.58 48.97 39.67 44.29 42.56 48.26 37.1\n",
            " 22.28 39.2  45.73 39.13 32.91 46.75]\n",
            "mean = 40.52633333333334\n",
            "std = 8.287476690096263\n",
            "\n",
            "Standardized value (Z) = \n",
            "[-0.60167087  1.13468394  2.11930209 -2.2994132  -1.19292442  0.51326439\n",
            "  0.01371547  1.2758608  -0.69458214  0.02940179  0.37329416  0.74735253\n",
            "  0.38174064 -0.73078134  0.11627986  0.86198332 -1.87708924 -0.23485234\n",
            "  1.01884651 -0.1033286   0.45413904  0.24539033  0.93317507 -0.41343505\n",
            " -2.20167537 -0.16004067  0.62789518 -0.16848715 -0.91901717  0.75097245]\n"
          ],
          "name": "stdout"
        }
      ]
    },
    {
      "cell_type": "code",
      "metadata": {
        "id": "49YlHmImZ1kr",
        "colab_type": "code",
        "outputId": "23b023a5-7803-4e1a-ce11-894ba556a71e",
        "colab": {
          "base_uri": "https://localhost:8080/",
          "height": 295
        }
      },
      "source": [
        "plt.hist(Z)\n",
        "plt.title(\"Histogram of standardized value (Z)\")\n",
        "plt.xlabel(\"Z\")\n",
        "plt.show()"
      ],
      "execution_count": 0,
      "outputs": [
        {
          "output_type": "display_data",
          "data": {
            "image/png": "[encoded data removed]",
            "text/plain": [
              "<Figure size 432x288 with 1 Axes>"
            ]
          },
          "metadata": {
            "tags": [],
            "needs_background": "light"
          }
        }
      ]
    },
    {
      "cell_type": "markdown",
      "metadata": {
        "id": "-3gpRmuIa4q0",
        "colab_type": "text"
      },
      "source": [
        "# ชุดข้อมูลที่ 4 เงินเดือนของ Programmers ในประเทศไทย"
      ]
    },
    {
      "cell_type": "code",
      "metadata": {
        "id": "wEva9wXwa1gZ",
        "colab_type": "code",
        "colab": {}
      },
      "source": [
        "salary = np.array([42690.64,42325.34,64971.4,35967.86,53694.28,43309.04,36018.4,29007.55,47506.85,77279.74])"
      ],
      "execution_count": 0,
      "outputs": []
    },
    {
      "cell_type": "code",
      "metadata": {
        "id": "QwHfCBDHbUGl",
        "colab_type": "code",
        "outputId": "56cd5c60-677d-475e-8c6d-fb216bdfd374",
        "colab": {
          "base_uri": "https://localhost:8080/",
          "height": 153
        }
      },
      "source": [
        "salary_mean = np.mean(salary)\n",
        "salary_std = np.std(salary,ddof=1,) #ddof=1 เนื่องจากข้อมูลเป็น sample\n",
        "print(f\"salary : {salary}\\n\\nsample mean = {salary_mean}\\n\\\n",
        "sample std = {salary_std}\\n\")\n",
        "\n",
        "# ค่า t(df=9,alpha/2=0.05) confidence interval = 90%\n",
        "t_score_90 = 1.833\n",
        "ci_lower_90 = salary_mean-(t_score_90*salary_std/math.sqrt(len(salary)))\n",
        "ci_upper_90 = salary_mean+(t_score_90*salary_std/math.sqrt(len(salary)))\n",
        "print(f\"90% confidence interval of salary = ({round(ci_lower_90,2)},{round(ci_upper_90,2)})\")\n",
        "\n",
        "# ค่า t(df=9,alpha/2=0.025) confidence interval = 95%\n",
        "t_score_95 = 2.262\n",
        "ci_lower_95 = salary_mean-(t_score_95*salary_std/math.sqrt(len(salary)))\n",
        "ci_upper_95 = salary_mean+(t_score_95*salary_std/math.sqrt(len(salary)))\n",
        "print(f\"95% confidence interval of salary = ({round(ci_lower_95,2)},{round(ci_upper_95,2)})\")\n"
      ],
      "execution_count": 0,
      "outputs": [
        {
          "output_type": "stream",
          "text": [
            "salary : [42690.64 42325.34 64971.4  35967.86 53694.28 43309.04 36018.4  29007.55\n",
            " 47506.85 77279.74]\n",
            "\n",
            "sample mean = 47277.11\n",
            "sample std = 14545.76829847545\n",
            "\n",
            "90% confidence interval of salary = (38845.72,55708.5)\n",
            "95% confidence interval of salary = (36872.42,57681.8)\n"
          ],
          "name": "stdout"
        }
      ]
    },
    {
      "cell_type": "markdown",
      "metadata": {
        "id": "Ed8-pGXKfkuz",
        "colab_type": "text"
      },
      "source": [
        "# ชุดข้อมูลที่ 5 เงินเดือนของทันตแพทย์ ในประเทศไทย"
      ]
    },
    {
      "cell_type": "code",
      "metadata": {
        "id": "15g4JIM-fhQe",
        "colab_type": "code",
        "colab": {}
      },
      "source": [
        "dent = np.array([81469,87531.77,75745.76,84907.66,91575.27,91222.62\\\n",
        "                 ,80216.58,93699.6,95481.35,95482.59])\n",
        "dent_pop_var = 7900"
      ],
      "execution_count": 0,
      "outputs": []
    },
    {
      "cell_type": "code",
      "metadata": {
        "id": "-AuBAK-Af-KH",
        "colab_type": "code",
        "outputId": "de3115cc-aec4-4503-81fe-2d4830a7a80d",
        "colab": {
          "base_uri": "https://localhost:8080/",
          "height": 153
        }
      },
      "source": [
        "dent_mean = np.mean(dent)\n",
        "print(f\"dentist salary : {dent}\\n\\npopulation variance = {dent_pop_var}\\\n",
        "\\nsample mean = {dent_mean}\\n\")\n",
        "\n",
        "# ค่า z(alpha/2=0.05) confidence interval = 90%\n",
        "z_score_90 = 1.645\n",
        "ci_lower_90 = dent_mean-(z_score_90*dent_pop_var/math.sqrt(len(dent)))\n",
        "ci_upper_90 = dent_mean+(z_score_90*dent_pop_var/math.sqrt(len(dent)))\n",
        "print(f\"90% confidence interval of dentist salary = ({round(ci_lower_90,2)},{round(ci_upper_90,2)})\")\n",
        "\n",
        "# ค่า z(alpha/2=0.025) confidence interval = 95%\n",
        "z_score_95 = 1.96\n",
        "ci_lower_95 = dent_mean-(z_score_95*dent_pop_var/math.sqrt(len(dent)))\n",
        "ci_upper_95 = dent_mean+(z_score_95*dent_pop_var/math.sqrt(len(dent)))\n",
        "print(f\"95% confidence interval of dentist salary = ({round(ci_lower_95,2)},{round(ci_upper_95,2)})\")\n"
      ],
      "execution_count": 0,
      "outputs": [
        {
          "output_type": "stream",
          "text": [
            "dentist salary : [81469.   87531.77 75745.76 84907.66 91575.27 91222.62 80216.58 93699.6\n",
            " 95481.35 95482.59]\n",
            "\n",
            "population variance = 7900\n",
            "sample mean = 87733.22\n",
            "\n",
            "90% confidence interval of dentist salary = (83623.68,91842.76)\n",
            "95% confidence interval of dentist salary = (82836.75,92629.69)\n"
          ],
          "name": "stdout"
        }
      ]
    }
  ]
}