{
  "nbformat": 4,
  "nbformat_minor": 0,
  "metadata": {
    "colab": {
      "name": "ProjectVIII_image_recognition_cifar10.ipynb",
      "provenance": [],
      "authorship_tag": "ABX9TyP7WmIl45XAPmW2/Ot/E+mf",
      "include_colab_link": true
    },
    "kernelspec": {
      "name": "python3",
      "display_name": "Python 3"
    }
  },
  "cells": [
    {
      "cell_type": "markdown",
      "metadata": {
        "id": "view-in-github",
        "colab_type": "text"
      },
      "source": [
        "<a href=\"https://colab.research.google.com/github/WoradeeKongthong/DataCamp2020_homework/blob/master/ProjectVIII_image_recognition_cifar10.ipynb\" target=\"_parent\"><img src=\"https://colab.research.google.com/assets/colab-badge.svg\" alt=\"Open In Colab\"/></a>"
      ]
    },
    {
      "cell_type": "markdown",
      "metadata": {
        "id": "MW_2fKYphKP_"
      },
      "source": [
        "# Project : จากการเรียนรู้เรื่อง Convolutional Neural Network ใช้ CNN กับ Dataset ของ CIFAR-10"
      ]
    },
    {
      "cell_type": "code",
      "metadata": {
        "id": "8B6acPlgXyHx"
      },
      "source": [
        "import keras\n",
        "import numpy as np\n",
        "import matplotlib.pyplot as plt"
      ],
      "execution_count": 6,
      "outputs": []
    },
    {
      "cell_type": "markdown",
      "metadata": {
        "id": "CmmHjlcAbjZE"
      },
      "source": [
        "## Load dataset"
      ]
    },
    {
      "cell_type": "code",
      "metadata": {
        "id": "z5psSIHhbi5m",
        "outputId": "74f80202-9673-4490-b913-35ca6293119a",
        "colab": {
          "base_uri": "https://localhost:8080/",
          "height": 51
        }
      },
      "source": [
        "(X_train, y_train), (X_test, y_test) = keras.datasets.cifar10.load_data()"
      ],
      "execution_count": 3,
      "outputs": [
        {
          "output_type": "stream",
          "text": [
            "Downloading data from https://www.cs.toronto.edu/~kriz/cifar-10-python.tar.gz\n",
            "170500096/170498071 [==============================] - 2s 0us/step\n"
          ],
          "name": "stdout"
        }
      ]
    },
    {
      "cell_type": "code",
      "metadata": {
        "id": "GGL4A8qjcCiK",
        "outputId": "8f1cf4fa-85e6-4973-9cf3-231fda71636a",
        "colab": {
          "base_uri": "https://localhost:8080/",
          "height": 85
        }
      },
      "source": [
        "print('X_train shape : ', X_train.shape)\n",
        "print('y_train shape : ', y_train.shape)\n",
        "print('X_test shape : ', X_test.shape)\n",
        "print('y_test shape : ', y_test.shape)"
      ],
      "execution_count": 5,
      "outputs": [
        {
          "output_type": "stream",
          "text": [
            "X_train shape :  (50000, 32, 32, 3)\n",
            "y_train shape :  (50000, 1)\n",
            "X_test shape :  (10000, 32, 32, 3)\n",
            "y_test shape :  (10000, 1)\n"
          ],
          "name": "stdout"
        }
      ]
    },
    {
      "cell_type": "code",
      "metadata": {
        "id": "RLu3TLkhdryq"
      },
      "source": [
        "cifar_classes = ['airplane', 'automobile', 'bird', 'cat', 'deer', 'dog', 'frog', 'horse', 'ship', 'truck']"
      ],
      "execution_count": 12,
      "outputs": []
    },
    {
      "cell_type": "code",
      "metadata": {
        "id": "m8oh6NmhcbgC",
        "outputId": "8151b1b5-c7e9-426b-f131-969ae37fac22",
        "colab": {
          "base_uri": "https://localhost:8080/",
          "height": 283
        }
      },
      "source": [
        "# print and plot examples\n",
        "randnum = np.random.randint(0, len(X_train))\n",
        "plt.imshow(X_train[randnum])\n",
        "print(cifar_classes[y_train[randnum][0]])"
      ],
      "execution_count": 35,
      "outputs": [
        {
          "output_type": "stream",
          "text": [
            "bird\n"
          ],
          "name": "stdout"
        },
        {
          "output_type": "display_data",
          "data": {
            "image/png": "[encoded data removed]",
            "text/plain": [
              "<Figure size 432x288 with 1 Axes>"
            ]
          },
          "metadata": {
            "tags": [],
            "needs_background": "light"
          }
        }
      ]
    },
    {
      "cell_type": "markdown",
      "metadata": {
        "id": "iLRHO6GIgATt"
      },
      "source": [
        "## Data Preprocessing"
      ]
    },
    {
      "cell_type": "code",
      "metadata": {
        "id": "L2RflmcPgCCm"
      },
      "source": [
        "# normalize X_train and X_test\n",
        "X_train_norm = X_train / 255.0\n",
        "X_test_norm = X_test / 255.0"
      ],
      "execution_count": 26,
      "outputs": []
    },
    {
      "cell_type": "code",
      "metadata": {
        "id": "c6QOpY45gLkU",
        "outputId": "a1de6de0-ade4-4ea0-da7b-42d8412d5b38",
        "colab": {
          "base_uri": "https://localhost:8080/",
          "height": 136
        }
      },
      "source": [
        "# check data\n",
        "print('X_train_norm dtype : ', X_train_norm.dtype)\n",
        "print('min : ', X_train_norm.min())\n",
        "print('max : ', X_train_norm.max())\n",
        "print()\n",
        "print('X_test_norm dtype : ', X_test_norm.dtype)\n",
        "print('min : ', X_test_norm.min())\n",
        "print('max : ', X_test_norm.max())"
      ],
      "execution_count": 29,
      "outputs": [
        {
          "output_type": "stream",
          "text": [
            "X_train_norm dtype :  float64\n",
            "min :  0.0\n",
            "max :  1.0\n",
            "\n",
            "X_test_norm dtype :  float64\n",
            "min :  0.0\n",
            "max :  1.0\n"
          ],
          "name": "stdout"
        }
      ]
    },
    {
      "cell_type": "code",
      "metadata": {
        "id": "N3Ijo8f4gpHS"
      },
      "source": [
        "# make y_train and y_test one-hot\n",
        "y_train_onehot = keras.utils.to_categorical(y_train, num_classes=10)\n",
        "y_test_onehot = keras.utils.to_categorical(y_test, num_classes=10)"
      ],
      "execution_count": 30,
      "outputs": []
    },
    {
      "cell_type": "code",
      "metadata": {
        "id": "JvY2LnoAg_qi",
        "outputId": "071a7893-aba2-4726-959a-0372cd5ae67d",
        "colab": {
          "base_uri": "https://localhost:8080/",
          "height": 51
        }
      },
      "source": [
        "print('y_train_onehot shape : ', y_train_onehot.shape)\n",
        "print('y_test_onehot shape : ', y_test_onehot.shape)"
      ],
      "execution_count": 32,
      "outputs": [
        {
          "output_type": "stream",
          "text": [
            "y_train_onehot shape :  (50000, 10)\n",
            "y_test_onehot shape :  (10000, 10)\n"
          ],
          "name": "stdout"
        }
      ]
    },
    {
      "cell_type": "markdown",
      "metadata": {
        "id": "Y8K3oEk2hcB9"
      },
      "source": [
        "## CNN model"
      ]
    },
    {
      "cell_type": "code",
      "metadata": {
        "id": "c9Y9DrSeheOG"
      },
      "source": [
        "from keras.models import Sequential\n",
        "from keras.layers import Conv2D, MaxPooling2D, Flatten, Dense, Dropout\n",
        "from keras.optimizers import SGD"
      ],
      "execution_count": 95,
      "outputs": []
    },
    {
      "cell_type": "code",
      "metadata": {
        "id": "LR2rz9x8hxKE"
      },
      "source": [
        "# create the CNN model\n",
        "model = Sequential()\n",
        "# first conv block\n",
        "model.add(Conv2D(32, (3,3), activation='relu', padding='same', input_shape=(32,32,3)))\n",
        "model.add(Conv2D(32, (3,3), activation='relu', padding='same'))\n",
        "model.add(MaxPooling2D((2,2)))\n",
        "model.add(Dropout(0.2))\n",
        "# second conv block\n",
        "model.add(Conv2D(64, (3,3), activation='relu', padding='same', input_shape=(32,32,3)))\n",
        "model.add(Conv2D(64, (3,3), activation='relu', padding='same'))\n",
        "model.add(MaxPooling2D((2,2)))\n",
        "model.add(Dropout(0.2))\n",
        "# flatten\n",
        "model.add(Flatten())\n",
        "# fully connected layer\n",
        "model.add(Dense(256, activation='relu'))\n",
        "model.add(Dropout(0.2))\n",
        "# output layer\n",
        "model.add(Dense(10, activation='softmax'))"
      ],
      "execution_count": 96,
      "outputs": []
    },
    {
      "cell_type": "code",
      "metadata": {
        "id": "fSwHMus0h-wW"
      },
      "source": [
        "# compile model\n",
        "opt = SGD(lr=0.01, momentum=0.9)\n",
        "model.compile(optimizer=opt, loss='categorical_crossentropy', metrics=['accuracy'])"
      ],
      "execution_count": 97,
      "outputs": []
    },
    {
      "cell_type": "code",
      "metadata": {
        "id": "bQ8tq2ReiD_q",
        "outputId": "838cc612-1403-45f4-84ac-4923c0a51d88",
        "colab": {
          "base_uri": "https://localhost:8080/",
          "height": 561
        }
      },
      "source": [
        "# print model summary\n",
        "model.summary()"
      ],
      "execution_count": 98,
      "outputs": [
        {
          "output_type": "stream",
          "text": [
            "Model: \"sequential_3\"\n",
            "_________________________________________________________________\n",
            "Layer (type)                 Output Shape              Param #   \n",
            "=================================================================\n",
            "conv2d_4 (Conv2D)            (None, 32, 32, 32)        896       \n",
            "_________________________________________________________________\n",
            "conv2d_5 (Conv2D)            (None, 32, 32, 32)        9248      \n",
            "_________________________________________________________________\n",
            "max_pooling2d_3 (MaxPooling2 (None, 16, 16, 32)        0         \n",
            "_________________________________________________________________\n",
            "dropout (Dropout)            (None, 16, 16, 32)        0         \n",
            "_________________________________________________________________\n",
            "conv2d_6 (Conv2D)            (None, 16, 16, 64)        18496     \n",
            "_________________________________________________________________\n",
            "conv2d_7 (Conv2D)            (None, 16, 16, 64)        36928     \n",
            "_________________________________________________________________\n",
            "max_pooling2d_4 (MaxPooling2 (None, 8, 8, 64)          0         \n",
            "_________________________________________________________________\n",
            "dropout_1 (Dropout)          (None, 8, 8, 64)          0         \n",
            "_________________________________________________________________\n",
            "flatten_2 (Flatten)          (None, 4096)              0         \n",
            "_________________________________________________________________\n",
            "dense_2 (Dense)              (None, 256)               1048832   \n",
            "_________________________________________________________________\n",
            "dropout_2 (Dropout)          (None, 256)               0         \n",
            "_________________________________________________________________\n",
            "dense_3 (Dense)              (None, 10)                2570      \n",
            "=================================================================\n",
            "Total params: 1,116,970\n",
            "Trainable params: 1,116,970\n",
            "Non-trainable params: 0\n",
            "_________________________________________________________________\n"
          ],
          "name": "stdout"
        }
      ]
    },
    {
      "cell_type": "code",
      "metadata": {
        "id": "wBjK3EmoiGZU",
        "outputId": "689cc0ae-ca3a-4a91-fed5-0b1776944750",
        "colab": {
          "base_uri": "https://localhost:8080/",
          "height": 697
        }
      },
      "source": [
        "# fit the model\n",
        "history = model.fit(X_train_norm, y_train_onehot, epochs=20, batch_size=32, verbose=1, validation_split=0.2)"
      ],
      "execution_count": 99,
      "outputs": [
        {
          "output_type": "stream",
          "text": [
            "Epoch 1/20\n",
            "1250/1250 [==============================] - 228s 182ms/step - loss: 1.7435 - accuracy: 0.3636 - val_loss: 1.3634 - val_accuracy: 0.5135\n",
            "Epoch 2/20\n",
            "1250/1250 [==============================] - 227s 182ms/step - loss: 1.3317 - accuracy: 0.5189 - val_loss: 1.1771 - val_accuracy: 0.5800\n",
            "Epoch 3/20\n",
            "1250/1250 [==============================] - 230s 184ms/step - loss: 1.1366 - accuracy: 0.5958 - val_loss: 1.0082 - val_accuracy: 0.6430\n",
            "Epoch 4/20\n",
            "1250/1250 [==============================] - 231s 185ms/step - loss: 0.9998 - accuracy: 0.6461 - val_loss: 0.9241 - val_accuracy: 0.6778\n",
            "Epoch 5/20\n",
            "1250/1250 [==============================] - 230s 184ms/step - loss: 0.8774 - accuracy: 0.6886 - val_loss: 0.8977 - val_accuracy: 0.6863\n",
            "Epoch 6/20\n",
            "1250/1250 [==============================] - 228s 183ms/step - loss: 0.7867 - accuracy: 0.7213 - val_loss: 0.8607 - val_accuracy: 0.7020\n",
            "Epoch 7/20\n",
            "1250/1250 [==============================] - 238s 190ms/step - loss: 0.7152 - accuracy: 0.7452 - val_loss: 0.8249 - val_accuracy: 0.7206\n",
            "Epoch 8/20\n",
            "1250/1250 [==============================] - 231s 185ms/step - loss: 0.6491 - accuracy: 0.7698 - val_loss: 0.8317 - val_accuracy: 0.7197\n",
            "Epoch 9/20\n",
            "1250/1250 [==============================] - 231s 185ms/step - loss: 0.5992 - accuracy: 0.7885 - val_loss: 0.8428 - val_accuracy: 0.7189\n",
            "Epoch 10/20\n",
            "1250/1250 [==============================] - 230s 184ms/step - loss: 0.5507 - accuracy: 0.8047 - val_loss: 0.8097 - val_accuracy: 0.7297\n",
            "Epoch 11/20\n",
            "1250/1250 [==============================] - 228s 183ms/step - loss: 0.5161 - accuracy: 0.8171 - val_loss: 0.8941 - val_accuracy: 0.7161\n",
            "Epoch 12/20\n",
            "1250/1250 [==============================] - 228s 182ms/step - loss: 0.4784 - accuracy: 0.8318 - val_loss: 0.8247 - val_accuracy: 0.7411\n",
            "Epoch 13/20\n",
            "1250/1250 [==============================] - 227s 182ms/step - loss: 0.4578 - accuracy: 0.8389 - val_loss: 0.8918 - val_accuracy: 0.7297\n",
            "Epoch 14/20\n",
            "1250/1250 [==============================] - 233s 186ms/step - loss: 0.4405 - accuracy: 0.8460 - val_loss: 0.9237 - val_accuracy: 0.7291\n",
            "Epoch 15/20\n",
            "1250/1250 [==============================] - 231s 185ms/step - loss: 0.4197 - accuracy: 0.8537 - val_loss: 0.8543 - val_accuracy: 0.7334\n",
            "Epoch 16/20\n",
            "1250/1250 [==============================] - 233s 186ms/step - loss: 0.3960 - accuracy: 0.8613 - val_loss: 0.9573 - val_accuracy: 0.7143\n",
            "Epoch 17/20\n",
            "1250/1250 [==============================] - 227s 181ms/step - loss: 0.4044 - accuracy: 0.8597 - val_loss: 0.8812 - val_accuracy: 0.7275\n",
            "Epoch 18/20\n",
            "1250/1250 [==============================] - 228s 182ms/step - loss: 0.3888 - accuracy: 0.8665 - val_loss: 0.9584 - val_accuracy: 0.7153\n",
            "Epoch 19/20\n",
            "1250/1250 [==============================] - 231s 185ms/step - loss: 0.3755 - accuracy: 0.8706 - val_loss: 0.9768 - val_accuracy: 0.7125\n",
            "Epoch 20/20\n",
            "1250/1250 [==============================] - 230s 184ms/step - loss: 0.3672 - accuracy: 0.8759 - val_loss: 0.9878 - val_accuracy: 0.7281\n"
          ],
          "name": "stdout"
        }
      ]
    },
    {
      "cell_type": "markdown",
      "metadata": {
        "id": "VGVORRjd3i8w"
      },
      "source": [
        "## Plot the learning curve"
      ]
    },
    {
      "cell_type": "code",
      "metadata": {
        "id": "EkNaRdnj3i8y",
        "outputId": "d3f29c51-d210-424b-9fff-763b9f3e1671",
        "colab": {
          "base_uri": "https://localhost:8080/",
          "height": 404
        }
      },
      "source": [
        "plt.figure(figsize=(20,6))\n",
        "\n",
        "plt.subplot(121)\n",
        "plt.plot(history.history['loss'])\n",
        "plt.plot(history.history['val_loss'])\n",
        "plt.title('Model loss')\n",
        "plt.ylabel('Loss')\n",
        "plt.xlabel('Epoch')\n",
        "plt.legend(['Train', 'Val'], loc='upper right')\n",
        "#plt.ylim((0,2))\n",
        "\n",
        "plt.subplot(122)\n",
        "plt.plot(history.history['accuracy'])\n",
        "plt.plot(history.history['val_accuracy'])\n",
        "plt.title('Model accuracy')\n",
        "plt.ylabel('Accuracy')\n",
        "plt.xlabel('Epoch')\n",
        "plt.legend(['Train','Val'], loc='lower right')\n",
        "plt.show()"
      ],
      "execution_count": 100,
      "outputs": [
        {
          "output_type": "display_data",
          "data": {
            "image/png": "[encoded data removed]",
            "text/plain": [
              "<Figure size 1440x432 with 2 Axes>"
            ]
          },
          "metadata": {
            "tags": [],
            "needs_background": "light"
          }
        }
      ]
    },
    {
      "cell_type": "markdown",
      "metadata": {
        "id": "w75U6As0CGHx"
      },
      "source": [
        "## Save the model"
      ]
    },
    {
      "cell_type": "code",
      "metadata": {
        "id": "f0DX0H_GCIFt"
      },
      "source": [
        "model.save('cifar10_cnn.h5')"
      ],
      "execution_count": 101,
      "outputs": []
    },
    {
      "cell_type": "markdown",
      "metadata": {
        "id": "hpJQ7IB9-vZz"
      },
      "source": [
        "## Model evaluation"
      ]
    },
    {
      "cell_type": "code",
      "metadata": {
        "id": "d95T8ypFlCB_"
      },
      "source": [
        "from keras.models import load_model"
      ],
      "execution_count": 48,
      "outputs": []
    },
    {
      "cell_type": "code",
      "metadata": {
        "id": "sh7Kgr9uCkK2"
      },
      "source": [
        "# load the saved model\n",
        "model = load_model('cifar10_cnn.h5')"
      ],
      "execution_count": 102,
      "outputs": []
    },
    {
      "cell_type": "code",
      "metadata": {
        "id": "IhCOOeS6C1vZ",
        "outputId": "97bed4cd-6403-4c35-d87e-36927795ea2e",
        "colab": {
          "base_uri": "https://localhost:8080/",
          "height": 51
        }
      },
      "source": [
        "model.evaluate(X_test_norm, y_test_onehot, batch_size=32)"
      ],
      "execution_count": 103,
      "outputs": [
        {
          "output_type": "stream",
          "text": [
            "313/313 [==============================] - 13s 42ms/step - loss: 1.0175 - accuracy: 0.7225\n"
          ],
          "name": "stdout"
        },
        {
          "output_type": "execute_result",
          "data": {
            "text/plain": [
              "[1.0175265073776245, 0.7225000262260437]"
            ]
          },
          "metadata": {
            "tags": []
          },
          "execution_count": 103
        }
      ]
    },
    {
      "cell_type": "markdown",
      "metadata": {
        "id": "itcUCTV3Dien"
      },
      "source": [
        "## Make prediction on test set"
      ]
    },
    {
      "cell_type": "code",
      "metadata": {
        "id": "bkGHGj1DDFBx",
        "outputId": "e9a91434-9c64-47aa-d5f0-dc667be304b8",
        "colab": {
          "base_uri": "https://localhost:8080/",
          "height": 85
        }
      },
      "source": [
        "y_pred_prob = model.predict(X_test_norm)\n",
        "\n",
        "# example output\n",
        "print('y_pred_prob shape : ', y_pred_prob.shape)\n",
        "print('example : \\n', y_pred_prob[0])"
      ],
      "execution_count": 104,
      "outputs": [
        {
          "output_type": "stream",
          "text": [
            "y_pred_prob shape :  (10000, 10)\n",
            "example : \n",
            " [0.02661409 0.00943623 0.04078814 0.50261724 0.02623851 0.26191947\n",
            " 0.03226311 0.01571478 0.08057547 0.00383299]\n"
          ],
          "name": "stdout"
        }
      ]
    },
    {
      "cell_type": "code",
      "metadata": {
        "id": "vBHli2BIGkPb",
        "outputId": "6fddf16b-01f6-43a6-b223-36bebfb48cde",
        "colab": {
          "base_uri": "https://localhost:8080/",
          "height": 317
        }
      },
      "source": [
        "# example of image and prediction\n",
        "\n",
        "# create random number\n",
        "randnum = np.random.randint(0,len(X_test))\n",
        "\n",
        "# plot the random image\n",
        "plt.imshow(X_test[randnum])\n",
        "\n",
        "# get the image predicted probabilities and it's index (min-->max)\n",
        "probabilities = y_pred_prob[randnum]\n",
        "index = np.argsort(probabilities)\n",
        "\n",
        "# print the predicted results\n",
        "print(\"Most likely class:\", cifar_classes[index[-1]], \"-- Probability:\", probabilities[index[-1]])\n",
        "print(\"Second most likely class:\", cifar_classes[index[-2]], \"-- Probability:\", probabilities[index[-2]])\n",
        "print(\"Third most likely class:\", cifar_classes[index[-3]], \"-- Probability:\", probabilities[index[-3]])"
      ],
      "execution_count": 115,
      "outputs": [
        {
          "output_type": "stream",
          "text": [
            "Most likely class: frog -- Probability: 0.6513834\n",
            "Second most likely class: deer -- Probability: 0.30171555\n",
            "Third most likely class: bird -- Probability: 0.04632077\n"
          ],
          "name": "stdout"
        },
        {
          "output_type": "display_data",
          "data": {
            "image/png": "[encoded data removed]",
            "text/plain": [
              "<Figure size 432x288 with 1 Axes>"
            ]
          },
          "metadata": {
            "tags": [],
            "needs_background": "light"
          }
        }
      ]
    },
    {
      "cell_type": "code",
      "metadata": {
        "id": "qJqis-jZEIT8",
        "outputId": "8d9dcac3-2659-4410-84b5-d2644a165f3c",
        "colab": {
          "base_uri": "https://localhost:8080/",
          "height": 68
        }
      },
      "source": [
        "# convert y_pred_prob to integer label\n",
        "y_pred = np.array(list(map(np.argmax, y_pred_prob))).reshape(-1,1)\n",
        "\n",
        "print('first 10 example')\n",
        "print('y_test : ', y_test[:10, 0])\n",
        "print('y_pred : ', y_pred[:10,0])"
      ],
      "execution_count": 116,
      "outputs": [
        {
          "output_type": "stream",
          "text": [
            "first 10 example\n",
            "y_test :  [3 8 8 0 6 6 1 6 3 1]\n",
            "y_pred :  [3 1 0 0 6 6 1 3 3 1]\n"
          ],
          "name": "stdout"
        }
      ]
    },
    {
      "cell_type": "code",
      "metadata": {
        "id": "t-422YSCDUGp",
        "outputId": "2cbec127-04e8-4027-99c1-cd5f77886499",
        "colab": {
          "base_uri": "https://localhost:8080/",
          "height": 187
        }
      },
      "source": [
        "# Confusion matrix\n",
        "from sklearn import metrics\n",
        "cm = metrics.confusion_matrix(y_test, y_pred)\n",
        "cm"
      ],
      "execution_count": 117,
      "outputs": [
        {
          "output_type": "execute_result",
          "data": {
            "text/plain": [
              "array([[828,  15,  41,  14,  18,  10,   8,  13,  35,  18],\n",
              "       [ 21, 855,   2,   9,   6,   7,   6,   8,  22,  64],\n",
              "       [ 92,   2, 612,  54,  70,  66,  43,  37,  15,   9],\n",
              "       [ 40,   8,  70, 499,  57, 204,  61,  42,   6,  13],\n",
              "       [ 29,   6,  80,  51, 679,  42,  37,  65,   9,   2],\n",
              "       [ 13,   4,  52, 157,  38, 645,  20,  58,   8,   5],\n",
              "       [  7,   4,  62,  74,  62,  37, 727,  15,   7,   5],\n",
              "       [ 16,   4,  34,  38,  42,  49,   5, 796,   2,  14],\n",
              "       [105,  29,  17,  12,   3,   8,   7,   9, 791,  19],\n",
              "       [ 32,  80,   6,  17,   4,  14,   2,  19,  33, 793]])"
            ]
          },
          "metadata": {
            "tags": []
          },
          "execution_count": 117
        }
      ]
    }
  ]
}